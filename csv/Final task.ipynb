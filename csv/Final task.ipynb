{
 "cells": [
  {
   "cell_type": "markdown",
   "metadata": {},
   "source": [
    "<h2><center> Technology Trends and Tech Industry Demographics Project-Proyecto de tendencias tecnología y demografía de la industria tecnológica</center></h2>"
   ]
  },
  {
   "cell_type": "code",
   "execution_count": 1,
   "metadata": {},
   "outputs": [
    {
     "name": "stdout",
     "output_type": "stream",
     "text": [
      "Requirement already satisfied: pingouin in c:\\users\\jandr\\anaconda3\\lib\\site-packages (0.5.2)\n",
      "Requirement already satisfied: numpy>=1.19 in c:\\users\\jandr\\anaconda3\\lib\\site-packages (from pingouin) (1.21.5)\n",
      "Requirement already satisfied: statsmodels>=0.13 in c:\\users\\jandr\\anaconda3\\lib\\site-packages (from pingouin) (0.13.2)\n",
      "Requirement already satisfied: outdated in c:\\users\\jandr\\anaconda3\\lib\\site-packages (from pingouin) (0.2.1)\n",
      "Requirement already satisfied: seaborn>=0.11 in c:\\users\\jandr\\anaconda3\\lib\\site-packages (from pingouin) (0.11.2)\n",
      "Requirement already satisfied: matplotlib>=3.0.2 in c:\\users\\jandr\\anaconda3\\lib\\site-packages (from pingouin) (3.5.1)\n",
      "Requirement already satisfied: pandas>=1.0 in c:\\users\\jandr\\anaconda3\\lib\\site-packages (from pingouin) (1.4.2)\n",
      "Requirement already satisfied: tabulate in c:\\users\\jandr\\anaconda3\\lib\\site-packages (from pingouin) (0.8.9)\n",
      "Requirement already satisfied: pandas-flavor>=0.2.0 in c:\\users\\jandr\\anaconda3\\lib\\site-packages (from pingouin) (0.3.0)\n",
      "Requirement already satisfied: scipy>=1.7 in c:\\users\\jandr\\anaconda3\\lib\\site-packages (from pingouin) (1.7.3)\n",
      "Requirement already satisfied: scikit-learn<1.1.0 in c:\\users\\jandr\\anaconda3\\lib\\site-packages (from pingouin) (1.0.2)\n",
      "Requirement already satisfied: pyparsing>=2.2.1 in c:\\users\\jandr\\anaconda3\\lib\\site-packages (from matplotlib>=3.0.2->pingouin) (3.0.4)\n",
      "Requirement already satisfied: kiwisolver>=1.0.1 in c:\\users\\jandr\\anaconda3\\lib\\site-packages (from matplotlib>=3.0.2->pingouin) (1.3.2)\n",
      "Requirement already satisfied: cycler>=0.10 in c:\\users\\jandr\\anaconda3\\lib\\site-packages (from matplotlib>=3.0.2->pingouin) (0.11.0)\n",
      "Requirement already satisfied: pillow>=6.2.0 in c:\\users\\jandr\\anaconda3\\lib\\site-packages (from matplotlib>=3.0.2->pingouin) (9.0.1)\n",
      "Requirement already satisfied: python-dateutil>=2.7 in c:\\users\\jandr\\anaconda3\\lib\\site-packages (from matplotlib>=3.0.2->pingouin) (2.8.2)\n",
      "Requirement already satisfied: packaging>=20.0 in c:\\users\\jandr\\anaconda3\\lib\\site-packages (from matplotlib>=3.0.2->pingouin) (21.3)\n",
      "Requirement already satisfied: fonttools>=4.22.0 in c:\\users\\jandr\\anaconda3\\lib\\site-packages (from matplotlib>=3.0.2->pingouin) (4.25.0)\n",
      "Requirement already satisfied: pytz>=2020.1 in c:\\users\\jandr\\anaconda3\\lib\\site-packages (from pandas>=1.0->pingouin) (2021.3)\n",
      "Requirement already satisfied: lazy-loader==0.1rc2 in c:\\users\\jandr\\anaconda3\\lib\\site-packages (from pandas-flavor>=0.2.0->pingouin) (0.1rc2)\n",
      "Requirement already satisfied: xarray in c:\\users\\jandr\\anaconda3\\lib\\site-packages (from pandas-flavor>=0.2.0->pingouin) (0.20.1)\n",
      "Requirement already satisfied: six>=1.5 in c:\\users\\jandr\\anaconda3\\lib\\site-packages (from python-dateutil>=2.7->matplotlib>=3.0.2->pingouin) (1.14.0)\n",
      "Requirement already satisfied: threadpoolctl>=2.0.0 in c:\\users\\jandr\\anaconda3\\lib\\site-packages (from scikit-learn<1.1.0->pingouin) (2.2.0)\n",
      "Requirement already satisfied: joblib>=0.11 in c:\\users\\jandr\\anaconda3\\lib\\site-packages (from scikit-learn<1.1.0->pingouin) (1.1.0)\n",
      "Requirement already satisfied: patsy>=0.5.2 in c:\\users\\jandr\\anaconda3\\lib\\site-packages (from statsmodels>=0.13->pingouin) (0.5.2)\n",
      "Requirement already satisfied: requests in c:\\users\\jandr\\anaconda3\\lib\\site-packages (from outdated->pingouin) (2.26.0)\n",
      "Requirement already satisfied: littleutils in c:\\users\\jandr\\anaconda3\\lib\\site-packages (from outdated->pingouin) (0.2.2)\n",
      "Requirement already satisfied: charset-normalizer~=2.0.0 in c:\\users\\jandr\\anaconda3\\lib\\site-packages (from requests->outdated->pingouin) (2.0.4)\n",
      "Requirement already satisfied: certifi>=2017.4.17 in c:\\users\\jandr\\anaconda3\\lib\\site-packages (from requests->outdated->pingouin) (2021.10.8)\n",
      "Requirement already satisfied: urllib3<1.27,>=1.21.1 in c:\\users\\jandr\\anaconda3\\lib\\site-packages (from requests->outdated->pingouin) (1.26.9)\n",
      "Requirement already satisfied: idna<4,>=2.5 in c:\\users\\jandr\\anaconda3\\lib\\site-packages (from requests->outdated->pingouin) (3.3)\n"
     ]
    }
   ],
   "source": [
    "!pip install pingouin\n",
    "import pandas as pd\n",
    "import numpy as np\n",
    "import seaborn as sns\n",
    "import sklearn\n",
    "from sklearn.impute import KNNImputer\n",
    "from sklearn.svm import SVC\n",
    "from sklearn.datasets import load_boston\n",
    "from sklearn.preprocessing import StandardScaler\n",
    "from sklearn.datasets import make_classification\n",
    "from sklearn.model_selection import train_test_split\n",
    "from sklearn.preprocessing import OrdinalEncoder\n",
    "from sklearn.pipeline import Pipeline\n",
    "from sklearn.datasets import load_diabetes\n",
    "import statsmodels.api as sm\n",
    "import pingouin as pg\n",
    "from scipy import stats\n",
    "from scipy.stats import pearsonr\n",
    "import matplotlib.pyplot as plt\n",
    "%matplotlib inline\n",
    "import seaborn as sns\n",
    "\n",
    "\n"
   ]
  },
  {
   "cell_type": "code",
   "execution_count": 2,
   "metadata": {},
   "outputs": [],
   "source": [
    "data_demo= pd.read_csv('m5_survey_data_demographics.csv', header=0)\n"
   ]
  },
  {
   "cell_type": "markdown",
   "metadata": {},
   "source": [
    "\n"
   ]
  },
  {
   "cell_type": "code",
   "execution_count": 3,
   "metadata": {},
   "outputs": [],
   "source": [
    "#data_technologies= pd.read_csv('m5_survey_data_technologies_normalised.csv',header=0)\n",
    "\n",
    "#The database were cleaned of secondary answers using excel in order to maintain the accuracy of Data without effect to much the consistency.\n",
    "#La base de datos se limpió de respuestas secundarias utilizando Excel para mantener la precisión de los datos sin afectar mucho la consistencia.\n",
    "\n",
    "data_technologies= pd.read_excel('m5_survey_data_technologies_normalised.xlsx', header=0)"
   ]
  },
  {
   "cell_type": "code",
   "execution_count": 4,
   "metadata": {},
   "outputs": [],
   "source": [
    "df1=data_technologies.replace('?',np.NaN)\n",
    "df2=data_demo.replace('?',np.NaN)\n"
   ]
  },
  {
   "cell_type": "markdown",
   "metadata": {},
   "source": [
    "<h3><center> Cleaning Data - Limpieza de Datos</center></h3>"
   ]
  },
  {
   "cell_type": "code",
   "execution_count": 5,
   "metadata": {},
   "outputs": [
    {
     "data": {
      "text/html": [
       "<div>\n",
       "<style scoped>\n",
       "    .dataframe tbody tr th:only-of-type {\n",
       "        vertical-align: middle;\n",
       "    }\n",
       "\n",
       "    .dataframe tbody tr th {\n",
       "        vertical-align: top;\n",
       "    }\n",
       "\n",
       "    .dataframe thead th {\n",
       "        text-align: right;\n",
       "    }\n",
       "</style>\n",
       "<table border=\"1\" class=\"dataframe\">\n",
       "  <thead>\n",
       "    <tr style=\"text-align: right;\">\n",
       "      <th></th>\n",
       "      <th>Respondent</th>\n",
       "      <th>LanguageWorkedWith</th>\n",
       "      <th>LanguageDesireNextYear</th>\n",
       "      <th>DatabaseWorkedWith</th>\n",
       "      <th>DatabaseDesireNextYear</th>\n",
       "      <th>PlatformWorkedWith</th>\n",
       "      <th>PlatformDesireNextYear</th>\n",
       "      <th>WebFrameWorkedWith</th>\n",
       "      <th>WebFrameDesireNextYear</th>\n",
       "      <th>DevEnviron</th>\n",
       "      <th>Respondent - Copy</th>\n",
       "    </tr>\n",
       "  </thead>\n",
       "  <tbody>\n",
       "    <tr>\n",
       "      <th>0</th>\n",
       "      <td>4</td>\n",
       "      <td>C</td>\n",
       "      <td>C</td>\n",
       "      <td>MySQL</td>\n",
       "      <td>MySQL</td>\n",
       "      <td>Linux</td>\n",
       "      <td>Linux</td>\n",
       "      <td>NaN</td>\n",
       "      <td>NaN</td>\n",
       "      <td>Eclipse</td>\n",
       "      <td>4</td>\n",
       "    </tr>\n",
       "    <tr>\n",
       "      <th>1</th>\n",
       "      <td>9</td>\n",
       "      <td>Bash/Shell/PowerShell</td>\n",
       "      <td>Bash/Shell/PowerShell</td>\n",
       "      <td>DynamoDB</td>\n",
       "      <td>PostgreSQL</td>\n",
       "      <td>AWS</td>\n",
       "      <td>AWS</td>\n",
       "      <td>Express</td>\n",
       "      <td>Express</td>\n",
       "      <td>Vim</td>\n",
       "      <td>9</td>\n",
       "    </tr>\n",
       "    <tr>\n",
       "      <th>2</th>\n",
       "      <td>13</td>\n",
       "      <td>Bash/Shell/PowerShell</td>\n",
       "      <td>Bash/Shell/PowerShell</td>\n",
       "      <td>Couchbase</td>\n",
       "      <td>Firebase</td>\n",
       "      <td>Android</td>\n",
       "      <td>Android</td>\n",
       "      <td>Angular/Angular.js</td>\n",
       "      <td>Express</td>\n",
       "      <td>Vim</td>\n",
       "      <td>13</td>\n",
       "    </tr>\n",
       "    <tr>\n",
       "      <th>3</th>\n",
       "      <td>16</td>\n",
       "      <td>Bash/Shell/PowerShell</td>\n",
       "      <td>C#</td>\n",
       "      <td>MongoDB</td>\n",
       "      <td>Elasticsearch</td>\n",
       "      <td>NaN</td>\n",
       "      <td>AWS</td>\n",
       "      <td>Angular/Angular.js</td>\n",
       "      <td>Angular/Angular.js</td>\n",
       "      <td>Visual Studio</td>\n",
       "      <td>16</td>\n",
       "    </tr>\n",
       "    <tr>\n",
       "      <th>4</th>\n",
       "      <td>17</td>\n",
       "      <td>Bash/Shell/PowerShell</td>\n",
       "      <td>Bash/Shell/PowerShell</td>\n",
       "      <td>MongoDB</td>\n",
       "      <td>Elasticsearch</td>\n",
       "      <td>Arduino</td>\n",
       "      <td>Docker</td>\n",
       "      <td>Angular/Angular.js</td>\n",
       "      <td>Angular/Angular.js</td>\n",
       "      <td>IntelliJ</td>\n",
       "      <td>17</td>\n",
       "    </tr>\n",
       "    <tr>\n",
       "      <th>...</th>\n",
       "      <td>...</td>\n",
       "      <td>...</td>\n",
       "      <td>...</td>\n",
       "      <td>...</td>\n",
       "      <td>...</td>\n",
       "      <td>...</td>\n",
       "      <td>...</td>\n",
       "      <td>...</td>\n",
       "      <td>...</td>\n",
       "      <td>...</td>\n",
       "      <td>...</td>\n",
       "    </tr>\n",
       "    <tr>\n",
       "      <th>11393</th>\n",
       "      <td>25136</td>\n",
       "      <td>C#</td>\n",
       "      <td>C#</td>\n",
       "      <td>Microsoft SQL Server</td>\n",
       "      <td>Microsoft SQL Server</td>\n",
       "      <td>Kubernetes</td>\n",
       "      <td>AWS</td>\n",
       "      <td>ASP.NET</td>\n",
       "      <td>Vue.js</td>\n",
       "      <td>Eclipse</td>\n",
       "      <td>25136</td>\n",
       "    </tr>\n",
       "    <tr>\n",
       "      <th>11394</th>\n",
       "      <td>25137</td>\n",
       "      <td>HTML/CSS</td>\n",
       "      <td>HTML/CSS</td>\n",
       "      <td>MySQL</td>\n",
       "      <td>MariaDB</td>\n",
       "      <td>AWS</td>\n",
       "      <td>Android</td>\n",
       "      <td>NaN</td>\n",
       "      <td>jQuery</td>\n",
       "      <td>NetBeans</td>\n",
       "      <td>25137</td>\n",
       "    </tr>\n",
       "    <tr>\n",
       "      <th>11395</th>\n",
       "      <td>25138</td>\n",
       "      <td>Assembly</td>\n",
       "      <td>C#</td>\n",
       "      <td>PostgreSQL</td>\n",
       "      <td>NaN</td>\n",
       "      <td>Linux</td>\n",
       "      <td>Android</td>\n",
       "      <td>NaN</td>\n",
       "      <td>NaN</td>\n",
       "      <td>Eclipse</td>\n",
       "      <td>25138</td>\n",
       "    </tr>\n",
       "    <tr>\n",
       "      <th>11396</th>\n",
       "      <td>25141</td>\n",
       "      <td>Bash/Shell/PowerShell</td>\n",
       "      <td>C++</td>\n",
       "      <td>Microsoft SQL Server</td>\n",
       "      <td>Elasticsearch</td>\n",
       "      <td>Android</td>\n",
       "      <td>Android</td>\n",
       "      <td>Angular/Angular.js</td>\n",
       "      <td>Angular/Angular.js</td>\n",
       "      <td>Atom</td>\n",
       "      <td>25141</td>\n",
       "    </tr>\n",
       "    <tr>\n",
       "      <th>11397</th>\n",
       "      <td>25142</td>\n",
       "      <td>Bash/Shell/PowerShell</td>\n",
       "      <td>Bash/Shell/PowerShell</td>\n",
       "      <td>PostgreSQL</td>\n",
       "      <td>PostgreSQL</td>\n",
       "      <td>Linux</td>\n",
       "      <td>Docker</td>\n",
       "      <td>NaN</td>\n",
       "      <td>NaN</td>\n",
       "      <td>Vim</td>\n",
       "      <td>25142</td>\n",
       "    </tr>\n",
       "  </tbody>\n",
       "</table>\n",
       "<p>11398 rows × 11 columns</p>\n",
       "</div>"
      ],
      "text/plain": [
       "       Respondent     LanguageWorkedWith LanguageDesireNextYear  \\\n",
       "0               4                      C                      C   \n",
       "1               9  Bash/Shell/PowerShell  Bash/Shell/PowerShell   \n",
       "2              13  Bash/Shell/PowerShell  Bash/Shell/PowerShell   \n",
       "3              16  Bash/Shell/PowerShell                     C#   \n",
       "4              17  Bash/Shell/PowerShell  Bash/Shell/PowerShell   \n",
       "...           ...                    ...                    ...   \n",
       "11393       25136                     C#                     C#   \n",
       "11394       25137               HTML/CSS               HTML/CSS   \n",
       "11395       25138               Assembly                     C#   \n",
       "11396       25141  Bash/Shell/PowerShell                    C++   \n",
       "11397       25142  Bash/Shell/PowerShell  Bash/Shell/PowerShell   \n",
       "\n",
       "         DatabaseWorkedWith DatabaseDesireNextYear PlatformWorkedWith  \\\n",
       "0                     MySQL                  MySQL              Linux   \n",
       "1                  DynamoDB             PostgreSQL                AWS   \n",
       "2                 Couchbase               Firebase            Android   \n",
       "3                   MongoDB          Elasticsearch                NaN   \n",
       "4                   MongoDB          Elasticsearch            Arduino   \n",
       "...                     ...                    ...                ...   \n",
       "11393  Microsoft SQL Server   Microsoft SQL Server         Kubernetes   \n",
       "11394                 MySQL                MariaDB                AWS   \n",
       "11395            PostgreSQL                    NaN              Linux   \n",
       "11396  Microsoft SQL Server          Elasticsearch            Android   \n",
       "11397            PostgreSQL             PostgreSQL              Linux   \n",
       "\n",
       "      PlatformDesireNextYear  WebFrameWorkedWith WebFrameDesireNextYear  \\\n",
       "0                      Linux                 NaN                    NaN   \n",
       "1                        AWS             Express                Express   \n",
       "2                    Android  Angular/Angular.js                Express   \n",
       "3                        AWS  Angular/Angular.js     Angular/Angular.js   \n",
       "4                     Docker  Angular/Angular.js     Angular/Angular.js   \n",
       "...                      ...                 ...                    ...   \n",
       "11393                    AWS             ASP.NET                 Vue.js   \n",
       "11394                Android                 NaN                 jQuery   \n",
       "11395                Android                 NaN                    NaN   \n",
       "11396                Android  Angular/Angular.js     Angular/Angular.js   \n",
       "11397                 Docker                 NaN                    NaN   \n",
       "\n",
       "          DevEnviron  Respondent - Copy  \n",
       "0            Eclipse                  4  \n",
       "1                Vim                  9  \n",
       "2                Vim                 13  \n",
       "3      Visual Studio                 16  \n",
       "4           IntelliJ                 17  \n",
       "...              ...                ...  \n",
       "11393        Eclipse              25136  \n",
       "11394       NetBeans              25137  \n",
       "11395        Eclipse              25138  \n",
       "11396           Atom              25141  \n",
       "11397            Vim              25142  \n",
       "\n",
       "[11398 rows x 11 columns]"
      ]
     },
     "execution_count": 5,
     "metadata": {},
     "output_type": "execute_result"
    }
   ],
   "source": [
    "df1.drop_duplicates()"
   ]
  },
  {
   "cell_type": "code",
   "execution_count": 6,
   "metadata": {},
   "outputs": [
    {
     "data": {
      "text/html": [
       "<div>\n",
       "<style scoped>\n",
       "    .dataframe tbody tr th:only-of-type {\n",
       "        vertical-align: middle;\n",
       "    }\n",
       "\n",
       "    .dataframe tbody tr th {\n",
       "        vertical-align: top;\n",
       "    }\n",
       "\n",
       "    .dataframe thead th {\n",
       "        text-align: right;\n",
       "    }\n",
       "</style>\n",
       "<table border=\"1\" class=\"dataframe\">\n",
       "  <thead>\n",
       "    <tr style=\"text-align: right;\">\n",
       "      <th></th>\n",
       "      <th>Respondent</th>\n",
       "      <th>LanguageWorkedWith</th>\n",
       "      <th>LanguageDesireNextYear</th>\n",
       "      <th>DatabaseWorkedWith</th>\n",
       "      <th>DatabaseDesireNextYear</th>\n",
       "      <th>PlatformWorkedWith</th>\n",
       "      <th>PlatformDesireNextYear</th>\n",
       "      <th>WebFrameWorkedWith</th>\n",
       "      <th>WebFrameDesireNextYear</th>\n",
       "      <th>DevEnviron</th>\n",
       "      <th>Respondent - Copy</th>\n",
       "    </tr>\n",
       "  </thead>\n",
       "  <tbody>\n",
       "    <tr>\n",
       "      <th>0</th>\n",
       "      <td>4</td>\n",
       "      <td>C</td>\n",
       "      <td>C</td>\n",
       "      <td>MySQL</td>\n",
       "      <td>MySQL</td>\n",
       "      <td>Linux</td>\n",
       "      <td>Linux</td>\n",
       "      <td>NaN</td>\n",
       "      <td>NaN</td>\n",
       "      <td>Eclipse</td>\n",
       "      <td>4</td>\n",
       "    </tr>\n",
       "    <tr>\n",
       "      <th>1</th>\n",
       "      <td>9</td>\n",
       "      <td>Bash/Shell/PowerShell</td>\n",
       "      <td>Bash/Shell/PowerShell</td>\n",
       "      <td>DynamoDB</td>\n",
       "      <td>PostgreSQL</td>\n",
       "      <td>AWS</td>\n",
       "      <td>AWS</td>\n",
       "      <td>Express</td>\n",
       "      <td>Express</td>\n",
       "      <td>Vim</td>\n",
       "      <td>9</td>\n",
       "    </tr>\n",
       "    <tr>\n",
       "      <th>2</th>\n",
       "      <td>13</td>\n",
       "      <td>Bash/Shell/PowerShell</td>\n",
       "      <td>Bash/Shell/PowerShell</td>\n",
       "      <td>Couchbase</td>\n",
       "      <td>Firebase</td>\n",
       "      <td>Android</td>\n",
       "      <td>Android</td>\n",
       "      <td>Angular/Angular.js</td>\n",
       "      <td>Express</td>\n",
       "      <td>Vim</td>\n",
       "      <td>13</td>\n",
       "    </tr>\n",
       "    <tr>\n",
       "      <th>3</th>\n",
       "      <td>16</td>\n",
       "      <td>Bash/Shell/PowerShell</td>\n",
       "      <td>C#</td>\n",
       "      <td>MongoDB</td>\n",
       "      <td>Elasticsearch</td>\n",
       "      <td>NaN</td>\n",
       "      <td>AWS</td>\n",
       "      <td>Angular/Angular.js</td>\n",
       "      <td>Angular/Angular.js</td>\n",
       "      <td>Visual Studio</td>\n",
       "      <td>16</td>\n",
       "    </tr>\n",
       "    <tr>\n",
       "      <th>4</th>\n",
       "      <td>17</td>\n",
       "      <td>Bash/Shell/PowerShell</td>\n",
       "      <td>Bash/Shell/PowerShell</td>\n",
       "      <td>MongoDB</td>\n",
       "      <td>Elasticsearch</td>\n",
       "      <td>Arduino</td>\n",
       "      <td>Docker</td>\n",
       "      <td>Angular/Angular.js</td>\n",
       "      <td>Angular/Angular.js</td>\n",
       "      <td>IntelliJ</td>\n",
       "      <td>17</td>\n",
       "    </tr>\n",
       "    <tr>\n",
       "      <th>...</th>\n",
       "      <td>...</td>\n",
       "      <td>...</td>\n",
       "      <td>...</td>\n",
       "      <td>...</td>\n",
       "      <td>...</td>\n",
       "      <td>...</td>\n",
       "      <td>...</td>\n",
       "      <td>...</td>\n",
       "      <td>...</td>\n",
       "      <td>...</td>\n",
       "      <td>...</td>\n",
       "    </tr>\n",
       "    <tr>\n",
       "      <th>11393</th>\n",
       "      <td>25136</td>\n",
       "      <td>C#</td>\n",
       "      <td>C#</td>\n",
       "      <td>Microsoft SQL Server</td>\n",
       "      <td>Microsoft SQL Server</td>\n",
       "      <td>Kubernetes</td>\n",
       "      <td>AWS</td>\n",
       "      <td>ASP.NET</td>\n",
       "      <td>Vue.js</td>\n",
       "      <td>Eclipse</td>\n",
       "      <td>25136</td>\n",
       "    </tr>\n",
       "    <tr>\n",
       "      <th>11394</th>\n",
       "      <td>25137</td>\n",
       "      <td>HTML/CSS</td>\n",
       "      <td>HTML/CSS</td>\n",
       "      <td>MySQL</td>\n",
       "      <td>MariaDB</td>\n",
       "      <td>AWS</td>\n",
       "      <td>Android</td>\n",
       "      <td>NaN</td>\n",
       "      <td>jQuery</td>\n",
       "      <td>NetBeans</td>\n",
       "      <td>25137</td>\n",
       "    </tr>\n",
       "    <tr>\n",
       "      <th>11395</th>\n",
       "      <td>25138</td>\n",
       "      <td>Assembly</td>\n",
       "      <td>C#</td>\n",
       "      <td>PostgreSQL</td>\n",
       "      <td>NaN</td>\n",
       "      <td>Linux</td>\n",
       "      <td>Android</td>\n",
       "      <td>NaN</td>\n",
       "      <td>NaN</td>\n",
       "      <td>Eclipse</td>\n",
       "      <td>25138</td>\n",
       "    </tr>\n",
       "    <tr>\n",
       "      <th>11396</th>\n",
       "      <td>25141</td>\n",
       "      <td>Bash/Shell/PowerShell</td>\n",
       "      <td>C++</td>\n",
       "      <td>Microsoft SQL Server</td>\n",
       "      <td>Elasticsearch</td>\n",
       "      <td>Android</td>\n",
       "      <td>Android</td>\n",
       "      <td>Angular/Angular.js</td>\n",
       "      <td>Angular/Angular.js</td>\n",
       "      <td>Atom</td>\n",
       "      <td>25141</td>\n",
       "    </tr>\n",
       "    <tr>\n",
       "      <th>11397</th>\n",
       "      <td>25142</td>\n",
       "      <td>Bash/Shell/PowerShell</td>\n",
       "      <td>Bash/Shell/PowerShell</td>\n",
       "      <td>PostgreSQL</td>\n",
       "      <td>PostgreSQL</td>\n",
       "      <td>Linux</td>\n",
       "      <td>Docker</td>\n",
       "      <td>NaN</td>\n",
       "      <td>NaN</td>\n",
       "      <td>Vim</td>\n",
       "      <td>25142</td>\n",
       "    </tr>\n",
       "  </tbody>\n",
       "</table>\n",
       "<p>11398 rows × 11 columns</p>\n",
       "</div>"
      ],
      "text/plain": [
       "       Respondent     LanguageWorkedWith LanguageDesireNextYear  \\\n",
       "0               4                      C                      C   \n",
       "1               9  Bash/Shell/PowerShell  Bash/Shell/PowerShell   \n",
       "2              13  Bash/Shell/PowerShell  Bash/Shell/PowerShell   \n",
       "3              16  Bash/Shell/PowerShell                     C#   \n",
       "4              17  Bash/Shell/PowerShell  Bash/Shell/PowerShell   \n",
       "...           ...                    ...                    ...   \n",
       "11393       25136                     C#                     C#   \n",
       "11394       25137               HTML/CSS               HTML/CSS   \n",
       "11395       25138               Assembly                     C#   \n",
       "11396       25141  Bash/Shell/PowerShell                    C++   \n",
       "11397       25142  Bash/Shell/PowerShell  Bash/Shell/PowerShell   \n",
       "\n",
       "         DatabaseWorkedWith DatabaseDesireNextYear PlatformWorkedWith  \\\n",
       "0                     MySQL                  MySQL              Linux   \n",
       "1                  DynamoDB             PostgreSQL                AWS   \n",
       "2                 Couchbase               Firebase            Android   \n",
       "3                   MongoDB          Elasticsearch                NaN   \n",
       "4                   MongoDB          Elasticsearch            Arduino   \n",
       "...                     ...                    ...                ...   \n",
       "11393  Microsoft SQL Server   Microsoft SQL Server         Kubernetes   \n",
       "11394                 MySQL                MariaDB                AWS   \n",
       "11395            PostgreSQL                    NaN              Linux   \n",
       "11396  Microsoft SQL Server          Elasticsearch            Android   \n",
       "11397            PostgreSQL             PostgreSQL              Linux   \n",
       "\n",
       "      PlatformDesireNextYear  WebFrameWorkedWith WebFrameDesireNextYear  \\\n",
       "0                      Linux                 NaN                    NaN   \n",
       "1                        AWS             Express                Express   \n",
       "2                    Android  Angular/Angular.js                Express   \n",
       "3                        AWS  Angular/Angular.js     Angular/Angular.js   \n",
       "4                     Docker  Angular/Angular.js     Angular/Angular.js   \n",
       "...                      ...                 ...                    ...   \n",
       "11393                    AWS             ASP.NET                 Vue.js   \n",
       "11394                Android                 NaN                 jQuery   \n",
       "11395                Android                 NaN                    NaN   \n",
       "11396                Android  Angular/Angular.js     Angular/Angular.js   \n",
       "11397                 Docker                 NaN                    NaN   \n",
       "\n",
       "          DevEnviron  Respondent - Copy  \n",
       "0            Eclipse                  4  \n",
       "1                Vim                  9  \n",
       "2                Vim                 13  \n",
       "3      Visual Studio                 16  \n",
       "4           IntelliJ                 17  \n",
       "...              ...                ...  \n",
       "11393        Eclipse              25136  \n",
       "11394       NetBeans              25137  \n",
       "11395        Eclipse              25138  \n",
       "11396           Atom              25141  \n",
       "11397            Vim              25142  \n",
       "\n",
       "[11398 rows x 11 columns]"
      ]
     },
     "execution_count": 6,
     "metadata": {},
     "output_type": "execute_result"
    }
   ],
   "source": [
    "df1 = df1.drop_duplicates()\n",
    "df1"
   ]
  },
  {
   "cell_type": "code",
   "execution_count": 7,
   "metadata": {},
   "outputs": [
    {
     "data": {
      "text/html": [
       "<div>\n",
       "<style scoped>\n",
       "    .dataframe tbody tr th:only-of-type {\n",
       "        vertical-align: middle;\n",
       "    }\n",
       "\n",
       "    .dataframe tbody tr th {\n",
       "        vertical-align: top;\n",
       "    }\n",
       "\n",
       "    .dataframe thead th {\n",
       "        text-align: right;\n",
       "    }\n",
       "</style>\n",
       "<table border=\"1\" class=\"dataframe\">\n",
       "  <thead>\n",
       "    <tr style=\"text-align: right;\">\n",
       "      <th></th>\n",
       "      <th>Respondent</th>\n",
       "      <th>MainBranch</th>\n",
       "      <th>Hobbyist</th>\n",
       "      <th>OpenSourcer</th>\n",
       "      <th>OpenSource</th>\n",
       "      <th>Employment</th>\n",
       "      <th>Country</th>\n",
       "      <th>Student</th>\n",
       "      <th>EdLevel</th>\n",
       "      <th>UndergradMajor</th>\n",
       "      <th>...</th>\n",
       "      <th>WelcomeChange</th>\n",
       "      <th>SONewContent</th>\n",
       "      <th>Age</th>\n",
       "      <th>Gender</th>\n",
       "      <th>Trans</th>\n",
       "      <th>Sexuality</th>\n",
       "      <th>Ethnicity</th>\n",
       "      <th>Dependents</th>\n",
       "      <th>SurveyLength</th>\n",
       "      <th>SurveyEase</th>\n",
       "    </tr>\n",
       "  </thead>\n",
       "  <tbody>\n",
       "    <tr>\n",
       "      <th>0</th>\n",
       "      <td>4</td>\n",
       "      <td>I am a developer by profession</td>\n",
       "      <td>No</td>\n",
       "      <td>Never</td>\n",
       "      <td>The quality of OSS and closed source software ...</td>\n",
       "      <td>Employed full-time</td>\n",
       "      <td>United States</td>\n",
       "      <td>No</td>\n",
       "      <td>Bachelor’s degree (BA, BS, B.Eng., etc.)</td>\n",
       "      <td>Computer science, computer engineering, or sof...</td>\n",
       "      <td>...</td>\n",
       "      <td>Just as welcome now as I felt last year</td>\n",
       "      <td>Tech articles written by other developers;Indu...</td>\n",
       "      <td>22.0</td>\n",
       "      <td>Man</td>\n",
       "      <td>No</td>\n",
       "      <td>Straight / Heterosexual</td>\n",
       "      <td>White or of European descent</td>\n",
       "      <td>No</td>\n",
       "      <td>Appropriate in length</td>\n",
       "      <td>Easy</td>\n",
       "    </tr>\n",
       "    <tr>\n",
       "      <th>1</th>\n",
       "      <td>9</td>\n",
       "      <td>I am a developer by profession</td>\n",
       "      <td>Yes</td>\n",
       "      <td>Once a month or more often</td>\n",
       "      <td>The quality of OSS and closed source software ...</td>\n",
       "      <td>Employed full-time</td>\n",
       "      <td>New Zealand</td>\n",
       "      <td>No</td>\n",
       "      <td>Some college/university study without earning ...</td>\n",
       "      <td>Computer science, computer engineering, or sof...</td>\n",
       "      <td>...</td>\n",
       "      <td>Just as welcome now as I felt last year</td>\n",
       "      <td>NaN</td>\n",
       "      <td>23.0</td>\n",
       "      <td>Man</td>\n",
       "      <td>No</td>\n",
       "      <td>Bisexual</td>\n",
       "      <td>White or of European descent</td>\n",
       "      <td>No</td>\n",
       "      <td>Appropriate in length</td>\n",
       "      <td>Neither easy nor difficult</td>\n",
       "    </tr>\n",
       "    <tr>\n",
       "      <th>2</th>\n",
       "      <td>13</td>\n",
       "      <td>I am a developer by profession</td>\n",
       "      <td>Yes</td>\n",
       "      <td>Less than once a month but more than once per ...</td>\n",
       "      <td>OSS is, on average, of HIGHER quality than pro...</td>\n",
       "      <td>Employed full-time</td>\n",
       "      <td>United States</td>\n",
       "      <td>No</td>\n",
       "      <td>Master’s degree (MA, MS, M.Eng., MBA, etc.)</td>\n",
       "      <td>Computer science, computer engineering, or sof...</td>\n",
       "      <td>...</td>\n",
       "      <td>Somewhat more welcome now than last year</td>\n",
       "      <td>Tech articles written by other developers;Cour...</td>\n",
       "      <td>28.0</td>\n",
       "      <td>Man</td>\n",
       "      <td>No</td>\n",
       "      <td>Straight / Heterosexual</td>\n",
       "      <td>White or of European descent</td>\n",
       "      <td>Yes</td>\n",
       "      <td>Appropriate in length</td>\n",
       "      <td>Easy</td>\n",
       "    </tr>\n",
       "    <tr>\n",
       "      <th>3</th>\n",
       "      <td>16</td>\n",
       "      <td>I am a developer by profession</td>\n",
       "      <td>Yes</td>\n",
       "      <td>Never</td>\n",
       "      <td>The quality of OSS and closed source software ...</td>\n",
       "      <td>Employed full-time</td>\n",
       "      <td>United Kingdom</td>\n",
       "      <td>No</td>\n",
       "      <td>Master’s degree (MA, MS, M.Eng., MBA, etc.)</td>\n",
       "      <td>NaN</td>\n",
       "      <td>...</td>\n",
       "      <td>Just as welcome now as I felt last year</td>\n",
       "      <td>Tech articles written by other developers;Indu...</td>\n",
       "      <td>26.0</td>\n",
       "      <td>Man</td>\n",
       "      <td>No</td>\n",
       "      <td>Straight / Heterosexual</td>\n",
       "      <td>White or of European descent</td>\n",
       "      <td>No</td>\n",
       "      <td>Appropriate in length</td>\n",
       "      <td>Neither easy nor difficult</td>\n",
       "    </tr>\n",
       "    <tr>\n",
       "      <th>4</th>\n",
       "      <td>17</td>\n",
       "      <td>I am a developer by profession</td>\n",
       "      <td>Yes</td>\n",
       "      <td>Less than once a month but more than once per ...</td>\n",
       "      <td>The quality of OSS and closed source software ...</td>\n",
       "      <td>Employed full-time</td>\n",
       "      <td>Australia</td>\n",
       "      <td>No</td>\n",
       "      <td>Bachelor’s degree (BA, BS, B.Eng., etc.)</td>\n",
       "      <td>Computer science, computer engineering, or sof...</td>\n",
       "      <td>...</td>\n",
       "      <td>Just as welcome now as I felt last year</td>\n",
       "      <td>Tech articles written by other developers;Indu...</td>\n",
       "      <td>29.0</td>\n",
       "      <td>Man</td>\n",
       "      <td>No</td>\n",
       "      <td>Straight / Heterosexual</td>\n",
       "      <td>Hispanic or Latino/Latina;Multiracial</td>\n",
       "      <td>No</td>\n",
       "      <td>Appropriate in length</td>\n",
       "      <td>Easy</td>\n",
       "    </tr>\n",
       "    <tr>\n",
       "      <th>...</th>\n",
       "      <td>...</td>\n",
       "      <td>...</td>\n",
       "      <td>...</td>\n",
       "      <td>...</td>\n",
       "      <td>...</td>\n",
       "      <td>...</td>\n",
       "      <td>...</td>\n",
       "      <td>...</td>\n",
       "      <td>...</td>\n",
       "      <td>...</td>\n",
       "      <td>...</td>\n",
       "      <td>...</td>\n",
       "      <td>...</td>\n",
       "      <td>...</td>\n",
       "      <td>...</td>\n",
       "      <td>...</td>\n",
       "      <td>...</td>\n",
       "      <td>...</td>\n",
       "      <td>...</td>\n",
       "      <td>...</td>\n",
       "      <td>...</td>\n",
       "    </tr>\n",
       "    <tr>\n",
       "      <th>11393</th>\n",
       "      <td>25136</td>\n",
       "      <td>I am a developer by profession</td>\n",
       "      <td>Yes</td>\n",
       "      <td>Never</td>\n",
       "      <td>OSS is, on average, of HIGHER quality than pro...</td>\n",
       "      <td>Employed full-time</td>\n",
       "      <td>United States</td>\n",
       "      <td>No</td>\n",
       "      <td>Master’s degree (MA, MS, M.Eng., MBA, etc.)</td>\n",
       "      <td>Computer science, computer engineering, or sof...</td>\n",
       "      <td>...</td>\n",
       "      <td>Just as welcome now as I felt last year</td>\n",
       "      <td>Tech articles written by other developers;Cour...</td>\n",
       "      <td>36.0</td>\n",
       "      <td>Man</td>\n",
       "      <td>No</td>\n",
       "      <td>Straight / Heterosexual</td>\n",
       "      <td>White or of European descent</td>\n",
       "      <td>No</td>\n",
       "      <td>Appropriate in length</td>\n",
       "      <td>Difficult</td>\n",
       "    </tr>\n",
       "    <tr>\n",
       "      <th>11394</th>\n",
       "      <td>25137</td>\n",
       "      <td>I am a developer by profession</td>\n",
       "      <td>Yes</td>\n",
       "      <td>Never</td>\n",
       "      <td>The quality of OSS and closed source software ...</td>\n",
       "      <td>Employed full-time</td>\n",
       "      <td>Poland</td>\n",
       "      <td>No</td>\n",
       "      <td>Master’s degree (MA, MS, M.Eng., MBA, etc.)</td>\n",
       "      <td>Computer science, computer engineering, or sof...</td>\n",
       "      <td>...</td>\n",
       "      <td>A lot more welcome now than last year</td>\n",
       "      <td>Tech articles written by other developers;Tech...</td>\n",
       "      <td>25.0</td>\n",
       "      <td>Man</td>\n",
       "      <td>No</td>\n",
       "      <td>Straight / Heterosexual</td>\n",
       "      <td>White or of European descent</td>\n",
       "      <td>No</td>\n",
       "      <td>Appropriate in length</td>\n",
       "      <td>Neither easy nor difficult</td>\n",
       "    </tr>\n",
       "    <tr>\n",
       "      <th>11395</th>\n",
       "      <td>25138</td>\n",
       "      <td>I am a developer by profession</td>\n",
       "      <td>Yes</td>\n",
       "      <td>Less than once per year</td>\n",
       "      <td>The quality of OSS and closed source software ...</td>\n",
       "      <td>Employed full-time</td>\n",
       "      <td>United States</td>\n",
       "      <td>No</td>\n",
       "      <td>Master’s degree (MA, MS, M.Eng., MBA, etc.)</td>\n",
       "      <td>Computer science, computer engineering, or sof...</td>\n",
       "      <td>...</td>\n",
       "      <td>A lot more welcome now than last year</td>\n",
       "      <td>Tech articles written by other developers;Indu...</td>\n",
       "      <td>34.0</td>\n",
       "      <td>Man</td>\n",
       "      <td>No</td>\n",
       "      <td>Straight / Heterosexual</td>\n",
       "      <td>White or of European descent</td>\n",
       "      <td>Yes</td>\n",
       "      <td>Too long</td>\n",
       "      <td>Easy</td>\n",
       "    </tr>\n",
       "    <tr>\n",
       "      <th>11396</th>\n",
       "      <td>25141</td>\n",
       "      <td>I am a developer by profession</td>\n",
       "      <td>Yes</td>\n",
       "      <td>Less than once a month but more than once per ...</td>\n",
       "      <td>OSS is, on average, of LOWER quality than prop...</td>\n",
       "      <td>Employed full-time</td>\n",
       "      <td>Switzerland</td>\n",
       "      <td>No</td>\n",
       "      <td>Secondary school (e.g. American high school, G...</td>\n",
       "      <td>NaN</td>\n",
       "      <td>...</td>\n",
       "      <td>Somewhat less welcome now than last year</td>\n",
       "      <td>NaN</td>\n",
       "      <td>25.0</td>\n",
       "      <td>Man</td>\n",
       "      <td>No</td>\n",
       "      <td>Straight / Heterosexual</td>\n",
       "      <td>White or of European descent</td>\n",
       "      <td>No</td>\n",
       "      <td>Appropriate in length</td>\n",
       "      <td>Easy</td>\n",
       "    </tr>\n",
       "    <tr>\n",
       "      <th>11397</th>\n",
       "      <td>25142</td>\n",
       "      <td>I am a developer by profession</td>\n",
       "      <td>Yes</td>\n",
       "      <td>Less than once a month but more than once per ...</td>\n",
       "      <td>OSS is, on average, of HIGHER quality than pro...</td>\n",
       "      <td>Employed full-time</td>\n",
       "      <td>United Kingdom</td>\n",
       "      <td>No</td>\n",
       "      <td>Other doctoral degree (Ph.D, Ed.D., etc.)</td>\n",
       "      <td>A natural science (ex. biology, chemistry, phy...</td>\n",
       "      <td>...</td>\n",
       "      <td>Just as welcome now as I felt last year</td>\n",
       "      <td>Tech articles written by other developers;Tech...</td>\n",
       "      <td>30.0</td>\n",
       "      <td>Man</td>\n",
       "      <td>No</td>\n",
       "      <td>Bisexual</td>\n",
       "      <td>White or of European descent</td>\n",
       "      <td>No</td>\n",
       "      <td>Appropriate in length</td>\n",
       "      <td>Easy</td>\n",
       "    </tr>\n",
       "  </tbody>\n",
       "</table>\n",
       "<p>11398 rows × 70 columns</p>\n",
       "</div>"
      ],
      "text/plain": [
       "       Respondent                      MainBranch Hobbyist  \\\n",
       "0               4  I am a developer by profession       No   \n",
       "1               9  I am a developer by profession      Yes   \n",
       "2              13  I am a developer by profession      Yes   \n",
       "3              16  I am a developer by profession      Yes   \n",
       "4              17  I am a developer by profession      Yes   \n",
       "...           ...                             ...      ...   \n",
       "11393       25136  I am a developer by profession      Yes   \n",
       "11394       25137  I am a developer by profession      Yes   \n",
       "11395       25138  I am a developer by profession      Yes   \n",
       "11396       25141  I am a developer by profession      Yes   \n",
       "11397       25142  I am a developer by profession      Yes   \n",
       "\n",
       "                                             OpenSourcer  \\\n",
       "0                                                  Never   \n",
       "1                             Once a month or more often   \n",
       "2      Less than once a month but more than once per ...   \n",
       "3                                                  Never   \n",
       "4      Less than once a month but more than once per ...   \n",
       "...                                                  ...   \n",
       "11393                                              Never   \n",
       "11394                                              Never   \n",
       "11395                            Less than once per year   \n",
       "11396  Less than once a month but more than once per ...   \n",
       "11397  Less than once a month but more than once per ...   \n",
       "\n",
       "                                              OpenSource          Employment  \\\n",
       "0      The quality of OSS and closed source software ...  Employed full-time   \n",
       "1      The quality of OSS and closed source software ...  Employed full-time   \n",
       "2      OSS is, on average, of HIGHER quality than pro...  Employed full-time   \n",
       "3      The quality of OSS and closed source software ...  Employed full-time   \n",
       "4      The quality of OSS and closed source software ...  Employed full-time   \n",
       "...                                                  ...                 ...   \n",
       "11393  OSS is, on average, of HIGHER quality than pro...  Employed full-time   \n",
       "11394  The quality of OSS and closed source software ...  Employed full-time   \n",
       "11395  The quality of OSS and closed source software ...  Employed full-time   \n",
       "11396  OSS is, on average, of LOWER quality than prop...  Employed full-time   \n",
       "11397  OSS is, on average, of HIGHER quality than pro...  Employed full-time   \n",
       "\n",
       "              Country Student  \\\n",
       "0       United States      No   \n",
       "1         New Zealand      No   \n",
       "2       United States      No   \n",
       "3      United Kingdom      No   \n",
       "4           Australia      No   \n",
       "...               ...     ...   \n",
       "11393   United States      No   \n",
       "11394          Poland      No   \n",
       "11395   United States      No   \n",
       "11396     Switzerland      No   \n",
       "11397  United Kingdom      No   \n",
       "\n",
       "                                                 EdLevel  \\\n",
       "0               Bachelor’s degree (BA, BS, B.Eng., etc.)   \n",
       "1      Some college/university study without earning ...   \n",
       "2            Master’s degree (MA, MS, M.Eng., MBA, etc.)   \n",
       "3            Master’s degree (MA, MS, M.Eng., MBA, etc.)   \n",
       "4               Bachelor’s degree (BA, BS, B.Eng., etc.)   \n",
       "...                                                  ...   \n",
       "11393        Master’s degree (MA, MS, M.Eng., MBA, etc.)   \n",
       "11394        Master’s degree (MA, MS, M.Eng., MBA, etc.)   \n",
       "11395        Master’s degree (MA, MS, M.Eng., MBA, etc.)   \n",
       "11396  Secondary school (e.g. American high school, G...   \n",
       "11397          Other doctoral degree (Ph.D, Ed.D., etc.)   \n",
       "\n",
       "                                          UndergradMajor  ...  \\\n",
       "0      Computer science, computer engineering, or sof...  ...   \n",
       "1      Computer science, computer engineering, or sof...  ...   \n",
       "2      Computer science, computer engineering, or sof...  ...   \n",
       "3                                                    NaN  ...   \n",
       "4      Computer science, computer engineering, or sof...  ...   \n",
       "...                                                  ...  ...   \n",
       "11393  Computer science, computer engineering, or sof...  ...   \n",
       "11394  Computer science, computer engineering, or sof...  ...   \n",
       "11395  Computer science, computer engineering, or sof...  ...   \n",
       "11396                                                NaN  ...   \n",
       "11397  A natural science (ex. biology, chemistry, phy...  ...   \n",
       "\n",
       "                                  WelcomeChange  \\\n",
       "0       Just as welcome now as I felt last year   \n",
       "1       Just as welcome now as I felt last year   \n",
       "2      Somewhat more welcome now than last year   \n",
       "3       Just as welcome now as I felt last year   \n",
       "4       Just as welcome now as I felt last year   \n",
       "...                                         ...   \n",
       "11393   Just as welcome now as I felt last year   \n",
       "11394     A lot more welcome now than last year   \n",
       "11395     A lot more welcome now than last year   \n",
       "11396  Somewhat less welcome now than last year   \n",
       "11397   Just as welcome now as I felt last year   \n",
       "\n",
       "                                            SONewContent   Age Gender Trans  \\\n",
       "0      Tech articles written by other developers;Indu...  22.0    Man    No   \n",
       "1                                                    NaN  23.0    Man    No   \n",
       "2      Tech articles written by other developers;Cour...  28.0    Man    No   \n",
       "3      Tech articles written by other developers;Indu...  26.0    Man    No   \n",
       "4      Tech articles written by other developers;Indu...  29.0    Man    No   \n",
       "...                                                  ...   ...    ...   ...   \n",
       "11393  Tech articles written by other developers;Cour...  36.0    Man    No   \n",
       "11394  Tech articles written by other developers;Tech...  25.0    Man    No   \n",
       "11395  Tech articles written by other developers;Indu...  34.0    Man    No   \n",
       "11396                                                NaN  25.0    Man    No   \n",
       "11397  Tech articles written by other developers;Tech...  30.0    Man    No   \n",
       "\n",
       "                     Sexuality                              Ethnicity  \\\n",
       "0      Straight / Heterosexual           White or of European descent   \n",
       "1                     Bisexual           White or of European descent   \n",
       "2      Straight / Heterosexual           White or of European descent   \n",
       "3      Straight / Heterosexual           White or of European descent   \n",
       "4      Straight / Heterosexual  Hispanic or Latino/Latina;Multiracial   \n",
       "...                        ...                                    ...   \n",
       "11393  Straight / Heterosexual           White or of European descent   \n",
       "11394  Straight / Heterosexual           White or of European descent   \n",
       "11395  Straight / Heterosexual           White or of European descent   \n",
       "11396  Straight / Heterosexual           White or of European descent   \n",
       "11397                 Bisexual           White or of European descent   \n",
       "\n",
       "      Dependents           SurveyLength                  SurveyEase  \n",
       "0             No  Appropriate in length                        Easy  \n",
       "1             No  Appropriate in length  Neither easy nor difficult  \n",
       "2            Yes  Appropriate in length                        Easy  \n",
       "3             No  Appropriate in length  Neither easy nor difficult  \n",
       "4             No  Appropriate in length                        Easy  \n",
       "...          ...                    ...                         ...  \n",
       "11393         No  Appropriate in length                   Difficult  \n",
       "11394         No  Appropriate in length  Neither easy nor difficult  \n",
       "11395        Yes               Too long                        Easy  \n",
       "11396         No  Appropriate in length                        Easy  \n",
       "11397         No  Appropriate in length                        Easy  \n",
       "\n",
       "[11398 rows x 70 columns]"
      ]
     },
     "execution_count": 7,
     "metadata": {},
     "output_type": "execute_result"
    }
   ],
   "source": [
    "df2.drop_duplicates()"
   ]
  },
  {
   "cell_type": "code",
   "execution_count": 8,
   "metadata": {},
   "outputs": [
    {
     "data": {
      "text/html": [
       "<div>\n",
       "<style scoped>\n",
       "    .dataframe tbody tr th:only-of-type {\n",
       "        vertical-align: middle;\n",
       "    }\n",
       "\n",
       "    .dataframe tbody tr th {\n",
       "        vertical-align: top;\n",
       "    }\n",
       "\n",
       "    .dataframe thead th {\n",
       "        text-align: right;\n",
       "    }\n",
       "</style>\n",
       "<table border=\"1\" class=\"dataframe\">\n",
       "  <thead>\n",
       "    <tr style=\"text-align: right;\">\n",
       "      <th></th>\n",
       "      <th>Respondent</th>\n",
       "      <th>MainBranch</th>\n",
       "      <th>Hobbyist</th>\n",
       "      <th>OpenSourcer</th>\n",
       "      <th>OpenSource</th>\n",
       "      <th>Employment</th>\n",
       "      <th>Country</th>\n",
       "      <th>Student</th>\n",
       "      <th>EdLevel</th>\n",
       "      <th>UndergradMajor</th>\n",
       "      <th>...</th>\n",
       "      <th>WelcomeChange</th>\n",
       "      <th>SONewContent</th>\n",
       "      <th>Age</th>\n",
       "      <th>Gender</th>\n",
       "      <th>Trans</th>\n",
       "      <th>Sexuality</th>\n",
       "      <th>Ethnicity</th>\n",
       "      <th>Dependents</th>\n",
       "      <th>SurveyLength</th>\n",
       "      <th>SurveyEase</th>\n",
       "    </tr>\n",
       "  </thead>\n",
       "  <tbody>\n",
       "    <tr>\n",
       "      <th>0</th>\n",
       "      <td>4</td>\n",
       "      <td>I am a developer by profession</td>\n",
       "      <td>No</td>\n",
       "      <td>Never</td>\n",
       "      <td>The quality of OSS and closed source software ...</td>\n",
       "      <td>Employed full-time</td>\n",
       "      <td>United States</td>\n",
       "      <td>No</td>\n",
       "      <td>Bachelor’s degree (BA, BS, B.Eng., etc.)</td>\n",
       "      <td>Computer science, computer engineering, or sof...</td>\n",
       "      <td>...</td>\n",
       "      <td>Just as welcome now as I felt last year</td>\n",
       "      <td>Tech articles written by other developers;Indu...</td>\n",
       "      <td>22.0</td>\n",
       "      <td>Man</td>\n",
       "      <td>No</td>\n",
       "      <td>Straight / Heterosexual</td>\n",
       "      <td>White or of European descent</td>\n",
       "      <td>No</td>\n",
       "      <td>Appropriate in length</td>\n",
       "      <td>Easy</td>\n",
       "    </tr>\n",
       "    <tr>\n",
       "      <th>1</th>\n",
       "      <td>9</td>\n",
       "      <td>I am a developer by profession</td>\n",
       "      <td>Yes</td>\n",
       "      <td>Once a month or more often</td>\n",
       "      <td>The quality of OSS and closed source software ...</td>\n",
       "      <td>Employed full-time</td>\n",
       "      <td>New Zealand</td>\n",
       "      <td>No</td>\n",
       "      <td>Some college/university study without earning ...</td>\n",
       "      <td>Computer science, computer engineering, or sof...</td>\n",
       "      <td>...</td>\n",
       "      <td>Just as welcome now as I felt last year</td>\n",
       "      <td>NaN</td>\n",
       "      <td>23.0</td>\n",
       "      <td>Man</td>\n",
       "      <td>No</td>\n",
       "      <td>Bisexual</td>\n",
       "      <td>White or of European descent</td>\n",
       "      <td>No</td>\n",
       "      <td>Appropriate in length</td>\n",
       "      <td>Neither easy nor difficult</td>\n",
       "    </tr>\n",
       "    <tr>\n",
       "      <th>2</th>\n",
       "      <td>13</td>\n",
       "      <td>I am a developer by profession</td>\n",
       "      <td>Yes</td>\n",
       "      <td>Less than once a month but more than once per ...</td>\n",
       "      <td>OSS is, on average, of HIGHER quality than pro...</td>\n",
       "      <td>Employed full-time</td>\n",
       "      <td>United States</td>\n",
       "      <td>No</td>\n",
       "      <td>Master’s degree (MA, MS, M.Eng., MBA, etc.)</td>\n",
       "      <td>Computer science, computer engineering, or sof...</td>\n",
       "      <td>...</td>\n",
       "      <td>Somewhat more welcome now than last year</td>\n",
       "      <td>Tech articles written by other developers;Cour...</td>\n",
       "      <td>28.0</td>\n",
       "      <td>Man</td>\n",
       "      <td>No</td>\n",
       "      <td>Straight / Heterosexual</td>\n",
       "      <td>White or of European descent</td>\n",
       "      <td>Yes</td>\n",
       "      <td>Appropriate in length</td>\n",
       "      <td>Easy</td>\n",
       "    </tr>\n",
       "    <tr>\n",
       "      <th>3</th>\n",
       "      <td>16</td>\n",
       "      <td>I am a developer by profession</td>\n",
       "      <td>Yes</td>\n",
       "      <td>Never</td>\n",
       "      <td>The quality of OSS and closed source software ...</td>\n",
       "      <td>Employed full-time</td>\n",
       "      <td>United Kingdom</td>\n",
       "      <td>No</td>\n",
       "      <td>Master’s degree (MA, MS, M.Eng., MBA, etc.)</td>\n",
       "      <td>NaN</td>\n",
       "      <td>...</td>\n",
       "      <td>Just as welcome now as I felt last year</td>\n",
       "      <td>Tech articles written by other developers;Indu...</td>\n",
       "      <td>26.0</td>\n",
       "      <td>Man</td>\n",
       "      <td>No</td>\n",
       "      <td>Straight / Heterosexual</td>\n",
       "      <td>White or of European descent</td>\n",
       "      <td>No</td>\n",
       "      <td>Appropriate in length</td>\n",
       "      <td>Neither easy nor difficult</td>\n",
       "    </tr>\n",
       "    <tr>\n",
       "      <th>4</th>\n",
       "      <td>17</td>\n",
       "      <td>I am a developer by profession</td>\n",
       "      <td>Yes</td>\n",
       "      <td>Less than once a month but more than once per ...</td>\n",
       "      <td>The quality of OSS and closed source software ...</td>\n",
       "      <td>Employed full-time</td>\n",
       "      <td>Australia</td>\n",
       "      <td>No</td>\n",
       "      <td>Bachelor’s degree (BA, BS, B.Eng., etc.)</td>\n",
       "      <td>Computer science, computer engineering, or sof...</td>\n",
       "      <td>...</td>\n",
       "      <td>Just as welcome now as I felt last year</td>\n",
       "      <td>Tech articles written by other developers;Indu...</td>\n",
       "      <td>29.0</td>\n",
       "      <td>Man</td>\n",
       "      <td>No</td>\n",
       "      <td>Straight / Heterosexual</td>\n",
       "      <td>Hispanic or Latino/Latina;Multiracial</td>\n",
       "      <td>No</td>\n",
       "      <td>Appropriate in length</td>\n",
       "      <td>Easy</td>\n",
       "    </tr>\n",
       "    <tr>\n",
       "      <th>...</th>\n",
       "      <td>...</td>\n",
       "      <td>...</td>\n",
       "      <td>...</td>\n",
       "      <td>...</td>\n",
       "      <td>...</td>\n",
       "      <td>...</td>\n",
       "      <td>...</td>\n",
       "      <td>...</td>\n",
       "      <td>...</td>\n",
       "      <td>...</td>\n",
       "      <td>...</td>\n",
       "      <td>...</td>\n",
       "      <td>...</td>\n",
       "      <td>...</td>\n",
       "      <td>...</td>\n",
       "      <td>...</td>\n",
       "      <td>...</td>\n",
       "      <td>...</td>\n",
       "      <td>...</td>\n",
       "      <td>...</td>\n",
       "      <td>...</td>\n",
       "    </tr>\n",
       "    <tr>\n",
       "      <th>11393</th>\n",
       "      <td>25136</td>\n",
       "      <td>I am a developer by profession</td>\n",
       "      <td>Yes</td>\n",
       "      <td>Never</td>\n",
       "      <td>OSS is, on average, of HIGHER quality than pro...</td>\n",
       "      <td>Employed full-time</td>\n",
       "      <td>United States</td>\n",
       "      <td>No</td>\n",
       "      <td>Master’s degree (MA, MS, M.Eng., MBA, etc.)</td>\n",
       "      <td>Computer science, computer engineering, or sof...</td>\n",
       "      <td>...</td>\n",
       "      <td>Just as welcome now as I felt last year</td>\n",
       "      <td>Tech articles written by other developers;Cour...</td>\n",
       "      <td>36.0</td>\n",
       "      <td>Man</td>\n",
       "      <td>No</td>\n",
       "      <td>Straight / Heterosexual</td>\n",
       "      <td>White or of European descent</td>\n",
       "      <td>No</td>\n",
       "      <td>Appropriate in length</td>\n",
       "      <td>Difficult</td>\n",
       "    </tr>\n",
       "    <tr>\n",
       "      <th>11394</th>\n",
       "      <td>25137</td>\n",
       "      <td>I am a developer by profession</td>\n",
       "      <td>Yes</td>\n",
       "      <td>Never</td>\n",
       "      <td>The quality of OSS and closed source software ...</td>\n",
       "      <td>Employed full-time</td>\n",
       "      <td>Poland</td>\n",
       "      <td>No</td>\n",
       "      <td>Master’s degree (MA, MS, M.Eng., MBA, etc.)</td>\n",
       "      <td>Computer science, computer engineering, or sof...</td>\n",
       "      <td>...</td>\n",
       "      <td>A lot more welcome now than last year</td>\n",
       "      <td>Tech articles written by other developers;Tech...</td>\n",
       "      <td>25.0</td>\n",
       "      <td>Man</td>\n",
       "      <td>No</td>\n",
       "      <td>Straight / Heterosexual</td>\n",
       "      <td>White or of European descent</td>\n",
       "      <td>No</td>\n",
       "      <td>Appropriate in length</td>\n",
       "      <td>Neither easy nor difficult</td>\n",
       "    </tr>\n",
       "    <tr>\n",
       "      <th>11395</th>\n",
       "      <td>25138</td>\n",
       "      <td>I am a developer by profession</td>\n",
       "      <td>Yes</td>\n",
       "      <td>Less than once per year</td>\n",
       "      <td>The quality of OSS and closed source software ...</td>\n",
       "      <td>Employed full-time</td>\n",
       "      <td>United States</td>\n",
       "      <td>No</td>\n",
       "      <td>Master’s degree (MA, MS, M.Eng., MBA, etc.)</td>\n",
       "      <td>Computer science, computer engineering, or sof...</td>\n",
       "      <td>...</td>\n",
       "      <td>A lot more welcome now than last year</td>\n",
       "      <td>Tech articles written by other developers;Indu...</td>\n",
       "      <td>34.0</td>\n",
       "      <td>Man</td>\n",
       "      <td>No</td>\n",
       "      <td>Straight / Heterosexual</td>\n",
       "      <td>White or of European descent</td>\n",
       "      <td>Yes</td>\n",
       "      <td>Too long</td>\n",
       "      <td>Easy</td>\n",
       "    </tr>\n",
       "    <tr>\n",
       "      <th>11396</th>\n",
       "      <td>25141</td>\n",
       "      <td>I am a developer by profession</td>\n",
       "      <td>Yes</td>\n",
       "      <td>Less than once a month but more than once per ...</td>\n",
       "      <td>OSS is, on average, of LOWER quality than prop...</td>\n",
       "      <td>Employed full-time</td>\n",
       "      <td>Switzerland</td>\n",
       "      <td>No</td>\n",
       "      <td>Secondary school (e.g. American high school, G...</td>\n",
       "      <td>NaN</td>\n",
       "      <td>...</td>\n",
       "      <td>Somewhat less welcome now than last year</td>\n",
       "      <td>NaN</td>\n",
       "      <td>25.0</td>\n",
       "      <td>Man</td>\n",
       "      <td>No</td>\n",
       "      <td>Straight / Heterosexual</td>\n",
       "      <td>White or of European descent</td>\n",
       "      <td>No</td>\n",
       "      <td>Appropriate in length</td>\n",
       "      <td>Easy</td>\n",
       "    </tr>\n",
       "    <tr>\n",
       "      <th>11397</th>\n",
       "      <td>25142</td>\n",
       "      <td>I am a developer by profession</td>\n",
       "      <td>Yes</td>\n",
       "      <td>Less than once a month but more than once per ...</td>\n",
       "      <td>OSS is, on average, of HIGHER quality than pro...</td>\n",
       "      <td>Employed full-time</td>\n",
       "      <td>United Kingdom</td>\n",
       "      <td>No</td>\n",
       "      <td>Other doctoral degree (Ph.D, Ed.D., etc.)</td>\n",
       "      <td>A natural science (ex. biology, chemistry, phy...</td>\n",
       "      <td>...</td>\n",
       "      <td>Just as welcome now as I felt last year</td>\n",
       "      <td>Tech articles written by other developers;Tech...</td>\n",
       "      <td>30.0</td>\n",
       "      <td>Man</td>\n",
       "      <td>No</td>\n",
       "      <td>Bisexual</td>\n",
       "      <td>White or of European descent</td>\n",
       "      <td>No</td>\n",
       "      <td>Appropriate in length</td>\n",
       "      <td>Easy</td>\n",
       "    </tr>\n",
       "  </tbody>\n",
       "</table>\n",
       "<p>11398 rows × 70 columns</p>\n",
       "</div>"
      ],
      "text/plain": [
       "       Respondent                      MainBranch Hobbyist  \\\n",
       "0               4  I am a developer by profession       No   \n",
       "1               9  I am a developer by profession      Yes   \n",
       "2              13  I am a developer by profession      Yes   \n",
       "3              16  I am a developer by profession      Yes   \n",
       "4              17  I am a developer by profession      Yes   \n",
       "...           ...                             ...      ...   \n",
       "11393       25136  I am a developer by profession      Yes   \n",
       "11394       25137  I am a developer by profession      Yes   \n",
       "11395       25138  I am a developer by profession      Yes   \n",
       "11396       25141  I am a developer by profession      Yes   \n",
       "11397       25142  I am a developer by profession      Yes   \n",
       "\n",
       "                                             OpenSourcer  \\\n",
       "0                                                  Never   \n",
       "1                             Once a month or more often   \n",
       "2      Less than once a month but more than once per ...   \n",
       "3                                                  Never   \n",
       "4      Less than once a month but more than once per ...   \n",
       "...                                                  ...   \n",
       "11393                                              Never   \n",
       "11394                                              Never   \n",
       "11395                            Less than once per year   \n",
       "11396  Less than once a month but more than once per ...   \n",
       "11397  Less than once a month but more than once per ...   \n",
       "\n",
       "                                              OpenSource          Employment  \\\n",
       "0      The quality of OSS and closed source software ...  Employed full-time   \n",
       "1      The quality of OSS and closed source software ...  Employed full-time   \n",
       "2      OSS is, on average, of HIGHER quality than pro...  Employed full-time   \n",
       "3      The quality of OSS and closed source software ...  Employed full-time   \n",
       "4      The quality of OSS and closed source software ...  Employed full-time   \n",
       "...                                                  ...                 ...   \n",
       "11393  OSS is, on average, of HIGHER quality than pro...  Employed full-time   \n",
       "11394  The quality of OSS and closed source software ...  Employed full-time   \n",
       "11395  The quality of OSS and closed source software ...  Employed full-time   \n",
       "11396  OSS is, on average, of LOWER quality than prop...  Employed full-time   \n",
       "11397  OSS is, on average, of HIGHER quality than pro...  Employed full-time   \n",
       "\n",
       "              Country Student  \\\n",
       "0       United States      No   \n",
       "1         New Zealand      No   \n",
       "2       United States      No   \n",
       "3      United Kingdom      No   \n",
       "4           Australia      No   \n",
       "...               ...     ...   \n",
       "11393   United States      No   \n",
       "11394          Poland      No   \n",
       "11395   United States      No   \n",
       "11396     Switzerland      No   \n",
       "11397  United Kingdom      No   \n",
       "\n",
       "                                                 EdLevel  \\\n",
       "0               Bachelor’s degree (BA, BS, B.Eng., etc.)   \n",
       "1      Some college/university study without earning ...   \n",
       "2            Master’s degree (MA, MS, M.Eng., MBA, etc.)   \n",
       "3            Master’s degree (MA, MS, M.Eng., MBA, etc.)   \n",
       "4               Bachelor’s degree (BA, BS, B.Eng., etc.)   \n",
       "...                                                  ...   \n",
       "11393        Master’s degree (MA, MS, M.Eng., MBA, etc.)   \n",
       "11394        Master’s degree (MA, MS, M.Eng., MBA, etc.)   \n",
       "11395        Master’s degree (MA, MS, M.Eng., MBA, etc.)   \n",
       "11396  Secondary school (e.g. American high school, G...   \n",
       "11397          Other doctoral degree (Ph.D, Ed.D., etc.)   \n",
       "\n",
       "                                          UndergradMajor  ...  \\\n",
       "0      Computer science, computer engineering, or sof...  ...   \n",
       "1      Computer science, computer engineering, or sof...  ...   \n",
       "2      Computer science, computer engineering, or sof...  ...   \n",
       "3                                                    NaN  ...   \n",
       "4      Computer science, computer engineering, or sof...  ...   \n",
       "...                                                  ...  ...   \n",
       "11393  Computer science, computer engineering, or sof...  ...   \n",
       "11394  Computer science, computer engineering, or sof...  ...   \n",
       "11395  Computer science, computer engineering, or sof...  ...   \n",
       "11396                                                NaN  ...   \n",
       "11397  A natural science (ex. biology, chemistry, phy...  ...   \n",
       "\n",
       "                                  WelcomeChange  \\\n",
       "0       Just as welcome now as I felt last year   \n",
       "1       Just as welcome now as I felt last year   \n",
       "2      Somewhat more welcome now than last year   \n",
       "3       Just as welcome now as I felt last year   \n",
       "4       Just as welcome now as I felt last year   \n",
       "...                                         ...   \n",
       "11393   Just as welcome now as I felt last year   \n",
       "11394     A lot more welcome now than last year   \n",
       "11395     A lot more welcome now than last year   \n",
       "11396  Somewhat less welcome now than last year   \n",
       "11397   Just as welcome now as I felt last year   \n",
       "\n",
       "                                            SONewContent   Age Gender Trans  \\\n",
       "0      Tech articles written by other developers;Indu...  22.0    Man    No   \n",
       "1                                                    NaN  23.0    Man    No   \n",
       "2      Tech articles written by other developers;Cour...  28.0    Man    No   \n",
       "3      Tech articles written by other developers;Indu...  26.0    Man    No   \n",
       "4      Tech articles written by other developers;Indu...  29.0    Man    No   \n",
       "...                                                  ...   ...    ...   ...   \n",
       "11393  Tech articles written by other developers;Cour...  36.0    Man    No   \n",
       "11394  Tech articles written by other developers;Tech...  25.0    Man    No   \n",
       "11395  Tech articles written by other developers;Indu...  34.0    Man    No   \n",
       "11396                                                NaN  25.0    Man    No   \n",
       "11397  Tech articles written by other developers;Tech...  30.0    Man    No   \n",
       "\n",
       "                     Sexuality                              Ethnicity  \\\n",
       "0      Straight / Heterosexual           White or of European descent   \n",
       "1                     Bisexual           White or of European descent   \n",
       "2      Straight / Heterosexual           White or of European descent   \n",
       "3      Straight / Heterosexual           White or of European descent   \n",
       "4      Straight / Heterosexual  Hispanic or Latino/Latina;Multiracial   \n",
       "...                        ...                                    ...   \n",
       "11393  Straight / Heterosexual           White or of European descent   \n",
       "11394  Straight / Heterosexual           White or of European descent   \n",
       "11395  Straight / Heterosexual           White or of European descent   \n",
       "11396  Straight / Heterosexual           White or of European descent   \n",
       "11397                 Bisexual           White or of European descent   \n",
       "\n",
       "      Dependents           SurveyLength                  SurveyEase  \n",
       "0             No  Appropriate in length                        Easy  \n",
       "1             No  Appropriate in length  Neither easy nor difficult  \n",
       "2            Yes  Appropriate in length                        Easy  \n",
       "3             No  Appropriate in length  Neither easy nor difficult  \n",
       "4             No  Appropriate in length                        Easy  \n",
       "...          ...                    ...                         ...  \n",
       "11393         No  Appropriate in length                   Difficult  \n",
       "11394         No  Appropriate in length  Neither easy nor difficult  \n",
       "11395        Yes               Too long                        Easy  \n",
       "11396         No  Appropriate in length                        Easy  \n",
       "11397         No  Appropriate in length                        Easy  \n",
       "\n",
       "[11398 rows x 70 columns]"
      ]
     },
     "execution_count": 8,
     "metadata": {},
     "output_type": "execute_result"
    }
   ],
   "source": [
    "df2 = df2.drop_duplicates()\n",
    "df2"
   ]
  },
  {
   "cell_type": "markdown",
   "metadata": {},
   "source": [
    " <h4>Initial Heatmap (df1,df2)- Heatmap Inicial (df1-df2)</h4>"
   ]
  },
  {
   "cell_type": "code",
   "execution_count": 9,
   "metadata": {},
   "outputs": [
    {
     "data": {
      "text/plain": [
       "<AxesSubplot:>"
      ]
     },
     "execution_count": 9,
     "metadata": {},
     "output_type": "execute_result"
    },
    {
     "data": {
      "image/png": "[encoded data removed]",
      "text/plain": [
       "<Figure size 432x288 with 1 Axes>"
      ]
     },
     "metadata": {
      "needs_background": "light"
     },
     "output_type": "display_data"
    }
   ],
   "source": [
    "sns.heatmap(df1.isnull(), cbar=False)"
   ]
  },
  {
   "cell_type": "code",
   "execution_count": 10,
   "metadata": {},
   "outputs": [
    {
     "data": {
      "text/plain": [
       "<AxesSubplot:>"
      ]
     },
     "execution_count": 10,
     "metadata": {},
     "output_type": "execute_result"
    },
    {
     "data": {
      "image/png": "[encoded data removed]",
      "text/plain": [
       "<Figure size 432x288 with 1 Axes>"
      ]
     },
     "metadata": {
      "needs_background": "light"
     },
     "output_type": "display_data"
    }
   ],
   "source": [
    "sns.heatmap(df2.isnull(), cbar=False)"
   ]
  },
  {
   "cell_type": "markdown",
   "metadata": {},
   "source": [
    "After seeing all NAN values these values were replaced by the most recurrent value in the each column. \n",
    "Since in the column 'PlatformDesireNextYear' there was more than 10% of NAN values, each row where there was a NAN value was dropped. \n",
    "Columns 'WebFrameDesireNextYear' and 'WebFrameDesireNextYear' were removed due to their massive lack of data.\n",
    "\n",
    "\n",
    "Después de ver todos los datos faltantes, estos fueron reemplazados por el valor más recurrente en cada columna.\n",
    "Dado que en la columna 'PlatformDesireNextYear' había más del 10 % de  valores faltantes, se eliminó cada fila donde había un valor faltante.\n",
    "Las columnas 'WebFrameDesireNextYear' y 'WebFrameDesireNextYear' se eliminaron debido a su gran falta de datos.\n"
   ]
  },
  {
   "cell_type": "code",
   "execution_count": 11,
   "metadata": {},
   "outputs": [
    {
     "name": "stdout",
     "output_type": "stream",
     "text": [
      "missing values in LanguageWorkedWith:  11\n",
      "missing values in LanguageWorkedWith after impugnation: 0\n"
     ]
    }
   ],
   "source": [
    "print(\"missing values in LanguageWorkedWith: \", str(df1['LanguageWorkedWith'].isnull().sum()))\n",
    "\n",
    "df1['LanguageWorkedWith'].fillna(df1['LanguageWorkedWith'].mode()[0], inplace=True)\n",
    "print(\"missing values in LanguageWorkedWith after impugnation: \" + \n",
    "      str(df1['LanguageWorkedWith'].isnull().sum()))"
   ]
  },
  {
   "cell_type": "code",
   "execution_count": 12,
   "metadata": {},
   "outputs": [
    {
     "name": "stdout",
     "output_type": "stream",
     "text": [
      "missing values in LanguageWorkedWith:  134\n",
      "missing values in  LanguageDesireNextYear after impugnation: 0\n"
     ]
    }
   ],
   "source": [
    "\n",
    "print(\"missing values in LanguageWorkedWith: \", str(df1['LanguageDesireNextYear'].isnull().sum()))\n",
    "df1['LanguageDesireNextYear'].fillna(df1['LanguageDesireNextYear'].mode()[0], inplace=True)\n",
    "print(\"missing values in  LanguageDesireNextYear after impugnation: \" + \n",
    "      str(df1['LanguageDesireNextYear'].isnull().sum()))"
   ]
  },
  {
   "cell_type": "code",
   "execution_count": 13,
   "metadata": {},
   "outputs": [
    {
     "name": "stdout",
     "output_type": "stream",
     "text": [
      "missing values in DatabaseWorkedWith:  453\n",
      "missing values in  DatabaseWorkedWith after impugnation: 0\n"
     ]
    }
   ],
   "source": [
    "\n",
    "print(\"missing values in DatabaseWorkedWith: \", str(df1['DatabaseWorkedWith'].isnull().sum()))\n",
    "df1['DatabaseWorkedWith'].fillna(df1['DatabaseWorkedWith'].mode()[0], inplace=True)\n",
    "print(\"missing values in  DatabaseWorkedWith after impugnation: \" + \n",
    "      str(df1['DatabaseWorkedWith'].isnull().sum()))"
   ]
  },
  {
   "cell_type": "code",
   "execution_count": 14,
   "metadata": {},
   "outputs": [
    {
     "name": "stdout",
     "output_type": "stream",
     "text": [
      "missing values in DatabaseDesireNextYear:  1042\n",
      "missing values in  DatabaseDesireNextYear after impugnation: 0\n"
     ]
    }
   ],
   "source": [
    "\n",
    "print(\"missing values in DatabaseDesireNextYear: \", str(df1['DatabaseDesireNextYear'].isnull().sum()))\n",
    "df1['DatabaseDesireNextYear'].fillna(df1['DatabaseDesireNextYear'].mode()[0], inplace=True)\n",
    "print(\"missing values in  DatabaseDesireNextYear after impugnation: \" + \n",
    "      str(df1['DatabaseDesireNextYear'].isnull().sum()))"
   ]
  },
  {
   "cell_type": "code",
   "execution_count": 15,
   "metadata": {},
   "outputs": [
    {
     "name": "stdout",
     "output_type": "stream",
     "text": [
      "missing values in PlatformWorkedWith:  411\n",
      "missing values in  PlatformWorkedWith after impugnation: 0\n"
     ]
    }
   ],
   "source": [
    "\n",
    "print(\"missing values in PlatformWorkedWith: \", str(df1['PlatformWorkedWith'].isnull().sum()))\n",
    "df1['PlatformWorkedWith'].fillna(df1['PlatformWorkedWith'].mode()[0], inplace=True)\n",
    "print(\"missing values in  PlatformWorkedWith after impugnation: \" + \n",
    "      str(df1['PlatformWorkedWith'].isnull().sum()))\n",
    "\n"
   ]
  },
  {
   "cell_type": "code",
   "execution_count": 16,
   "metadata": {},
   "outputs": [
    {
     "name": "stdout",
     "output_type": "stream",
     "text": [
      "missing values in PlatformDesireNextYear:  544\n",
      "missing values in  PlatformDesireNextYear after impugnation: 0\n"
     ]
    }
   ],
   "source": [
    "print(\"missing values in PlatformDesireNextYear: \", str(df1['PlatformDesireNextYear'].isnull().sum()))\n",
    "df1['PlatformDesireNextYear'].fillna(df1['PlatformDesireNextYear'].mode()[0], inplace=True)\n",
    "print(\"missing values in  PlatformDesireNextYear after impugnation: \" + \n",
    "      str(df1['PlatformDesireNextYear'].isnull().sum()))\n"
   ]
  },
  {
   "cell_type": "code",
   "execution_count": 17,
   "metadata": {},
   "outputs": [
    {
     "name": "stdout",
     "output_type": "stream",
     "text": [
      "missing values in DevEnviron:  29\n",
      "missing values in  PlatformDesireNextYear after impugnation: 0\n"
     ]
    }
   ],
   "source": [
    "print(\"missing values in DevEnviron: \", str(df1['DevEnviron'].isnull().sum()))\n",
    "df1['DevEnviron'].fillna(df1['DevEnviron'].mode()[0], inplace=True)\n",
    "print(\"missing values in  PlatformDesireNextYear after impugnation: \" + \n",
    "      str(df1['DevEnviron'].isnull().sum()))\n",
    "\n"
   ]
  },
  {
   "cell_type": "code",
   "execution_count": 18,
   "metadata": {},
   "outputs": [
    {
     "name": "stdout",
     "output_type": "stream",
     "text": [
      "missing values in DevEnviron:  1393\n",
      "missing values in  PlatformDesireNextYear after impugnation: 0\n"
     ]
    }
   ],
   "source": [
    "\n",
    "print(\"missing values in DevEnviron: \", str(df1['WebFrameWorkedWith'].isnull().sum()))\n",
    "df1['WebFrameWorkedWith'].fillna(df1['WebFrameWorkedWith'].mode()[0], inplace=True)\n",
    "print(\"missing values in  PlatformDesireNextYear after impugnation: \" + \n",
    "      str(df1['WebFrameWorkedWith'].isnull().sum()))"
   ]
  },
  {
   "cell_type": "code",
   "execution_count": 19,
   "metadata": {},
   "outputs": [
    {
     "name": "stdout",
     "output_type": "stream",
     "text": [
      "missing values in DevEnviron:  1617\n",
      "missing values in  PlatformDesireNextYear after impugnation: 0\n"
     ]
    }
   ],
   "source": [
    "\n",
    "print(\"missing values in DevEnviron: \", str(df1['WebFrameDesireNextYear'].isnull().sum()))\n",
    "df1['WebFrameDesireNextYear'].fillna(df1['WebFrameDesireNextYear'].mode()[0], inplace=True)\n",
    "print(\"missing values in  PlatformDesireNextYear after impugnation: \" + \n",
    "      str(df1['WebFrameDesireNextYear'].isnull().sum()))"
   ]
  },
  {
   "cell_type": "markdown",
   "metadata": {},
   "source": []
  },
  {
   "cell_type": "code",
   "execution_count": 20,
   "metadata": {},
   "outputs": [],
   "source": [
    "df1=df1.drop(['Respondent - Copy'], axis=1)"
   ]
  },
  {
   "cell_type": "markdown",
   "metadata": {},
   "source": [
    "After seeing all NAN values these values were replaced by the most recurrent value in the each column. \n",
    "Since in the column 'PlatformDesireNextYear' there was more than 10% of NAN values, each row where there was a NAN value was dropped. \n",
    "Columns 'WebFrameDesireNextYear' and 'WebFrameDesireNextYear' were removed due to their massive lack of data.\n",
    "\n",
    "\n",
    "Después de ver todos los datos faltantes, estos fueron reemplazados por el valor más recurrente en cada columna.\n",
    "Dado que en la columna 'PlatformDesireNextYear' había más del 10 % de  valores faltantes, se eliminó cada fila donde había un valor faltante.\n",
    "Las columnas 'WebFrameDesireNextYear' y 'WebFrameDesireNextYear' se eliminaron debido a su gran falta de datos.\n"
   ]
  },
  {
   "cell_type": "code",
   "execution_count": 21,
   "metadata": {},
   "outputs": [
    {
     "name": "stdout",
     "output_type": "stream",
     "text": [
      "missing values in Student:  51\n",
      "missing values in  Student after impugnation: 0\n"
     ]
    }
   ],
   "source": [
    "print(\"missing values in Student: \", str(df2['Student'].isnull().sum()))\n",
    "df2['Student'].fillna(df2['Student'].mode()[0], inplace=True)\n",
    "print(\"missing values in  Student after impugnation: \" + \n",
    "      str(df2['Student'].isnull().sum()))\n"
   ]
  },
  {
   "cell_type": "code",
   "execution_count": 22,
   "metadata": {},
   "outputs": [
    {
     "name": "stdout",
     "output_type": "stream",
     "text": [
      "missing values in EdLevel:  112\n",
      "missing values in  EdLevel after impugnation: 0\n"
     ]
    }
   ],
   "source": [
    "print(\"missing values in EdLevel: \", str(df2['EdLevel'].isnull().sum()))\n",
    "df2['EdLevel'].fillna(df2['EdLevel'].mode()[0], inplace=True)\n",
    "print(\"missing values in  EdLevel after impugnation: \" + \n",
    "      str(df2['EdLevel'].isnull().sum()))"
   ]
  },
  {
   "cell_type": "code",
   "execution_count": 23,
   "metadata": {},
   "outputs": [
    {
     "name": "stdout",
     "output_type": "stream",
     "text": [
      "missing values in UndergradMajor:  737\n",
      "missing values in  EdLevel after impugnation: 0\n"
     ]
    }
   ],
   "source": [
    "print(\"missing values in UndergradMajor: \", str(df2['UndergradMajor'].isnull().sum()))\n",
    "df2['UndergradMajor'].fillna(df2['UndergradMajor'].mode()[0], inplace=True)\n",
    "print(\"missing values in  EdLevel after impugnation: \" + \n",
    "      str(df2['EdLevel'].isnull().sum()))"
   ]
  },
  {
   "cell_type": "markdown",
   "metadata": {},
   "source": []
  },
  {
   "cell_type": "code",
   "execution_count": 24,
   "metadata": {},
   "outputs": [
    {
     "name": "stdout",
     "output_type": "stream",
     "text": [
      "missing values in OrgSize:  96\n",
      "missing values in  OrgSize after impugnation: 0\n"
     ]
    }
   ],
   "source": [
    "print(\"missing values in OrgSize: \", str(df2['OrgSize'].isnull().sum()))\n",
    "df2['OrgSize'].fillna(df2['OrgSize'].mode()[0], inplace=True)\n",
    "print(\"missing values in  OrgSize after impugnation: \" + \n",
    "      str(df2['OrgSize'].isnull().sum()))"
   ]
  },
  {
   "cell_type": "code",
   "execution_count": 25,
   "metadata": {},
   "outputs": [
    {
     "name": "stdout",
     "output_type": "stream",
     "text": [
      "missing values in DevType:  65\n",
      "missing values in  DevType after impugnation: 0\n"
     ]
    }
   ],
   "source": [
    "\n",
    "print(\"missing values in DevType: \", str(df2['DevType'].isnull().sum()))\n",
    "df2['DevType'].fillna(df2['DevType'].mode()[0], inplace=True)\n",
    "print(\"missing values in  DevType after impugnation: \" + \n",
    "      str(df2['DevType'].isnull().sum()))"
   ]
  },
  {
   "cell_type": "code",
   "execution_count": 26,
   "metadata": {},
   "outputs": [
    {
     "name": "stdout",
     "output_type": "stream",
     "text": [
      "missing values in JobSat:  1\n",
      "missing values in  JobSat after impugnation: 0\n"
     ]
    }
   ],
   "source": [
    "\n",
    "print(\"missing values in JobSat: \", str(df2['JobSat'].isnull().sum()))\n",
    "df2['JobSat'].fillna(df2['JobSat'].mode()[0], inplace=True)\n",
    "print(\"missing values in  JobSat after impugnation: \" + \n",
    "      str(df2['JobSat'].isnull().sum()))"
   ]
  },
  {
   "cell_type": "code",
   "execution_count": 27,
   "metadata": {},
   "outputs": [
    {
     "name": "stdout",
     "output_type": "stream",
     "text": [
      "missing values in MgrIdiot:  493\n",
      "missing values in  MgrIdiot after impugnation: 0\n"
     ]
    }
   ],
   "source": [
    "print(\"missing values in MgrIdiot: \", str(df2['MgrIdiot'].isnull().sum()))\n",
    "df2['MgrIdiot'].fillna(df2['MgrIdiot'].mode()[0], inplace=True)\n",
    "print(\"missing values in  MgrIdiot after impugnation: \" + \n",
    "      str(df2['MgrIdiot'].isnull().sum()))"
   ]
  },
  {
   "cell_type": "code",
   "execution_count": 28,
   "metadata": {},
   "outputs": [
    {
     "name": "stdout",
     "output_type": "stream",
     "text": [
      "missing values in MgrMoney:  497\n",
      "missing values in  MgrMoney after impugnation: 0\n"
     ]
    }
   ],
   "source": [
    "\n",
    "print(\"missing values in MgrMoney: \", str(df2['MgrMoney'].isnull().sum()))\n",
    "df2['MgrMoney'].fillna(df2['MgrMoney'].mode()[0], inplace=True)\n",
    "print(\"missing values in  MgrMoney after impugnation: \" + \n",
    "      str(df2['MgrMoney'].isnull().sum()))"
   ]
  },
  {
   "cell_type": "code",
   "execution_count": 29,
   "metadata": {},
   "outputs": [
    {
     "name": "stdout",
     "output_type": "stream",
     "text": [
      "missing values in MgrWant:  493\n",
      "missing values in  MgrWant after impugnation: 0\n"
     ]
    }
   ],
   "source": [
    "\n",
    "print(\"missing values in MgrWant: \", str(df2['MgrWant'].isnull().sum()))\n",
    "df2['MgrWant'].fillna(df2['MgrWant'].mode()[0], inplace=True)\n",
    "print(\"missing values in  MgrWant after impugnation: \" + \n",
    "      str(df2['MgrWant'].isnull().sum()))"
   ]
  },
  {
   "cell_type": "code",
   "execution_count": 30,
   "metadata": {},
   "outputs": [
    {
     "name": "stdout",
     "output_type": "stream",
     "text": [
      "missing values in FizzBuzz:  37\n",
      "missing values in  FizzBuzz after impugnation: 0\n"
     ]
    }
   ],
   "source": [
    "\n",
    "print(\"missing values in FizzBuzz: \", str(df2['FizzBuzz'].isnull().sum()))\n",
    "df2['FizzBuzz'].fillna(df2['FizzBuzz'].mode()[0], inplace=True)\n",
    "print(\"missing values in  FizzBuzz after impugnation: \" + \n",
    "      str(df2['FizzBuzz'].isnull().sum()))"
   ]
  },
  {
   "cell_type": "code",
   "execution_count": 31,
   "metadata": {},
   "outputs": [
    {
     "name": "stdout",
     "output_type": "stream",
     "text": [
      "None columns were dropped\n"
     ]
    }
   ],
   "source": [
    "print(df2.dropna(subset=[\"JobFactors\"], axis=0, inplace=True), \"columns were dropped\")\n",
    "df2.dropna(subset=[\"JobFactors\"], axis=0, inplace=True)"
   ]
  },
  {
   "cell_type": "code",
   "execution_count": 32,
   "metadata": {},
   "outputs": [
    {
     "name": "stdout",
     "output_type": "stream",
     "text": [
      "missing values in ResumeUpdate:  39\n",
      "missing values in  FizzBuzz after impugnation: 0\n"
     ]
    }
   ],
   "source": [
    "print(\"missing values in ResumeUpdate: \", str(df2['ResumeUpdate'].isnull().sum()))\n",
    "df2['ResumeUpdate'].fillna(df2['ResumeUpdate'].mode()[0], inplace=True)\n",
    "print(\"missing values in  FizzBuzz after impugnation: \" + \n",
    "      str(df2['FizzBuzz'].isnull().sum()))"
   ]
  },
  {
   "cell_type": "code",
   "execution_count": 33,
   "metadata": {},
   "outputs": [
    {
     "name": "stdout",
     "output_type": "stream",
     "text": [
      "missing values in CompTotal:  809\n",
      "missing values in  CompTotal after impugnation: 0\n"
     ]
    }
   ],
   "source": [
    "print(\"missing values in CompTotal: \", str(df2['CompTotal'].isnull().sum()))\n",
    "df2['CompTotal'].fillna(df2['CompTotal'].mean(), inplace=True)\n",
    "print(\"missing values in  CompTotal after impugnation: \" + \n",
    "      str(df2['CompTotal'].isnull().sum()))"
   ]
  },
  {
   "cell_type": "code",
   "execution_count": 34,
   "metadata": {},
   "outputs": [
    {
     "name": "stdout",
     "output_type": "stream",
     "text": [
      "missing values in CompFreq:  206\n",
      "missing values in  FizzBuzz after impugnation: 0\n"
     ]
    }
   ],
   "source": [
    "print(\"missing values in CompFreq: \", str(df2['CompFreq'].isnull().sum()))\n",
    "df2['CompFreq'].fillna(df2['CompFreq'].mode()[0], inplace=True)\n",
    "print(\"missing values in  FizzBuzz after impugnation: \" + \n",
    "      str(df2['CompFreq'].isnull().sum()))"
   ]
  },
  {
   "cell_type": "code",
   "execution_count": 35,
   "metadata": {},
   "outputs": [
    {
     "name": "stdout",
     "output_type": "stream",
     "text": [
      "missing values in ConvertedComp:  816\n",
      "missing values in  ConvertedComp after impugnation: 0\n"
     ]
    }
   ],
   "source": [
    "print(\"missing values in ConvertedComp: \", str(df2['ConvertedComp'].isnull().sum()))\n",
    "df2['ConvertedComp'].fillna(df2['ConvertedComp'].mean(), inplace=True)\n",
    "print(\"missing values in  ConvertedComp after impugnation: \" + \n",
    "      str(df2['ConvertedComp'].isnull().sum()))"
   ]
  },
  {
   "cell_type": "code",
   "execution_count": 36,
   "metadata": {},
   "outputs": [
    {
     "name": "stdout",
     "output_type": "stream",
     "text": [
      "missing values in WorkWeekHrs:  122\n",
      "missing values in  WorkWeekHrs after impugnation: 0\n"
     ]
    }
   ],
   "source": [
    "print(\"missing values in WorkWeekHrs: \", str(df2['WorkWeekHrs'].isnull().sum()))\n",
    "df2['WorkWeekHrs'].fillna(df2['WorkWeekHrs'].mean(), inplace=True)\n",
    "print(\"missing values in  WorkWeekHrs after impugnation: \" + \n",
    "      str(df2['WorkWeekHrs'].isnull().sum()))"
   ]
  },
  {
   "cell_type": "code",
   "execution_count": 37,
   "metadata": {},
   "outputs": [
    {
     "name": "stdout",
     "output_type": "stream",
     "text": [
      "missing values in WorkPlan:  121\n",
      "missing values in  WorkPlan after impugnation: 0\n"
     ]
    }
   ],
   "source": [
    "\n",
    "print(\"missing values in WorkPlan: \", str(df2['WorkPlan'].isnull().sum()))\n",
    "df2['WorkPlan'].fillna(df2['WorkPlan'].mode()[0], inplace=True)\n",
    "print(\"missing values in  WorkPlan after impugnation: \" + \n",
    "      str(df2['WorkPlan'].isnull().sum()))\n",
    "\n"
   ]
  },
  {
   "cell_type": "code",
   "execution_count": 38,
   "metadata": {},
   "outputs": [
    {
     "name": "stdout",
     "output_type": "stream",
     "text": [
      "missing values in WorkRemote:  8\n",
      "missing values in  WorkRemote after impugnation: 0\n"
     ]
    }
   ],
   "source": [
    "print(\"missing values in WorkRemote: \", str(df2['WorkRemote'].isnull().sum()))\n",
    "df2['WorkRemote'].fillna(df2['WorkRemote'].mode()[0], inplace=True)\n",
    "print(\"missing values in  WorkRemote after impugnation: \" + \n",
    "      str(df2['WorkRemote'].isnull().sum()))"
   ]
  },
  {
   "cell_type": "code",
   "execution_count": 39,
   "metadata": {},
   "outputs": [
    {
     "name": "stdout",
     "output_type": "stream",
     "text": [
      "missing values in WorkRemote:  32\n",
      "missing values in  WorkRemote after impugnation: 0\n"
     ]
    }
   ],
   "source": [
    "print(\"missing values in WorkRemote: \", str(df2['WorkLoc'].isnull().sum()))\n",
    "df2['WorkLoc'].fillna(df2['WorkLoc'].mode()[0], inplace=True)\n",
    "print(\"missing values in  WorkRemote after impugnation: \" + \n",
    "      str(df2['WorkLoc'].isnull().sum()))"
   ]
  },
  {
   "cell_type": "code",
   "execution_count": 40,
   "metadata": {},
   "outputs": [
    {
     "name": "stdout",
     "output_type": "stream",
     "text": [
      "missing values in ImpSyn:  5\n",
      "missing values in  ImpSyn after impugnation: 0\n"
     ]
    }
   ],
   "source": [
    "df2['ImpSyn'].value_counts()\n",
    "\n",
    "print(\"missing values in ImpSyn: \", str(df2['ImpSyn'].isnull().sum()))\n",
    "df2['ImpSyn'].fillna(df2['ImpSyn'].mode()[0], inplace=True)\n",
    "print(\"missing values in  ImpSyn after impugnation: \" + \n",
    "      str(df2['ImpSyn'].isnull().sum()))"
   ]
  },
  {
   "cell_type": "code",
   "execution_count": 41,
   "metadata": {},
   "outputs": [
    {
     "name": "stdout",
     "output_type": "stream",
     "text": [
      "missing values in CodeRev:  1\n",
      "missing values in  CodeRev after impugnation: 0\n"
     ]
    }
   ],
   "source": [
    "\n",
    "print(\"missing values in CodeRev: \", str(df2['CodeRev'].isnull().sum()))\n",
    "df2['CodeRev'].fillna(df2['CodeRev'].mode()[0], inplace=True)\n",
    "print(\"missing values in  CodeRev after impugnation: \" + \n",
    "      str(df2['CodeRev'].isnull().sum()))"
   ]
  },
  {
   "cell_type": "code",
   "execution_count": 42,
   "metadata": {},
   "outputs": [
    {
     "name": "stdout",
     "output_type": "stream",
     "text": [
      "missing values in Age1stCode:  13\n",
      "missing values in  Age1stCode after impugnation: 0\n"
     ]
    }
   ],
   "source": [
    "print(\"missing values in Age1stCode: \", str(df2['Age1stCode'].isnull().sum()))\n",
    "df2['Age1stCode'].fillna(df2['Age1stCode'].mode()[0], inplace=True)\n",
    "print(\"missing values in  Age1stCode after impugnation: \" + \n",
    "      str(df2['Age1stCode'].isnull().sum()))"
   ]
  },
  {
   "cell_type": "code",
   "execution_count": 43,
   "metadata": {},
   "outputs": [
    {
     "name": "stdout",
     "output_type": "stream",
     "text": [
      "missing values in YearsCodePro:  16\n",
      "missing values in  YearsCodePro after impugnation: 0\n"
     ]
    }
   ],
   "source": [
    "print(\"missing values in YearsCodePro: \", str(df2['YearsCodePro'].isnull().sum()))\n",
    "df2['YearsCodePro'].fillna(df2['YearsCodePro'].mode()[0], inplace=True)\n",
    "print(\"missing values in  YearsCodePro after impugnation: \" + \n",
    "      str(df2['YearsCodePro'].isnull().sum()))\n"
   ]
  },
  {
   "cell_type": "code",
   "execution_count": 44,
   "metadata": {},
   "outputs": [
    {
     "name": "stdout",
     "output_type": "stream",
     "text": [
      "missing values in YearsCode:  9\n",
      "missing values in  YearsCode after impugnation: 0\n"
     ]
    }
   ],
   "source": [
    "print(\"missing values in YearsCode: \", str(df2['YearsCode'].isnull().sum()))\n",
    "df2['YearsCode'].fillna(df2['YearsCode'].mode()[0], inplace=True)\n",
    "print(\"missing values in  YearsCode after impugnation: \" + \n",
    "      str(df2['YearsCode'].isnull().sum()))"
   ]
  },
  {
   "cell_type": "code",
   "execution_count": 45,
   "metadata": {},
   "outputs": [
    {
     "name": "stdout",
     "output_type": "stream",
     "text": [
      "missing values in UnitTests:  29\n",
      "missing values in  UnitTests after impugnation: 0\n"
     ]
    }
   ],
   "source": [
    "\n",
    "print(\"missing values in UnitTests: \", str(df2['UnitTests'].isnull().sum()))\n",
    "df2['UnitTests'].fillna(df2['UnitTests'].mode()[0], inplace=True)\n",
    "print(\"missing values in  UnitTests after impugnation: \" + \n",
    "      str(df2['UnitTests'].isnull().sum()))"
   ]
  },
  {
   "cell_type": "code",
   "execution_count": 46,
   "metadata": {},
   "outputs": [
    {
     "name": "stdout",
     "output_type": "stream",
     "text": [
      "missing values in PurchaseHow:  196\n",
      "missing values in  PurchaseHow after impugnation: 0\n"
     ]
    }
   ],
   "source": [
    "\n",
    "print(\"missing values in PurchaseHow: \", str(df2['PurchaseHow'].isnull().sum()))\n",
    "df2['PurchaseHow'].fillna(df2['PurchaseHow'].mode()[0], inplace=True)\n",
    "print(\"missing values in  PurchaseHow after impugnation: \" + \n",
    "      str(df2['PurchaseHow'].isnull().sum()))"
   ]
  },
  {
   "cell_type": "code",
   "execution_count": 47,
   "metadata": {},
   "outputs": [
    {
     "name": "stdout",
     "output_type": "stream",
     "text": [
      "missing values in BetterLife:  98\n",
      "missing values in  BetterLife after impugnation: 0\n"
     ]
    }
   ],
   "source": [
    "print(\"missing values in BetterLife: \", str(df2['BetterLife'].isnull().sum()))\n",
    "df2['BetterLife'].fillna(df2['BetterLife'].mode()[0], inplace=True)\n",
    "print(\"missing values in  BetterLife after impugnation: \" + \n",
    "      str(df2['BetterLife'].isnull().sum()))"
   ]
  },
  {
   "cell_type": "code",
   "execution_count": 48,
   "metadata": {},
   "outputs": [
    {
     "name": "stdout",
     "output_type": "stream",
     "text": [
      "missing values in Extraversion:  20\n",
      "missing values in  Extraversion after impugnation: 0\n"
     ]
    }
   ],
   "source": [
    "print(\"missing values in Extraversion: \", str(df2['Extraversion'].isnull().sum()))\n",
    "df2['Extraversion'].fillna(df2['Extraversion'].mode()[0], inplace=True)\n",
    "print(\"missing values in  Extraversion after impugnation: \" + \n",
    "      str(df2['Extraversion'].isnull().sum()))"
   ]
  },
  {
   "cell_type": "code",
   "execution_count": 49,
   "metadata": {},
   "outputs": [
    {
     "name": "stdout",
     "output_type": "stream",
     "text": [
      "missing values in Age:  286\n",
      "missing values in  Age after impugnation: 0\n"
     ]
    }
   ],
   "source": [
    "\n",
    "print(\"missing values in Age: \", str(df2['Age'].isnull().sum()))\n",
    "df2['Age'].fillna(df2['Age'].mean(), inplace=True)\n",
    "print(\"missing values in  Age after impugnation: \" + \n",
    "      str(df2['Age'].isnull().sum()))"
   ]
  },
  {
   "cell_type": "code",
   "execution_count": 50,
   "metadata": {},
   "outputs": [
    {
     "name": "stdout",
     "output_type": "stream",
     "text": [
      "missing values in Gender:  73\n",
      "missing values in  Gender after impugnation: 0\n"
     ]
    }
   ],
   "source": [
    "print(\"missing values in Gender: \", str(df2['Gender'].isnull().sum()))\n",
    "df2['Gender'].fillna(df2['Gender'].mode()[0], inplace=True)\n",
    "print(\"missing values in  Gender after impugnation: \" + \n",
    "      str(df2['Gender'].isnull().sum()))"
   ]
  },
  {
   "cell_type": "code",
   "execution_count": 51,
   "metadata": {},
   "outputs": [
    {
     "name": "stdout",
     "output_type": "stream",
     "text": [
      "missing values in Trans:  123\n",
      "missing values in  Trans after impugnation: 0\n"
     ]
    }
   ],
   "source": [
    "print(\"missing values in Trans: \", str(df2['Trans'].isnull().sum()))\n",
    "df2['Trans'].fillna(df2['Trans'].mode()[0], inplace=True)\n",
    "print(\"missing values in  Trans after impugnation: \" + \n",
    "      str(df2['Trans'].isnull().sum()))"
   ]
  },
  {
   "cell_type": "code",
   "execution_count": 52,
   "metadata": {},
   "outputs": [
    {
     "name": "stdout",
     "output_type": "stream",
     "text": [
      "missing values in Sexuality:  541\n",
      "missing values in  Sexuality after impugnation: 0\n"
     ]
    }
   ],
   "source": [
    "print(\"missing values in Sexuality: \", str(df2['Sexuality'].isnull().sum()))\n",
    "df2['Sexuality'].fillna(df2['Sexuality'].mode()[0], inplace=True)\n",
    "print(\"missing values in  Sexuality after impugnation: \" + \n",
    "      str(df2['Sexuality'].isnull().sum()))"
   ]
  },
  {
   "cell_type": "code",
   "execution_count": 53,
   "metadata": {},
   "outputs": [
    {
     "name": "stdout",
     "output_type": "stream",
     "text": [
      "missing values in Ethnicity:  675\n",
      "missing values in  Ethnicity after impugnation: 0\n"
     ]
    }
   ],
   "source": [
    "\n",
    "print(\"missing values in Ethnicity: \", str(df2['Ethnicity'].isnull().sum()))\n",
    "df2['Ethnicity'].fillna(df2['Ethnicity'].mode()[0], inplace=True)\n",
    "print(\"missing values in  Ethnicity after impugnation: \" + \n",
    "      str(df2['Ethnicity'].isnull().sum()))"
   ]
  },
  {
   "cell_type": "code",
   "execution_count": 54,
   "metadata": {},
   "outputs": [
    {
     "name": "stdout",
     "output_type": "stream",
     "text": [
      "missing values in Dependents:  140\n",
      "missing values in  Dependents after impugnation: 0\n"
     ]
    }
   ],
   "source": [
    "\n",
    "print(\"missing values in Dependents: \", str(df2['Dependents'].isnull().sum()))\n",
    "df2['Dependents'].fillna(df2['Dependents'].mode()[0], inplace=True)\n",
    "print(\"missing values in  Dependents after impugnation: \" + \n",
    "      str(df2['Dependents'].isnull().sum()))"
   ]
  },
  {
   "cell_type": "code",
   "execution_count": 55,
   "metadata": {},
   "outputs": [
    {
     "name": "stdout",
     "output_type": "stream",
     "text": [
      "missing values in SurveyLength:  19\n",
      "missing values in  Dependents after impugnation: 0\n"
     ]
    }
   ],
   "source": [
    "df2['SurveyLength'].value_counts()\n",
    "print(\"missing values in SurveyLength: \", str(df2['SurveyLength'].isnull().sum()))\n",
    "df2['Dependents'].fillna(df2['Dependents'].mode()[0], inplace=True)\n",
    "print(\"missing values in  Dependents after impugnation: \" + \n",
    "      str(df2['Dependents'].isnull().sum()))"
   ]
  },
  {
   "cell_type": "code",
   "execution_count": 56,
   "metadata": {},
   "outputs": [],
   "source": [
    "df2=df2.drop(['EduOther','ResumeUpdate','OpenSource','CompTotal','WorkChallenge','CodeRevHrs','ITperson','OffOn','SocialMedia','ScreenName','SOVisit1st','SOVisitFreq','SOVisitTo','SOFindAnswer','SOTimeSaved','SOHowMuchTime','PurchaseWhat','LastInt','WorkPlan','SOAccount', 'SOPartFreq','SOJobs','SOComm','WelcomeChange','SONewContent', 'SurveyLength','SurveyEase','EntTeams'], axis=1)"
   ]
  },
  {
   "cell_type": "code",
   "execution_count": null,
   "metadata": {},
   "outputs": [],
   "source": []
  },
  {
   "cell_type": "markdown",
   "metadata": {},
   "source": [
    "<h4>Final Heatmap  (df1,df2)-Heatmap Final (df1-df2)</h4>"
   ]
  },
  {
   "cell_type": "code",
   "execution_count": 57,
   "metadata": {},
   "outputs": [
    {
     "data": {
      "text/plain": [
       "<AxesSubplot:>"
      ]
     },
     "execution_count": 57,
     "metadata": {},
     "output_type": "execute_result"
    },
    {
     "data": {
      "image/png": "[encoded data removed]",
      "text/plain": [
       "<Figure size 432x288 with 1 Axes>"
      ]
     },
     "metadata": {
      "needs_background": "light"
     },
     "output_type": "display_data"
    }
   ],
   "source": [
    "sns.heatmap(df1.isnull(), cbar=False)"
   ]
  },
  {
   "cell_type": "code",
   "execution_count": 58,
   "metadata": {},
   "outputs": [
    {
     "data": {
      "text/plain": [
       "<AxesSubplot:>"
      ]
     },
     "execution_count": 58,
     "metadata": {},
     "output_type": "execute_result"
    },
    {
     "data": {
      "image/png": "[encoded data removed]",
      "text/plain": [
       "<Figure size 432x288 with 1 Axes>"
      ]
     },
     "metadata": {
      "needs_background": "light"
     },
     "output_type": "display_data"
    }
   ],
   "source": [
    "sns.heatmap(df2.isnull(), cbar=False)"
   ]
  },
  {
   "cell_type": "markdown",
   "metadata": {},
   "source": [
    "<h3><center> Normalization Data - Normalización de Datos</center></h3>"
   ]
  },
  {
   "cell_type": "code",
   "execution_count": 59,
   "metadata": {},
   "outputs": [],
   "source": [
    "df2['Age']= df2['Age'].astype(int)\n",
    "df2['ConvertedComp']= df2['ConvertedComp'].astype(int)\n",
    "\n"
   ]
  },
  {
   "cell_type": "code",
   "execution_count": 60,
   "metadata": {},
   "outputs": [],
   "source": [
    "df2['YearsCode'].replace(\"Less than 1 year\", \"1\", inplace = True)\n",
    "df2['YearsCode']= df2['YearsCode'].astype(int)"
   ]
  },
  {
   "cell_type": "code",
   "execution_count": 61,
   "metadata": {},
   "outputs": [],
   "source": [
    "df2['YearsCodePro'].replace(\"Less than 1 year\", \"1\", inplace = True)\n",
    "df2['YearsCodePro']= df2['YearsCodePro'].astype(int)"
   ]
  },
  {
   "cell_type": "code",
   "execution_count": 62,
   "metadata": {},
   "outputs": [],
   "source": [
    "df2['Age1stCode'].replace(\"Younger than 5 years\", \"5\", inplace = True)\n",
    "df2['Age1stCode']= df2['Age1stCode'].astype(int)"
   ]
  },
  {
   "cell_type": "markdown",
   "metadata": {},
   "source": [
    "Remove outliers"
   ]
  },
  {
   "cell_type": "code",
   "execution_count": 63,
   "metadata": {},
   "outputs": [
    {
     "data": {
      "text/plain": [
       "Text(0.5, 0, 'Number of respondent')"
      ]
     },
     "execution_count": 63,
     "metadata": {},
     "output_type": "execute_result"
    },
    {
     "data": {
      "image/png": "[encoded data removed]",
      "text/plain": [
       "<Figure size 576x360 with 1 Axes>"
      ]
     },
     "metadata": {
      "needs_background": "light"
     },
     "output_type": "display_data"
    }
   ],
   "source": [
    "count, bin_edges = np.histogram(df2['ConvertedComp'])\n",
    "\n",
    "df2['ConvertedComp'].plot(kind='hist', figsize=(8, 5), xticks=bin_edges)\n",
    "\n",
    "plt.title('Histogram of Anual salary') # add a title to the histogram\n",
    "plt.ylabel('Salary') # add y-label\n",
    "plt.xlabel('Number of respondent') # add x-label"
   ]
  },
  {
   "cell_type": "code",
   "execution_count": 64,
   "metadata": {},
   "outputs": [
    {
     "name": "stdout",
     "output_type": "stream",
     "text": [
      "Old Shape:  (11395, 42)\n",
      "New Shape:  (10584, 42)\n"
     ]
    }
   ],
   "source": [
    "# IQR\n",
    "Q1 = np.percentile(df2['ConvertedComp'], 25,\n",
    "                   interpolation = 'midpoint')\n",
    " \n",
    "Q3 = np.percentile(df2['ConvertedComp'], 75,\n",
    "                   interpolation = 'midpoint')\n",
    "IQR = Q3 - Q1\n",
    " \n",
    "print(\"Old Shape: \", df2.shape)\n",
    " \n",
    "# Upper bound\n",
    "upper = np.where(df2['ConvertedComp'] >= (Q3+1.5*IQR))\n",
    "# Lower bound\n",
    "lower = np.where(df2['ConvertedComp'] <= (Q1-1.5*IQR))\n",
    " \n",
    "''' Removing the Outliers '''\n",
    "df2.drop(upper[0], inplace = True)\n",
    "df2.drop(lower[0], inplace = True)\n",
    " \n",
    "print(\"New Shape: \", df2.shape)"
   ]
  },
  {
   "cell_type": "code",
   "execution_count": 65,
   "metadata": {},
   "outputs": [],
   "source": [
    "\n",
    "df2.reset_index(inplace=True)"
   ]
  },
  {
   "cell_type": "code",
   "execution_count": 66,
   "metadata": {},
   "outputs": [
    {
     "data": {
      "text/plain": [
       "Text(0.5, 0, 'Number of respondent')"
      ]
     },
     "execution_count": 66,
     "metadata": {},
     "output_type": "execute_result"
    },
    {
     "data": {
      "image/png": "[encoded data removed]",
      "text/plain": [
       "<Figure size 576x360 with 1 Axes>"
      ]
     },
     "metadata": {
      "needs_background": "light"
     },
     "output_type": "display_data"
    }
   ],
   "source": [
    "count, bin_edges = np.histogram(df2['ConvertedComp'])\n",
    "\n",
    "df2['ConvertedComp'].plot(kind='hist', figsize=(8, 5), xticks=bin_edges)\n",
    "\n",
    "plt.title('Histogram of Anual salary') # add a title to the histogram\n",
    "plt.ylabel('Salary') # add y-label\n",
    "plt.xlabel('Number of respondent') # add x-label"
   ]
  },
  {
   "cell_type": "code",
   "execution_count": 67,
   "metadata": {},
   "outputs": [
    {
     "name": "stdout",
     "output_type": "stream",
     "text": [
      "Old Shape:  (10584, 43)\n",
      "New Shape:  (10063, 44)\n"
     ]
    }
   ],
   "source": [
    "\n",
    "\n",
    "Q1 = np.percentile(df2['ConvertedComp'], 25,\n",
    "                   interpolation = 'midpoint')\n",
    " \n",
    "Q3 = np.percentile(df2['ConvertedComp'], 75,\n",
    "                   interpolation = 'midpoint')\n",
    "IQR = Q3 - Q1\n",
    " \n",
    "print(\"Old Shape: \", df2.shape)\n",
    " \n",
    "# Upper bound\n",
    "upper = np.where(df2['ConvertedComp'] >= (Q3+4*IQR))\n",
    "# Lower bound\n",
    "lower = np.where(df2['ConvertedComp'] <= (Q1-4*IQR))\n",
    " \n",
    "''' Removing the Outliers '''\n",
    "\n",
    "df2.drop(upper[0], inplace = True)\n",
    "df2.drop(lower[0], inplace = True)\n",
    "\n",
    "df2.reset_index(inplace=True)\n",
    "\n",
    "print(\"New Shape: \", df2.shape)\n",
    "\n",
    "\n"
   ]
  },
  {
   "cell_type": "code",
   "execution_count": 68,
   "metadata": {},
   "outputs": [
    {
     "data": {
      "text/plain": [
       "Text(0.5, 0, 'Number of respondent')"
      ]
     },
     "execution_count": 68,
     "metadata": {},
     "output_type": "execute_result"
    },
    {
     "data": {
      "image/png": "[encoded data removed]",
      "text/plain": [
       "<Figure size 576x360 with 1 Axes>"
      ]
     },
     "metadata": {
      "needs_background": "light"
     },
     "output_type": "display_data"
    }
   ],
   "source": [
    "count, bin_edges = np.histogram(df2['ConvertedComp'])\n",
    "\n",
    "df2['ConvertedComp'].plot(kind='hist', figsize=(8, 5), xticks=bin_edges)\n",
    "\n",
    "plt.title('Histogram of Anual salary') # add a title to the histogram\n",
    "plt.ylabel('Salary') # add y-label\n",
    "plt.xlabel('Number of respondent') # add x-label"
   ]
  },
  {
   "cell_type": "code",
   "execution_count": 69,
   "metadata": {},
   "outputs": [],
   "source": [
    "df2=df2.drop(['index','level_0'], axis=1)\n",
    "df2.reset_index(inplace=True)\n"
   ]
  },
  {
   "cell_type": "code",
   "execution_count": 70,
   "metadata": {},
   "outputs": [
    {
     "name": "stdout",
     "output_type": "stream",
     "text": [
      "Old Shape:  (10063, 43)\n",
      "New Shape:  (10032, 44)\n"
     ]
    }
   ],
   "source": [
    "Q1 = np.percentile(df2['ConvertedComp'], 25,\n",
    "                   interpolation = 'midpoint')\n",
    " \n",
    "Q3 = np.percentile(df2['ConvertedComp'], 75,\n",
    "                   interpolation = 'midpoint')\n",
    "IQR = Q3 - Q1\n",
    " \n",
    "print(\"Old Shape: \", df2.shape)\n",
    " \n",
    "# Upper bound\n",
    "upper = np.where(df2['ConvertedComp'] >= (Q3+4*IQR))\n",
    "# Lower bound\n",
    "lower = np.where(df2['ConvertedComp'] <= (Q1-4*IQR))\n",
    " \n",
    "''' Removing the Outliers '''\n",
    "\n",
    "df2.drop(upper[0], inplace = True)\n",
    "df2.drop(lower[0], inplace = True)\n",
    "\n",
    "df2.reset_index(inplace=True)\n",
    "\n",
    "print(\"New Shape: \", df2.shape)"
   ]
  },
  {
   "cell_type": "code",
   "execution_count": 71,
   "metadata": {},
   "outputs": [
    {
     "data": {
      "text/plain": [
       "Text(0.5, 0, 'Number of respondent')"
      ]
     },
     "execution_count": 71,
     "metadata": {},
     "output_type": "execute_result"
    },
    {
     "data": {
      "image/png": "[encoded data removed]",
      "text/plain": [
       "<Figure size 576x360 with 1 Axes>"
      ]
     },
     "metadata": {
      "needs_background": "light"
     },
     "output_type": "display_data"
    }
   ],
   "source": [
    "count, bin_edges = np.histogram(df2['ConvertedComp'])\n",
    "\n",
    "df2['ConvertedComp'].plot(kind='hist', figsize=(8, 5), xticks=bin_edges)\n",
    "\n",
    "plt.title('Histogram of Anual salary') # add a title to the histogram\n",
    "plt.ylabel('Salary') # add y-label\n",
    "plt.xlabel('Number of respondent') # add x-label"
   ]
  },
  {
   "cell_type": "code",
   "execution_count": 72,
   "metadata": {},
   "outputs": [],
   "source": [
    "df2=df2.drop(['index','level_0'], axis=1)"
   ]
  },
  {
   "cell_type": "code",
   "execution_count": 73,
   "metadata": {},
   "outputs": [],
   "source": [
    "df2.reset_index(inplace=True)"
   ]
  },
  {
   "cell_type": "code",
   "execution_count": 74,
   "metadata": {},
   "outputs": [
    {
     "name": "stdout",
     "output_type": "stream",
     "text": [
      "Old Shape:  (10032, 43)\n"
     ]
    }
   ],
   "source": [
    "Q1 = np.percentile(df2['ConvertedComp'], 25,\n",
    "                   interpolation = 'midpoint')\n",
    " \n",
    "Q3 = np.percentile(df2['ConvertedComp'], 75,\n",
    "                   interpolation = 'midpoint')\n",
    "IQR = Q3 - Q1\n",
    " \n",
    "print(\"Old Shape: \", df2.shape)\n",
    " \n",
    "# Upper bound\n",
    "upper = np.where(df2['ConvertedComp'] >= (Q3+4*IQR))\n",
    "# Lower bound\n",
    "lower = np.where(df2['ConvertedComp'] <= (Q1-4*IQR))\n",
    " \n",
    "''' Removing the Outliers '''\n",
    "\n",
    "df2.drop(upper[0], inplace = True)\n",
    "df2.drop(lower[0], inplace = True)"
   ]
  },
  {
   "cell_type": "code",
   "execution_count": 75,
   "metadata": {},
   "outputs": [
    {
     "data": {
      "text/plain": [
       "Text(0.5, 0, 'Number of respondent')"
      ]
     },
     "execution_count": 75,
     "metadata": {},
     "output_type": "execute_result"
    },
    {
     "data": {
      "image/png": "[encoded data removed]",
      "text/plain": [
       "<Figure size 576x360 with 1 Axes>"
      ]
     },
     "metadata": {
      "needs_background": "light"
     },
     "output_type": "display_data"
    }
   ],
   "source": [
    "count, bin_edges = np.histogram(df2['ConvertedComp'])\n",
    "\n",
    "df2['ConvertedComp'].plot(kind='hist', figsize=(8, 5), xticks=bin_edges)\n",
    "\n",
    "plt.title('Histogram of Anual salary') # add a title to the histogram\n",
    "plt.ylabel('Salary') # add y-label\n",
    "plt.xlabel('Number of respondent') # add x-label"
   ]
  },
  {
   "cell_type": "code",
   "execution_count": 76,
   "metadata": {},
   "outputs": [],
   "source": [
    "df2.reset_index(inplace=True)"
   ]
  },
  {
   "cell_type": "code",
   "execution_count": 77,
   "metadata": {},
   "outputs": [
    {
     "name": "stdout",
     "output_type": "stream",
     "text": [
      "Old Shape:  (10027, 44)\n"
     ]
    }
   ],
   "source": [
    "Q1 = np.percentile(df2['ConvertedComp'], 25,\n",
    "                   interpolation = 'midpoint')\n",
    " \n",
    "Q3 = np.percentile(df2['ConvertedComp'], 75,\n",
    "                   interpolation = 'midpoint')\n",
    "IQR = Q3 - Q1\n",
    " \n",
    "print(\"Old Shape: \", df2.shape)\n",
    " \n",
    "# Upper bound\n",
    "upper = np.where(df2['ConvertedComp'] >= (Q3+4*IQR))\n",
    "# Lower bound\n",
    "lower = np.where(df2['ConvertedComp'] <= (Q1-4*IQR))\n",
    " \n",
    "''' Removing the Outliers '''\n",
    "\n",
    "df2.drop(upper[0], inplace = True)\n",
    "df2.drop(lower[0], inplace = True)"
   ]
  },
  {
   "cell_type": "code",
   "execution_count": 78,
   "metadata": {},
   "outputs": [
    {
     "data": {
      "text/plain": [
       "Text(0.5, 0, 'Number of respondent')"
      ]
     },
     "execution_count": 78,
     "metadata": {},
     "output_type": "execute_result"
    },
    {
     "data": {
      "image/png": "[encoded data removed]",
      "text/plain": [
       "<Figure size 576x360 with 1 Axes>"
      ]
     },
     "metadata": {
      "needs_background": "light"
     },
     "output_type": "display_data"
    }
   ],
   "source": [
    "count, bin_edges = np.histogram(df2['ConvertedComp'])\n",
    "\n",
    "df2['ConvertedComp'].plot(kind='hist', figsize=(8, 5), xticks=bin_edges)\n",
    "\n",
    "plt.title('Histogram of Anual salary') # add a title to the histogram\n",
    "plt.ylabel('Salary') # add y-label\n",
    "plt.xlabel('Number of respondent') # add x-label"
   ]
  },
  {
   "cell_type": "markdown",
   "metadata": {},
   "source": [
    "Age"
   ]
  },
  {
   "cell_type": "code",
   "execution_count": 79,
   "metadata": {},
   "outputs": [
    {
     "data": {
      "text/plain": [
       "Text(0.5, 0, 'Number of respondent')"
      ]
     },
     "execution_count": 79,
     "metadata": {},
     "output_type": "execute_result"
    },
    {
     "data": {
      "image/png": "[encoded data removed]",
      "text/plain": [
       "<Figure size 576x360 with 1 Axes>"
      ]
     },
     "metadata": {
      "needs_background": "light"
     },
     "output_type": "display_data"
    }
   ],
   "source": [
    "count, bin_edges = np.histogram(df2['Age'])\n",
    "\n",
    "df2['Age'].plot(kind='hist', figsize=(8, 5), xticks=bin_edges)\n",
    "\n",
    "plt.title('Histogram of Age') # add a title to the histogram\n",
    "plt.ylabel('Age') # add y-label\n",
    "plt.xlabel('Number of respondent') # add x-label"
   ]
  },
  {
   "cell_type": "code",
   "execution_count": 80,
   "metadata": {},
   "outputs": [],
   "source": [
    "df2=df2.drop(['index','level_0'], axis=1)"
   ]
  },
  {
   "cell_type": "code",
   "execution_count": 81,
   "metadata": {},
   "outputs": [],
   "source": [
    "df2.reset_index(inplace=True)"
   ]
  },
  {
   "cell_type": "code",
   "execution_count": 82,
   "metadata": {},
   "outputs": [
    {
     "name": "stdout",
     "output_type": "stream",
     "text": [
      "Old Shape:  (10027, 43)\n",
      "New Shape:  (9679, 43)\n"
     ]
    }
   ],
   "source": [
    "\n",
    "Q1 = np.percentile(df2['Age'], 25,\n",
    "                   interpolation = 'midpoint')\n",
    " \n",
    "Q3 = np.percentile(df2['Age'], 75,\n",
    "                   interpolation = 'midpoint')\n",
    "IQR = Q3 - Q1\n",
    " \n",
    "print(\"Old Shape: \", df2.shape)\n",
    " \n",
    "# Upper bound\n",
    "upper = np.where(df2['Age'] >= (Q3+1.5*IQR))\n",
    "# Lower bound\n",
    "lower = np.where(df2['Age'] <= (Q1-1.5*IQR))\n",
    " \n",
    "''' Removing the Outliers '''\n",
    "df2.drop(upper[0], inplace = True)\n",
    "df2.drop(lower[0], inplace = True)\n",
    " \n",
    "print(\"New Shape: \", df2.shape)"
   ]
  },
  {
   "cell_type": "code",
   "execution_count": 83,
   "metadata": {},
   "outputs": [
    {
     "data": {
      "text/plain": [
       "Text(0.5, 0, 'Number of respondent')"
      ]
     },
     "execution_count": 83,
     "metadata": {},
     "output_type": "execute_result"
    },
    {
     "data": {
      "image/png": "[encoded data removed]",
      "text/plain": [
       "<Figure size 576x360 with 1 Axes>"
      ]
     },
     "metadata": {
      "needs_background": "light"
     },
     "output_type": "display_data"
    }
   ],
   "source": [
    "count, bin_edges = np.histogram(df2['Age'])\n",
    "\n",
    "df2['Age'].plot(kind='hist', figsize=(8, 5), xticks=bin_edges)\n",
    "\n",
    "plt.title('Histogram of Age') # add a title to the histogram\n",
    "plt.ylabel('Age') # add y-label\n",
    "plt.xlabel('Number of respondent') # add x-label"
   ]
  },
  {
   "cell_type": "markdown",
   "metadata": {},
   "source": [
    "Normalize cualitative information\n"
   ]
  },
  {
   "cell_type": "code",
   "execution_count": 84,
   "metadata": {},
   "outputs": [
    {
     "data": {
      "text/plain": [
       "Bachelor’s degree (BA, BS, B.Eng., etc.)                                              5087\n",
       "Master’s degree (MA, MS, M.Eng., MBA, etc.)                                           2301\n",
       "Some college/university study without earning a degree                                1137\n",
       "Secondary school (e.g. American high school, German Realschule or Gymnasium, etc.)     449\n",
       "Associate degree                                                                       326\n",
       "Other doctoral degree (Ph.D, Ed.D., etc.)                                              203\n",
       "Professional degree (JD, MD, etc.)                                                     133\n",
       "Primary/elementary school                                                               25\n",
       "I never completed any formal education                                                  18\n",
       "Name: EdLevel, dtype: int64"
      ]
     },
     "execution_count": 84,
     "metadata": {},
     "output_type": "execute_result"
    }
   ],
   "source": [
    "df2.EdLevel.value_counts()"
   ]
  },
  {
   "cell_type": "code",
   "execution_count": 85,
   "metadata": {},
   "outputs": [],
   "source": [
    "encoder_edu = OrdinalEncoder(categories=[[\"I never completed any formal education\", \"Primary/elementary school\", \n",
    "                                      \"Secondary school (e.g. American high school, German Realschule or Gymnasium, etc.)\", \"Some college/university study without earning a degree\", \"Associate degree\", \n",
    "                                      \"Bachelor’s degree (BA, BS, B.Eng., etc.)\", \"Professional degree (JD, MD, etc.)\", \"Master’s degree (MA, MS, M.Eng., MBA, etc.)\", \"Other doctoral degree (Ph.D, Ed.D., etc.)\" \n",
    "                                      ]])"
   ]
  },
  {
   "cell_type": "code",
   "execution_count": 86,
   "metadata": {},
   "outputs": [],
   "source": [
    "encoder_edu.fit(df2[[\"EdLevel\"]])\n",
    "df2[\"EdLevel-encoded\"] = encoder_edu.transform(df2[[\"EdLevel\"]])"
   ]
  },
  {
   "cell_type": "code",
   "execution_count": 87,
   "metadata": {},
   "outputs": [
    {
     "data": {
      "text/plain": [
       "Very satisfied                        3986\n",
       "Slightly satisfied                    3496\n",
       "Slightly dissatisfied                  956\n",
       "Neither satisfied nor dissatisfied     807\n",
       "Very dissatisfied                      434\n",
       "Name: CareerSat, dtype: int64"
      ]
     },
     "execution_count": 87,
     "metadata": {},
     "output_type": "execute_result"
    }
   ],
   "source": [
    "df2.CareerSat.value_counts()"
   ]
  },
  {
   "cell_type": "code",
   "execution_count": 88,
   "metadata": {},
   "outputs": [],
   "source": [
    "encoder_CarSat = OrdinalEncoder(categories=[[\"Very dissatisfied\", \"Slightly dissatisfied\", \"Neither satisfied nor dissatisfied\", \"Slightly satisfied\", \"Very satisfied\" ]])"
   ]
  },
  {
   "cell_type": "code",
   "execution_count": 89,
   "metadata": {},
   "outputs": [],
   "source": [
    "encoder_CarSat.fit(df2[[\"CareerSat\"]])\n",
    "df2[\"CareerSat-encoded\"] = encoder_CarSat.transform(df2[[\"CareerSat\"]])"
   ]
  },
  {
   "cell_type": "code",
   "execution_count": 90,
   "metadata": {},
   "outputs": [
    {
     "data": {
      "text/plain": [
       "Slightly satisfied                    3385\n",
       "Very satisfied                        2958\n",
       "Slightly dissatisfied                 1569\n",
       "Neither satisfied nor dissatisfied    1116\n",
       "Very dissatisfied                      651\n",
       "Name: JobSat, dtype: int64"
      ]
     },
     "execution_count": 90,
     "metadata": {},
     "output_type": "execute_result"
    }
   ],
   "source": [
    "df2.JobSat.value_counts()"
   ]
  },
  {
   "cell_type": "code",
   "execution_count": 91,
   "metadata": {},
   "outputs": [],
   "source": [
    "encoder_CarSat.fit(df2[[\"JobSat\"]])\n",
    "df2[\"JobSat-encoded\"] = encoder_CarSat.transform(df2[[\"JobSat\"]])"
   ]
  },
  {
   "cell_type": "code",
   "execution_count": 92,
   "metadata": {},
   "outputs": [
    {
     "data": {
      "text/plain": [
       "Somewhat confident        4357\n",
       "Very confident            3546\n",
       "Not at all confident      1518\n",
       "I don't have a manager     258\n",
       "Name: MgrIdiot, dtype: int64"
      ]
     },
     "execution_count": 92,
     "metadata": {},
     "output_type": "execute_result"
    }
   ],
   "source": [
    "df2.MgrIdiot.value_counts()"
   ]
  },
  {
   "cell_type": "code",
   "execution_count": 93,
   "metadata": {},
   "outputs": [],
   "source": [
    "encoder_Mgr = OrdinalEncoder(categories=[[\"I don't have a manager\", \"Not at all confident\", \"Somewhat confident\",\"Very confident\" ]])"
   ]
  },
  {
   "cell_type": "code",
   "execution_count": 94,
   "metadata": {},
   "outputs": [],
   "source": [
    "encoder_Mgr.fit(df2[[\"MgrIdiot\"]])\n",
    "df2[\"MgrIdiot-encoded\"] = encoder_Mgr.transform(df2[[\"MgrIdiot\"]])"
   ]
  },
  {
   "cell_type": "code",
   "execution_count": 95,
   "metadata": {},
   "outputs": [
    {
     "data": {
      "text/plain": [
       "A little above average    4609\n",
       "Average                   2224\n",
       "Far above average         1996\n",
       "A little below average     690\n",
       "Far below average          160\n",
       "Name: ImpSyn, dtype: int64"
      ]
     },
     "execution_count": 95,
     "metadata": {},
     "output_type": "execute_result"
    }
   ],
   "source": [
    "df2.ImpSyn.value_counts()"
   ]
  },
  {
   "cell_type": "code",
   "execution_count": 96,
   "metadata": {},
   "outputs": [],
   "source": [
    "encoder_ImpSyn = OrdinalEncoder(categories=[[\"Far below average\", \"A little below average\", \"Average\",\"A little above average\",\"Far above average\" ]])"
   ]
  },
  {
   "cell_type": "code",
   "execution_count": 97,
   "metadata": {},
   "outputs": [],
   "source": [
    "encoder_ImpSyn.fit(df2[[\"ImpSyn\"]])\n",
    "df2[\"ImpSyn-encoded\"] = encoder_ImpSyn.transform(df2[[\"ImpSyn\"]])"
   ]
  },
  {
   "cell_type": "code",
   "execution_count": 98,
   "metadata": {},
   "outputs": [
    {
     "data": {
      "text/plain": [
       "In real life (in person)    6089\n",
       "Online                      2750\n",
       "Neither                      840\n",
       "Name: Extraversion, dtype: int64"
      ]
     },
     "execution_count": 98,
     "metadata": {},
     "output_type": "execute_result"
    }
   ],
   "source": [
    "df2.Extraversion.value_counts()"
   ]
  },
  {
   "cell_type": "code",
   "execution_count": 99,
   "metadata": {},
   "outputs": [],
   "source": [
    "encoder_Extraversion = OrdinalEncoder(categories=[[\"Neither\", \"Online\", \"In real life (in person)\"]])"
   ]
  },
  {
   "cell_type": "code",
   "execution_count": 100,
   "metadata": {},
   "outputs": [],
   "source": [
    "encoder_Extraversion.fit(df2[[\"Extraversion\"]])\n",
    "df2[\"Extraversion-encoded\"] = encoder_Extraversion.transform(df2[[\"Extraversion\"]])"
   ]
  },
  {
   "cell_type": "markdown",
   "metadata": {},
   "source": [
    "Dummy values"
   ]
  },
  {
   "cell_type": "code",
   "execution_count": 101,
   "metadata": {},
   "outputs": [],
   "source": [
    "df3=pd.merge(df1, df2, on='Respondent')\n",
    "\n",
    "\n",
    "\n",
    "\n",
    "\n",
    "\n"
   ]
  },
  {
   "cell_type": "code",
   "execution_count": 102,
   "metadata": {},
   "outputs": [],
   "source": [
    "dummies = pd.get_dummies(df3['LanguageWorkedWith'], drop_first = True)\n",
    "df3 = pd.concat([df3, dummies], axis = 1)\n",
    "df3 = df3.drop(columns=['LanguageWorkedWith'], axis=1)\n",
    "\n"
   ]
  },
  {
   "cell_type": "code",
   "execution_count": 103,
   "metadata": {},
   "outputs": [],
   "source": [
    "dummies = pd.get_dummies(df3['DatabaseWorkedWith'], drop_first = True)\n",
    "df3 = pd.concat([df3, dummies], axis = 1)\n",
    "df3 = df3.drop(columns=['DatabaseWorkedWith'], axis=1)"
   ]
  },
  {
   "cell_type": "code",
   "execution_count": 104,
   "metadata": {},
   "outputs": [],
   "source": [
    "dummies = pd.get_dummies(df3['PlatformWorkedWith'], drop_first = True)\n",
    "df3 = pd.concat([df3, dummies], axis = 1)\n",
    "df3 = df3.drop(columns=['PlatformWorkedWith'], axis=1)\n"
   ]
  },
  {
   "cell_type": "code",
   "execution_count": 105,
   "metadata": {},
   "outputs": [],
   "source": [
    "dummies = pd.get_dummies(df3['WebFrameWorkedWith'], drop_first = True)\n",
    "df3 = pd.concat([df3, dummies], axis = 1)\n",
    "df3 = df3.drop(columns=['WebFrameWorkedWith'], axis=1)"
   ]
  },
  {
   "cell_type": "code",
   "execution_count": 106,
   "metadata": {},
   "outputs": [],
   "source": [
    "df1.to_csv(\"data_technologies_clean.csv\", index=False)\n",
    "df2.to_csv(\"data_demographics_clean.csv\", index=False)\n",
    "df3.to_csv(\"data_unificated\", index=False)"
   ]
  },
  {
   "cell_type": "markdown",
   "metadata": {},
   "source": [
    "DATA ANALISIS"
   ]
  },
  {
   "cell_type": "code",
   "execution_count": 107,
   "metadata": {},
   "outputs": [],
   "source": [
    "df3n=df3._get_numeric_data()\n",
    "df2n=df2._get_numeric_data()\n"
   ]
  },
  {
   "cell_type": "code",
   "execution_count": 108,
   "metadata": {},
   "outputs": [],
   "source": [
    "def DistributionPlot(RedFunction, BlueFunction, RedName, BlueName, Title):\n",
    "    width = 12\n",
    "    height = 10\n",
    "    plt.figure(figsize=(width, height))\n",
    "\n",
    "    ax1 = sns.distplot(RedFunction, hist=False, color=\"r\", label=RedName)\n",
    "    ax2 = sns.distplot(BlueFunction, hist=False, color=\"b\", label=BlueName, ax=ax1)\n",
    "\n",
    "    plt.title(Title)\n",
    "    plt.xlabel('respondents')\n",
    "    plt.ylabel('ConvertedComp')\n",
    "\n",
    "    plt.show()\n",
    "    plt.close()"
   ]
  },
  {
   "cell_type": "code",
   "execution_count": 109,
   "metadata": {},
   "outputs": [
    {
     "data": {
      "text/html": [
       "<div>\n",
       "<style scoped>\n",
       "    .dataframe tbody tr th:only-of-type {\n",
       "        vertical-align: middle;\n",
       "    }\n",
       "\n",
       "    .dataframe tbody tr th {\n",
       "        vertical-align: top;\n",
       "    }\n",
       "\n",
       "    .dataframe thead th {\n",
       "        text-align: right;\n",
       "    }\n",
       "</style>\n",
       "<table border=\"1\" class=\"dataframe\">\n",
       "  <thead>\n",
       "    <tr style=\"text-align: right;\">\n",
       "      <th></th>\n",
       "      <th>Respondent</th>\n",
       "      <th>index</th>\n",
       "      <th>YearsCode</th>\n",
       "      <th>Age1stCode</th>\n",
       "      <th>YearsCodePro</th>\n",
       "      <th>ConvertedComp</th>\n",
       "      <th>WorkWeekHrs</th>\n",
       "      <th>Age</th>\n",
       "      <th>EdLevel-encoded</th>\n",
       "      <th>CareerSat-encoded</th>\n",
       "      <th>...</th>\n",
       "      <th>Drupal</th>\n",
       "      <th>Express</th>\n",
       "      <th>Flask</th>\n",
       "      <th>Laravel</th>\n",
       "      <th>Other(s):</th>\n",
       "      <th>React.js</th>\n",
       "      <th>Ruby on Rails</th>\n",
       "      <th>Spring</th>\n",
       "      <th>Vue.js</th>\n",
       "      <th>jQuery</th>\n",
       "    </tr>\n",
       "  </thead>\n",
       "  <tbody>\n",
       "    <tr>\n",
       "      <th>Respondent</th>\n",
       "      <td>1.000000</td>\n",
       "      <td>0.999950</td>\n",
       "      <td>-0.006506</td>\n",
       "      <td>0.007629</td>\n",
       "      <td>-0.013993</td>\n",
       "      <td>0.009535</td>\n",
       "      <td>-0.015673</td>\n",
       "      <td>-0.003951</td>\n",
       "      <td>0.002285</td>\n",
       "      <td>-0.004041</td>\n",
       "      <td>...</td>\n",
       "      <td>0.011546</td>\n",
       "      <td>-0.002032</td>\n",
       "      <td>0.003942</td>\n",
       "      <td>0.001939</td>\n",
       "      <td>0.002785</td>\n",
       "      <td>-0.010903</td>\n",
       "      <td>-0.004544</td>\n",
       "      <td>-0.010804</td>\n",
       "      <td>0.001956</td>\n",
       "      <td>0.012744</td>\n",
       "    </tr>\n",
       "    <tr>\n",
       "      <th>index</th>\n",
       "      <td>0.999950</td>\n",
       "      <td>1.000000</td>\n",
       "      <td>-0.006413</td>\n",
       "      <td>0.007580</td>\n",
       "      <td>-0.013876</td>\n",
       "      <td>0.009452</td>\n",
       "      <td>-0.015781</td>\n",
       "      <td>-0.003854</td>\n",
       "      <td>0.002143</td>\n",
       "      <td>-0.003938</td>\n",
       "      <td>...</td>\n",
       "      <td>0.011790</td>\n",
       "      <td>-0.001901</td>\n",
       "      <td>0.003856</td>\n",
       "      <td>0.001908</td>\n",
       "      <td>0.002785</td>\n",
       "      <td>-0.011016</td>\n",
       "      <td>-0.004641</td>\n",
       "      <td>-0.010784</td>\n",
       "      <td>0.001812</td>\n",
       "      <td>0.012694</td>\n",
       "    </tr>\n",
       "    <tr>\n",
       "      <th>YearsCode</th>\n",
       "      <td>-0.006506</td>\n",
       "      <td>-0.006413</td>\n",
       "      <td>1.000000</td>\n",
       "      <td>-0.436701</td>\n",
       "      <td>0.835172</td>\n",
       "      <td>0.291831</td>\n",
       "      <td>0.033386</td>\n",
       "      <td>0.728240</td>\n",
       "      <td>0.096317</td>\n",
       "      <td>0.011209</td>\n",
       "      <td>...</td>\n",
       "      <td>0.015907</td>\n",
       "      <td>-0.048865</td>\n",
       "      <td>-0.000469</td>\n",
       "      <td>-0.024844</td>\n",
       "      <td>0.032081</td>\n",
       "      <td>0.004504</td>\n",
       "      <td>0.017311</td>\n",
       "      <td>0.011773</td>\n",
       "      <td>0.005572</td>\n",
       "      <td>-0.009434</td>\n",
       "    </tr>\n",
       "    <tr>\n",
       "      <th>Age1stCode</th>\n",
       "      <td>0.007629</td>\n",
       "      <td>0.007580</td>\n",
       "      <td>-0.436701</td>\n",
       "      <td>1.000000</td>\n",
       "      <td>-0.270413</td>\n",
       "      <td>-0.117290</td>\n",
       "      <td>-0.010015</td>\n",
       "      <td>-0.095888</td>\n",
       "      <td>0.049247</td>\n",
       "      <td>-0.046008</td>\n",
       "      <td>...</td>\n",
       "      <td>-0.017243</td>\n",
       "      <td>0.006866</td>\n",
       "      <td>-0.024232</td>\n",
       "      <td>0.002550</td>\n",
       "      <td>-0.000087</td>\n",
       "      <td>-0.004496</td>\n",
       "      <td>-0.015511</td>\n",
       "      <td>0.025740</td>\n",
       "      <td>-0.018564</td>\n",
       "      <td>0.017397</td>\n",
       "    </tr>\n",
       "    <tr>\n",
       "      <th>YearsCodePro</th>\n",
       "      <td>-0.013993</td>\n",
       "      <td>-0.013876</td>\n",
       "      <td>0.835172</td>\n",
       "      <td>-0.270413</td>\n",
       "      <td>1.000000</td>\n",
       "      <td>0.302133</td>\n",
       "      <td>0.036672</td>\n",
       "      <td>0.772447</td>\n",
       "      <td>0.062215</td>\n",
       "      <td>0.009724</td>\n",
       "      <td>...</td>\n",
       "      <td>0.030325</td>\n",
       "      <td>-0.047839</td>\n",
       "      <td>-0.027478</td>\n",
       "      <td>-0.030922</td>\n",
       "      <td>0.027827</td>\n",
       "      <td>-0.002682</td>\n",
       "      <td>0.016025</td>\n",
       "      <td>0.014912</td>\n",
       "      <td>-0.000018</td>\n",
       "      <td>-0.010899</td>\n",
       "    </tr>\n",
       "    <tr>\n",
       "      <th>...</th>\n",
       "      <td>...</td>\n",
       "      <td>...</td>\n",
       "      <td>...</td>\n",
       "      <td>...</td>\n",
       "      <td>...</td>\n",
       "      <td>...</td>\n",
       "      <td>...</td>\n",
       "      <td>...</td>\n",
       "      <td>...</td>\n",
       "      <td>...</td>\n",
       "      <td>...</td>\n",
       "      <td>...</td>\n",
       "      <td>...</td>\n",
       "      <td>...</td>\n",
       "      <td>...</td>\n",
       "      <td>...</td>\n",
       "      <td>...</td>\n",
       "      <td>...</td>\n",
       "      <td>...</td>\n",
       "      <td>...</td>\n",
       "      <td>...</td>\n",
       "    </tr>\n",
       "    <tr>\n",
       "      <th>React.js</th>\n",
       "      <td>-0.010903</td>\n",
       "      <td>-0.011016</td>\n",
       "      <td>0.004504</td>\n",
       "      <td>-0.004496</td>\n",
       "      <td>-0.002682</td>\n",
       "      <td>0.067425</td>\n",
       "      <td>0.003702</td>\n",
       "      <td>0.008267</td>\n",
       "      <td>0.013023</td>\n",
       "      <td>0.046401</td>\n",
       "      <td>...</td>\n",
       "      <td>-0.025933</td>\n",
       "      <td>-0.067846</td>\n",
       "      <td>-0.049385</td>\n",
       "      <td>-0.025469</td>\n",
       "      <td>-0.030601</td>\n",
       "      <td>1.000000</td>\n",
       "      <td>-0.027281</td>\n",
       "      <td>-0.044909</td>\n",
       "      <td>-0.016770</td>\n",
       "      <td>-0.082731</td>\n",
       "    </tr>\n",
       "    <tr>\n",
       "      <th>Ruby on Rails</th>\n",
       "      <td>-0.004544</td>\n",
       "      <td>-0.004641</td>\n",
       "      <td>0.017311</td>\n",
       "      <td>-0.015511</td>\n",
       "      <td>0.016025</td>\n",
       "      <td>0.028922</td>\n",
       "      <td>0.000928</td>\n",
       "      <td>0.025348</td>\n",
       "      <td>-0.011641</td>\n",
       "      <td>0.003570</td>\n",
       "      <td>...</td>\n",
       "      <td>-0.012538</td>\n",
       "      <td>-0.032801</td>\n",
       "      <td>-0.023876</td>\n",
       "      <td>-0.012313</td>\n",
       "      <td>-0.014795</td>\n",
       "      <td>-0.027281</td>\n",
       "      <td>1.000000</td>\n",
       "      <td>-0.021712</td>\n",
       "      <td>-0.008108</td>\n",
       "      <td>-0.039998</td>\n",
       "    </tr>\n",
       "    <tr>\n",
       "      <th>Spring</th>\n",
       "      <td>-0.010804</td>\n",
       "      <td>-0.010784</td>\n",
       "      <td>0.011773</td>\n",
       "      <td>0.025740</td>\n",
       "      <td>0.014912</td>\n",
       "      <td>-0.001206</td>\n",
       "      <td>-0.005014</td>\n",
       "      <td>0.015111</td>\n",
       "      <td>0.041085</td>\n",
       "      <td>-0.027266</td>\n",
       "      <td>...</td>\n",
       "      <td>-0.020639</td>\n",
       "      <td>-0.053996</td>\n",
       "      <td>-0.039303</td>\n",
       "      <td>-0.020270</td>\n",
       "      <td>-0.024354</td>\n",
       "      <td>-0.044909</td>\n",
       "      <td>-0.021712</td>\n",
       "      <td>1.000000</td>\n",
       "      <td>-0.013347</td>\n",
       "      <td>-0.065842</td>\n",
       "    </tr>\n",
       "    <tr>\n",
       "      <th>Vue.js</th>\n",
       "      <td>0.001956</td>\n",
       "      <td>0.001812</td>\n",
       "      <td>0.005572</td>\n",
       "      <td>-0.018564</td>\n",
       "      <td>-0.000018</td>\n",
       "      <td>0.004341</td>\n",
       "      <td>0.014009</td>\n",
       "      <td>-0.005166</td>\n",
       "      <td>-0.013035</td>\n",
       "      <td>0.002810</td>\n",
       "      <td>...</td>\n",
       "      <td>-0.007707</td>\n",
       "      <td>-0.020163</td>\n",
       "      <td>-0.014677</td>\n",
       "      <td>-0.007569</td>\n",
       "      <td>-0.009094</td>\n",
       "      <td>-0.016770</td>\n",
       "      <td>-0.008108</td>\n",
       "      <td>-0.013347</td>\n",
       "      <td>1.000000</td>\n",
       "      <td>-0.024587</td>\n",
       "    </tr>\n",
       "    <tr>\n",
       "      <th>jQuery</th>\n",
       "      <td>0.012744</td>\n",
       "      <td>0.012694</td>\n",
       "      <td>-0.009434</td>\n",
       "      <td>0.017397</td>\n",
       "      <td>-0.010899</td>\n",
       "      <td>-0.069368</td>\n",
       "      <td>0.012553</td>\n",
       "      <td>-0.008629</td>\n",
       "      <td>-0.036453</td>\n",
       "      <td>-0.006789</td>\n",
       "      <td>...</td>\n",
       "      <td>-0.038021</td>\n",
       "      <td>-0.099470</td>\n",
       "      <td>-0.072404</td>\n",
       "      <td>-0.037341</td>\n",
       "      <td>-0.044865</td>\n",
       "      <td>-0.082731</td>\n",
       "      <td>-0.039998</td>\n",
       "      <td>-0.065842</td>\n",
       "      <td>-0.024587</td>\n",
       "      <td>1.000000</td>\n",
       "    </tr>\n",
       "  </tbody>\n",
       "</table>\n",
       "<p>79 rows × 79 columns</p>\n",
       "</div>"
      ],
      "text/plain": [
       "               Respondent     index  YearsCode  Age1stCode  YearsCodePro  \\\n",
       "Respondent       1.000000  0.999950  -0.006506    0.007629     -0.013993   \n",
       "index            0.999950  1.000000  -0.006413    0.007580     -0.013876   \n",
       "YearsCode       -0.006506 -0.006413   1.000000   -0.436701      0.835172   \n",
       "Age1stCode       0.007629  0.007580  -0.436701    1.000000     -0.270413   \n",
       "YearsCodePro    -0.013993 -0.013876   0.835172   -0.270413      1.000000   \n",
       "...                   ...       ...        ...         ...           ...   \n",
       "React.js        -0.010903 -0.011016   0.004504   -0.004496     -0.002682   \n",
       "Ruby on Rails   -0.004544 -0.004641   0.017311   -0.015511      0.016025   \n",
       "Spring          -0.010804 -0.010784   0.011773    0.025740      0.014912   \n",
       "Vue.js           0.001956  0.001812   0.005572   -0.018564     -0.000018   \n",
       "jQuery           0.012744  0.012694  -0.009434    0.017397     -0.010899   \n",
       "\n",
       "               ConvertedComp  WorkWeekHrs       Age  EdLevel-encoded  \\\n",
       "Respondent          0.009535    -0.015673 -0.003951         0.002285   \n",
       "index               0.009452    -0.015781 -0.003854         0.002143   \n",
       "YearsCode           0.291831     0.033386  0.728240         0.096317   \n",
       "Age1stCode         -0.117290    -0.010015 -0.095888         0.049247   \n",
       "YearsCodePro        0.302133     0.036672  0.772447         0.062215   \n",
       "...                      ...          ...       ...              ...   \n",
       "React.js            0.067425     0.003702  0.008267         0.013023   \n",
       "Ruby on Rails       0.028922     0.000928  0.025348        -0.011641   \n",
       "Spring             -0.001206    -0.005014  0.015111         0.041085   \n",
       "Vue.js              0.004341     0.014009 -0.005166        -0.013035   \n",
       "jQuery             -0.069368     0.012553 -0.008629        -0.036453   \n",
       "\n",
       "               CareerSat-encoded  ...    Drupal   Express     Flask   Laravel  \\\n",
       "Respondent             -0.004041  ...  0.011546 -0.002032  0.003942  0.001939   \n",
       "index                  -0.003938  ...  0.011790 -0.001901  0.003856  0.001908   \n",
       "YearsCode               0.011209  ...  0.015907 -0.048865 -0.000469 -0.024844   \n",
       "Age1stCode             -0.046008  ... -0.017243  0.006866 -0.024232  0.002550   \n",
       "YearsCodePro            0.009724  ...  0.030325 -0.047839 -0.027478 -0.030922   \n",
       "...                          ...  ...       ...       ...       ...       ...   \n",
       "React.js                0.046401  ... -0.025933 -0.067846 -0.049385 -0.025469   \n",
       "Ruby on Rails           0.003570  ... -0.012538 -0.032801 -0.023876 -0.012313   \n",
       "Spring                 -0.027266  ... -0.020639 -0.053996 -0.039303 -0.020270   \n",
       "Vue.js                  0.002810  ... -0.007707 -0.020163 -0.014677 -0.007569   \n",
       "jQuery                 -0.006789  ... -0.038021 -0.099470 -0.072404 -0.037341   \n",
       "\n",
       "               Other(s):  React.js  Ruby on Rails    Spring    Vue.js  \\\n",
       "Respondent      0.002785 -0.010903      -0.004544 -0.010804  0.001956   \n",
       "index           0.002785 -0.011016      -0.004641 -0.010784  0.001812   \n",
       "YearsCode       0.032081  0.004504       0.017311  0.011773  0.005572   \n",
       "Age1stCode     -0.000087 -0.004496      -0.015511  0.025740 -0.018564   \n",
       "YearsCodePro    0.027827 -0.002682       0.016025  0.014912 -0.000018   \n",
       "...                  ...       ...            ...       ...       ...   \n",
       "React.js       -0.030601  1.000000      -0.027281 -0.044909 -0.016770   \n",
       "Ruby on Rails  -0.014795 -0.027281       1.000000 -0.021712 -0.008108   \n",
       "Spring         -0.024354 -0.044909      -0.021712  1.000000 -0.013347   \n",
       "Vue.js         -0.009094 -0.016770      -0.008108 -0.013347  1.000000   \n",
       "jQuery         -0.044865 -0.082731      -0.039998 -0.065842 -0.024587   \n",
       "\n",
       "                 jQuery  \n",
       "Respondent     0.012744  \n",
       "index          0.012694  \n",
       "YearsCode     -0.009434  \n",
       "Age1stCode     0.017397  \n",
       "YearsCodePro  -0.010899  \n",
       "...                 ...  \n",
       "React.js      -0.082731  \n",
       "Ruby on Rails -0.039998  \n",
       "Spring        -0.065842  \n",
       "Vue.js        -0.024587  \n",
       "jQuery         1.000000  \n",
       "\n",
       "[79 rows x 79 columns]"
      ]
     },
     "execution_count": 109,
     "metadata": {},
     "output_type": "execute_result"
    }
   ],
   "source": [
    "pearson=df3n.corr(method='pearson')\n",
    "pearson\n"
   ]
  },
  {
   "cell_type": "code",
   "execution_count": 110,
   "metadata": {},
   "outputs": [
    {
     "data": {
      "text/html": [
       "<div>\n",
       "<style scoped>\n",
       "    .dataframe tbody tr th:only-of-type {\n",
       "        vertical-align: middle;\n",
       "    }\n",
       "\n",
       "    .dataframe tbody tr th {\n",
       "        vertical-align: top;\n",
       "    }\n",
       "\n",
       "    .dataframe thead th {\n",
       "        text-align: right;\n",
       "    }\n",
       "</style>\n",
       "<table border=\"1\" class=\"dataframe\">\n",
       "  <thead>\n",
       "    <tr style=\"text-align: right;\">\n",
       "      <th></th>\n",
       "      <th>Respondent</th>\n",
       "      <th>index</th>\n",
       "      <th>YearsCode</th>\n",
       "      <th>Age1stCode</th>\n",
       "      <th>YearsCodePro</th>\n",
       "      <th>ConvertedComp</th>\n",
       "      <th>WorkWeekHrs</th>\n",
       "      <th>Age</th>\n",
       "      <th>EdLevel-encoded</th>\n",
       "      <th>CareerSat-encoded</th>\n",
       "      <th>...</th>\n",
       "      <th>Drupal</th>\n",
       "      <th>Express</th>\n",
       "      <th>Flask</th>\n",
       "      <th>Laravel</th>\n",
       "      <th>Other(s):</th>\n",
       "      <th>React.js</th>\n",
       "      <th>Ruby on Rails</th>\n",
       "      <th>Spring</th>\n",
       "      <th>Vue.js</th>\n",
       "      <th>jQuery</th>\n",
       "    </tr>\n",
       "  </thead>\n",
       "  <tbody>\n",
       "    <tr>\n",
       "      <th>Respondent</th>\n",
       "      <td>1.000000</td>\n",
       "      <td>1.000000</td>\n",
       "      <td>-0.006095</td>\n",
       "      <td>0.008288</td>\n",
       "      <td>-0.014756</td>\n",
       "      <td>0.007181</td>\n",
       "      <td>-0.012202</td>\n",
       "      <td>-0.004627</td>\n",
       "      <td>0.001998</td>\n",
       "      <td>-0.002964</td>\n",
       "      <td>...</td>\n",
       "      <td>0.011829</td>\n",
       "      <td>-0.001879</td>\n",
       "      <td>0.003827</td>\n",
       "      <td>0.001932</td>\n",
       "      <td>0.002772</td>\n",
       "      <td>-0.011016</td>\n",
       "      <td>-0.004644</td>\n",
       "      <td>-0.010793</td>\n",
       "      <td>0.001784</td>\n",
       "      <td>0.012704</td>\n",
       "    </tr>\n",
       "    <tr>\n",
       "      <th>index</th>\n",
       "      <td>1.000000</td>\n",
       "      <td>1.000000</td>\n",
       "      <td>-0.006095</td>\n",
       "      <td>0.008288</td>\n",
       "      <td>-0.014756</td>\n",
       "      <td>0.007181</td>\n",
       "      <td>-0.012202</td>\n",
       "      <td>-0.004627</td>\n",
       "      <td>0.001998</td>\n",
       "      <td>-0.002964</td>\n",
       "      <td>...</td>\n",
       "      <td>0.011829</td>\n",
       "      <td>-0.001879</td>\n",
       "      <td>0.003827</td>\n",
       "      <td>0.001932</td>\n",
       "      <td>0.002772</td>\n",
       "      <td>-0.011016</td>\n",
       "      <td>-0.004644</td>\n",
       "      <td>-0.010793</td>\n",
       "      <td>0.001784</td>\n",
       "      <td>0.012704</td>\n",
       "    </tr>\n",
       "    <tr>\n",
       "      <th>YearsCode</th>\n",
       "      <td>-0.006095</td>\n",
       "      <td>-0.006095</td>\n",
       "      <td>1.000000</td>\n",
       "      <td>-0.429033</td>\n",
       "      <td>0.819162</td>\n",
       "      <td>0.330874</td>\n",
       "      <td>0.037995</td>\n",
       "      <td>0.679691</td>\n",
       "      <td>0.120861</td>\n",
       "      <td>0.010339</td>\n",
       "      <td>...</td>\n",
       "      <td>0.014253</td>\n",
       "      <td>-0.052639</td>\n",
       "      <td>0.000208</td>\n",
       "      <td>-0.023385</td>\n",
       "      <td>0.022374</td>\n",
       "      <td>0.002985</td>\n",
       "      <td>0.017097</td>\n",
       "      <td>0.015239</td>\n",
       "      <td>0.001795</td>\n",
       "      <td>-0.010646</td>\n",
       "    </tr>\n",
       "    <tr>\n",
       "      <th>Age1stCode</th>\n",
       "      <td>0.008288</td>\n",
       "      <td>0.008288</td>\n",
       "      <td>-0.429033</td>\n",
       "      <td>1.000000</td>\n",
       "      <td>-0.261108</td>\n",
       "      <td>-0.147896</td>\n",
       "      <td>0.039221</td>\n",
       "      <td>-0.119376</td>\n",
       "      <td>0.055055</td>\n",
       "      <td>-0.055046</td>\n",
       "      <td>...</td>\n",
       "      <td>-0.015473</td>\n",
       "      <td>0.003078</td>\n",
       "      <td>-0.025795</td>\n",
       "      <td>0.004950</td>\n",
       "      <td>-0.000942</td>\n",
       "      <td>-0.014343</td>\n",
       "      <td>-0.015928</td>\n",
       "      <td>0.028691</td>\n",
       "      <td>-0.016881</td>\n",
       "      <td>0.012578</td>\n",
       "    </tr>\n",
       "    <tr>\n",
       "      <th>YearsCodePro</th>\n",
       "      <td>-0.014756</td>\n",
       "      <td>-0.014756</td>\n",
       "      <td>0.819162</td>\n",
       "      <td>-0.261108</td>\n",
       "      <td>1.000000</td>\n",
       "      <td>0.352692</td>\n",
       "      <td>0.073574</td>\n",
       "      <td>0.750708</td>\n",
       "      <td>0.096783</td>\n",
       "      <td>0.010097</td>\n",
       "      <td>...</td>\n",
       "      <td>0.032192</td>\n",
       "      <td>-0.057983</td>\n",
       "      <td>-0.025692</td>\n",
       "      <td>-0.030832</td>\n",
       "      <td>0.023482</td>\n",
       "      <td>-0.000351</td>\n",
       "      <td>0.022859</td>\n",
       "      <td>0.012800</td>\n",
       "      <td>0.000728</td>\n",
       "      <td>-0.011623</td>\n",
       "    </tr>\n",
       "    <tr>\n",
       "      <th>...</th>\n",
       "      <td>...</td>\n",
       "      <td>...</td>\n",
       "      <td>...</td>\n",
       "      <td>...</td>\n",
       "      <td>...</td>\n",
       "      <td>...</td>\n",
       "      <td>...</td>\n",
       "      <td>...</td>\n",
       "      <td>...</td>\n",
       "      <td>...</td>\n",
       "      <td>...</td>\n",
       "      <td>...</td>\n",
       "      <td>...</td>\n",
       "      <td>...</td>\n",
       "      <td>...</td>\n",
       "      <td>...</td>\n",
       "      <td>...</td>\n",
       "      <td>...</td>\n",
       "      <td>...</td>\n",
       "      <td>...</td>\n",
       "      <td>...</td>\n",
       "    </tr>\n",
       "    <tr>\n",
       "      <th>React.js</th>\n",
       "      <td>-0.011016</td>\n",
       "      <td>-0.011016</td>\n",
       "      <td>0.002985</td>\n",
       "      <td>-0.014343</td>\n",
       "      <td>-0.000351</td>\n",
       "      <td>0.077353</td>\n",
       "      <td>-0.021158</td>\n",
       "      <td>0.009453</td>\n",
       "      <td>0.011854</td>\n",
       "      <td>0.050398</td>\n",
       "      <td>...</td>\n",
       "      <td>-0.025933</td>\n",
       "      <td>-0.067846</td>\n",
       "      <td>-0.049385</td>\n",
       "      <td>-0.025469</td>\n",
       "      <td>-0.030601</td>\n",
       "      <td>1.000000</td>\n",
       "      <td>-0.027281</td>\n",
       "      <td>-0.044909</td>\n",
       "      <td>-0.016770</td>\n",
       "      <td>-0.082731</td>\n",
       "    </tr>\n",
       "    <tr>\n",
       "      <th>Ruby on Rails</th>\n",
       "      <td>-0.004644</td>\n",
       "      <td>-0.004644</td>\n",
       "      <td>0.017097</td>\n",
       "      <td>-0.015928</td>\n",
       "      <td>0.022859</td>\n",
       "      <td>0.036315</td>\n",
       "      <td>-0.008853</td>\n",
       "      <td>0.025643</td>\n",
       "      <td>-0.012676</td>\n",
       "      <td>0.003021</td>\n",
       "      <td>...</td>\n",
       "      <td>-0.012538</td>\n",
       "      <td>-0.032801</td>\n",
       "      <td>-0.023876</td>\n",
       "      <td>-0.012313</td>\n",
       "      <td>-0.014795</td>\n",
       "      <td>-0.027281</td>\n",
       "      <td>1.000000</td>\n",
       "      <td>-0.021712</td>\n",
       "      <td>-0.008108</td>\n",
       "      <td>-0.039998</td>\n",
       "    </tr>\n",
       "    <tr>\n",
       "      <th>Spring</th>\n",
       "      <td>-0.010793</td>\n",
       "      <td>-0.010793</td>\n",
       "      <td>0.015239</td>\n",
       "      <td>0.028691</td>\n",
       "      <td>0.012800</td>\n",
       "      <td>0.001234</td>\n",
       "      <td>0.005970</td>\n",
       "      <td>0.014920</td>\n",
       "      <td>0.043883</td>\n",
       "      <td>-0.029185</td>\n",
       "      <td>...</td>\n",
       "      <td>-0.020639</td>\n",
       "      <td>-0.053996</td>\n",
       "      <td>-0.039303</td>\n",
       "      <td>-0.020270</td>\n",
       "      <td>-0.024354</td>\n",
       "      <td>-0.044909</td>\n",
       "      <td>-0.021712</td>\n",
       "      <td>1.000000</td>\n",
       "      <td>-0.013347</td>\n",
       "      <td>-0.065842</td>\n",
       "    </tr>\n",
       "    <tr>\n",
       "      <th>Vue.js</th>\n",
       "      <td>0.001784</td>\n",
       "      <td>0.001784</td>\n",
       "      <td>0.001795</td>\n",
       "      <td>-0.016881</td>\n",
       "      <td>0.000728</td>\n",
       "      <td>0.006934</td>\n",
       "      <td>0.011951</td>\n",
       "      <td>-0.004451</td>\n",
       "      <td>-0.013584</td>\n",
       "      <td>0.007770</td>\n",
       "      <td>...</td>\n",
       "      <td>-0.007707</td>\n",
       "      <td>-0.020163</td>\n",
       "      <td>-0.014677</td>\n",
       "      <td>-0.007569</td>\n",
       "      <td>-0.009094</td>\n",
       "      <td>-0.016770</td>\n",
       "      <td>-0.008108</td>\n",
       "      <td>-0.013347</td>\n",
       "      <td>1.000000</td>\n",
       "      <td>-0.024587</td>\n",
       "    </tr>\n",
       "    <tr>\n",
       "      <th>jQuery</th>\n",
       "      <td>0.012704</td>\n",
       "      <td>0.012704</td>\n",
       "      <td>-0.010646</td>\n",
       "      <td>0.012578</td>\n",
       "      <td>-0.011623</td>\n",
       "      <td>-0.075388</td>\n",
       "      <td>-0.001543</td>\n",
       "      <td>-0.009814</td>\n",
       "      <td>-0.034533</td>\n",
       "      <td>-0.014068</td>\n",
       "      <td>...</td>\n",
       "      <td>-0.038021</td>\n",
       "      <td>-0.099470</td>\n",
       "      <td>-0.072404</td>\n",
       "      <td>-0.037341</td>\n",
       "      <td>-0.044865</td>\n",
       "      <td>-0.082731</td>\n",
       "      <td>-0.039998</td>\n",
       "      <td>-0.065842</td>\n",
       "      <td>-0.024587</td>\n",
       "      <td>1.000000</td>\n",
       "    </tr>\n",
       "  </tbody>\n",
       "</table>\n",
       "<p>79 rows × 79 columns</p>\n",
       "</div>"
      ],
      "text/plain": [
       "               Respondent     index  YearsCode  Age1stCode  YearsCodePro  \\\n",
       "Respondent       1.000000  1.000000  -0.006095    0.008288     -0.014756   \n",
       "index            1.000000  1.000000  -0.006095    0.008288     -0.014756   \n",
       "YearsCode       -0.006095 -0.006095   1.000000   -0.429033      0.819162   \n",
       "Age1stCode       0.008288  0.008288  -0.429033    1.000000     -0.261108   \n",
       "YearsCodePro    -0.014756 -0.014756   0.819162   -0.261108      1.000000   \n",
       "...                   ...       ...        ...         ...           ...   \n",
       "React.js        -0.011016 -0.011016   0.002985   -0.014343     -0.000351   \n",
       "Ruby on Rails   -0.004644 -0.004644   0.017097   -0.015928      0.022859   \n",
       "Spring          -0.010793 -0.010793   0.015239    0.028691      0.012800   \n",
       "Vue.js           0.001784  0.001784   0.001795   -0.016881      0.000728   \n",
       "jQuery           0.012704  0.012704  -0.010646    0.012578     -0.011623   \n",
       "\n",
       "               ConvertedComp  WorkWeekHrs       Age  EdLevel-encoded  \\\n",
       "Respondent          0.007181    -0.012202 -0.004627         0.001998   \n",
       "index               0.007181    -0.012202 -0.004627         0.001998   \n",
       "YearsCode           0.330874     0.037995  0.679691         0.120861   \n",
       "Age1stCode         -0.147896     0.039221 -0.119376         0.055055   \n",
       "YearsCodePro        0.352692     0.073574  0.750708         0.096783   \n",
       "...                      ...          ...       ...              ...   \n",
       "React.js            0.077353    -0.021158  0.009453         0.011854   \n",
       "Ruby on Rails       0.036315    -0.008853  0.025643        -0.012676   \n",
       "Spring              0.001234     0.005970  0.014920         0.043883   \n",
       "Vue.js              0.006934     0.011951 -0.004451        -0.013584   \n",
       "jQuery             -0.075388    -0.001543 -0.009814        -0.034533   \n",
       "\n",
       "               CareerSat-encoded  ...    Drupal   Express     Flask   Laravel  \\\n",
       "Respondent             -0.002964  ...  0.011829 -0.001879  0.003827  0.001932   \n",
       "index                  -0.002964  ...  0.011829 -0.001879  0.003827  0.001932   \n",
       "YearsCode               0.010339  ...  0.014253 -0.052639  0.000208 -0.023385   \n",
       "Age1stCode             -0.055046  ... -0.015473  0.003078 -0.025795  0.004950   \n",
       "YearsCodePro            0.010097  ...  0.032192 -0.057983 -0.025692 -0.030832   \n",
       "...                          ...  ...       ...       ...       ...       ...   \n",
       "React.js                0.050398  ... -0.025933 -0.067846 -0.049385 -0.025469   \n",
       "Ruby on Rails           0.003021  ... -0.012538 -0.032801 -0.023876 -0.012313   \n",
       "Spring                 -0.029185  ... -0.020639 -0.053996 -0.039303 -0.020270   \n",
       "Vue.js                  0.007770  ... -0.007707 -0.020163 -0.014677 -0.007569   \n",
       "jQuery                 -0.014068  ... -0.038021 -0.099470 -0.072404 -0.037341   \n",
       "\n",
       "               Other(s):  React.js  Ruby on Rails    Spring    Vue.js  \\\n",
       "Respondent      0.002772 -0.011016      -0.004644 -0.010793  0.001784   \n",
       "index           0.002772 -0.011016      -0.004644 -0.010793  0.001784   \n",
       "YearsCode       0.022374  0.002985       0.017097  0.015239  0.001795   \n",
       "Age1stCode     -0.000942 -0.014343      -0.015928  0.028691 -0.016881   \n",
       "YearsCodePro    0.023482 -0.000351       0.022859  0.012800  0.000728   \n",
       "...                  ...       ...            ...       ...       ...   \n",
       "React.js       -0.030601  1.000000      -0.027281 -0.044909 -0.016770   \n",
       "Ruby on Rails  -0.014795 -0.027281       1.000000 -0.021712 -0.008108   \n",
       "Spring         -0.024354 -0.044909      -0.021712  1.000000 -0.013347   \n",
       "Vue.js         -0.009094 -0.016770      -0.008108 -0.013347  1.000000   \n",
       "jQuery         -0.044865 -0.082731      -0.039998 -0.065842 -0.024587   \n",
       "\n",
       "                 jQuery  \n",
       "Respondent     0.012704  \n",
       "index          0.012704  \n",
       "YearsCode     -0.010646  \n",
       "Age1stCode     0.012578  \n",
       "YearsCodePro  -0.011623  \n",
       "...                 ...  \n",
       "React.js      -0.082731  \n",
       "Ruby on Rails -0.039998  \n",
       "Spring        -0.065842  \n",
       "Vue.js        -0.024587  \n",
       "jQuery         1.000000  \n",
       "\n",
       "[79 rows x 79 columns]"
      ]
     },
     "execution_count": 110,
     "metadata": {},
     "output_type": "execute_result"
    }
   ],
   "source": [
    "spearman=df3n.corr(method='spearman')\n",
    "spearman"
   ]
  },
  {
   "cell_type": "code",
   "execution_count": 111,
   "metadata": {},
   "outputs": [
    {
     "data": {
      "text/html": [
       "<div>\n",
       "<style scoped>\n",
       "    .dataframe tbody tr th:only-of-type {\n",
       "        vertical-align: middle;\n",
       "    }\n",
       "\n",
       "    .dataframe tbody tr th {\n",
       "        vertical-align: top;\n",
       "    }\n",
       "\n",
       "    .dataframe thead th {\n",
       "        text-align: right;\n",
       "    }\n",
       "</style>\n",
       "<table border=\"1\" class=\"dataframe\">\n",
       "  <thead>\n",
       "    <tr style=\"text-align: right;\">\n",
       "      <th></th>\n",
       "      <th>Respondent</th>\n",
       "      <th>index</th>\n",
       "      <th>YearsCode</th>\n",
       "      <th>Age1stCode</th>\n",
       "      <th>YearsCodePro</th>\n",
       "      <th>ConvertedComp</th>\n",
       "      <th>WorkWeekHrs</th>\n",
       "      <th>Age</th>\n",
       "      <th>EdLevel-encoded</th>\n",
       "      <th>CareerSat-encoded</th>\n",
       "      <th>...</th>\n",
       "      <th>Drupal</th>\n",
       "      <th>Express</th>\n",
       "      <th>Flask</th>\n",
       "      <th>Laravel</th>\n",
       "      <th>Other(s):</th>\n",
       "      <th>React.js</th>\n",
       "      <th>Ruby on Rails</th>\n",
       "      <th>Spring</th>\n",
       "      <th>Vue.js</th>\n",
       "      <th>jQuery</th>\n",
       "    </tr>\n",
       "  </thead>\n",
       "  <tbody>\n",
       "    <tr>\n",
       "      <th>Respondent</th>\n",
       "      <td>1.000000</td>\n",
       "      <td>1.000000</td>\n",
       "      <td>-0.004103</td>\n",
       "      <td>0.005743</td>\n",
       "      <td>-0.010172</td>\n",
       "      <td>0.004814</td>\n",
       "      <td>-0.008862</td>\n",
       "      <td>-0.003174</td>\n",
       "      <td>0.001480</td>\n",
       "      <td>-0.002271</td>\n",
       "      <td>...</td>\n",
       "      <td>0.009659</td>\n",
       "      <td>-0.001534</td>\n",
       "      <td>0.003125</td>\n",
       "      <td>0.001577</td>\n",
       "      <td>0.002264</td>\n",
       "      <td>-0.008995</td>\n",
       "      <td>-0.003792</td>\n",
       "      <td>-0.008813</td>\n",
       "      <td>0.001457</td>\n",
       "      <td>0.010374</td>\n",
       "    </tr>\n",
       "    <tr>\n",
       "      <th>index</th>\n",
       "      <td>1.000000</td>\n",
       "      <td>1.000000</td>\n",
       "      <td>-0.004103</td>\n",
       "      <td>0.005743</td>\n",
       "      <td>-0.010172</td>\n",
       "      <td>0.004814</td>\n",
       "      <td>-0.008862</td>\n",
       "      <td>-0.003174</td>\n",
       "      <td>0.001480</td>\n",
       "      <td>-0.002271</td>\n",
       "      <td>...</td>\n",
       "      <td>0.009659</td>\n",
       "      <td>-0.001534</td>\n",
       "      <td>0.003125</td>\n",
       "      <td>0.001577</td>\n",
       "      <td>0.002264</td>\n",
       "      <td>-0.008995</td>\n",
       "      <td>-0.003792</td>\n",
       "      <td>-0.008813</td>\n",
       "      <td>0.001457</td>\n",
       "      <td>0.010374</td>\n",
       "    </tr>\n",
       "    <tr>\n",
       "      <th>YearsCode</th>\n",
       "      <td>-0.004103</td>\n",
       "      <td>-0.004103</td>\n",
       "      <td>1.000000</td>\n",
       "      <td>-0.316253</td>\n",
       "      <td>0.671146</td>\n",
       "      <td>0.233133</td>\n",
       "      <td>0.028401</td>\n",
       "      <td>0.523326</td>\n",
       "      <td>0.095267</td>\n",
       "      <td>0.008004</td>\n",
       "      <td>...</td>\n",
       "      <td>0.011928</td>\n",
       "      <td>-0.044053</td>\n",
       "      <td>0.000174</td>\n",
       "      <td>-0.019571</td>\n",
       "      <td>0.018725</td>\n",
       "      <td>0.002498</td>\n",
       "      <td>0.014308</td>\n",
       "      <td>0.012753</td>\n",
       "      <td>0.001502</td>\n",
       "      <td>-0.008910</td>\n",
       "    </tr>\n",
       "    <tr>\n",
       "      <th>Age1stCode</th>\n",
       "      <td>0.005743</td>\n",
       "      <td>0.005743</td>\n",
       "      <td>-0.316253</td>\n",
       "      <td>1.000000</td>\n",
       "      <td>-0.189163</td>\n",
       "      <td>-0.104170</td>\n",
       "      <td>0.029763</td>\n",
       "      <td>-0.079442</td>\n",
       "      <td>0.043054</td>\n",
       "      <td>-0.043378</td>\n",
       "      <td>...</td>\n",
       "      <td>-0.013077</td>\n",
       "      <td>0.002601</td>\n",
       "      <td>-0.021801</td>\n",
       "      <td>0.004184</td>\n",
       "      <td>-0.000796</td>\n",
       "      <td>-0.012122</td>\n",
       "      <td>-0.013462</td>\n",
       "      <td>0.024248</td>\n",
       "      <td>-0.014267</td>\n",
       "      <td>0.010630</td>\n",
       "    </tr>\n",
       "    <tr>\n",
       "      <th>YearsCodePro</th>\n",
       "      <td>-0.010172</td>\n",
       "      <td>-0.010172</td>\n",
       "      <td>0.671146</td>\n",
       "      <td>-0.189163</td>\n",
       "      <td>1.000000</td>\n",
       "      <td>0.251139</td>\n",
       "      <td>0.055457</td>\n",
       "      <td>0.605287</td>\n",
       "      <td>0.076809</td>\n",
       "      <td>0.007930</td>\n",
       "      <td>...</td>\n",
       "      <td>0.027231</td>\n",
       "      <td>-0.049048</td>\n",
       "      <td>-0.021733</td>\n",
       "      <td>-0.026081</td>\n",
       "      <td>0.019863</td>\n",
       "      <td>-0.000297</td>\n",
       "      <td>0.019337</td>\n",
       "      <td>0.010827</td>\n",
       "      <td>0.000616</td>\n",
       "      <td>-0.009832</td>\n",
       "    </tr>\n",
       "    <tr>\n",
       "      <th>...</th>\n",
       "      <td>...</td>\n",
       "      <td>...</td>\n",
       "      <td>...</td>\n",
       "      <td>...</td>\n",
       "      <td>...</td>\n",
       "      <td>...</td>\n",
       "      <td>...</td>\n",
       "      <td>...</td>\n",
       "      <td>...</td>\n",
       "      <td>...</td>\n",
       "      <td>...</td>\n",
       "      <td>...</td>\n",
       "      <td>...</td>\n",
       "      <td>...</td>\n",
       "      <td>...</td>\n",
       "      <td>...</td>\n",
       "      <td>...</td>\n",
       "      <td>...</td>\n",
       "      <td>...</td>\n",
       "      <td>...</td>\n",
       "      <td>...</td>\n",
       "    </tr>\n",
       "    <tr>\n",
       "      <th>React.js</th>\n",
       "      <td>-0.008995</td>\n",
       "      <td>-0.008995</td>\n",
       "      <td>0.002498</td>\n",
       "      <td>-0.012122</td>\n",
       "      <td>-0.000297</td>\n",
       "      <td>0.063377</td>\n",
       "      <td>-0.018864</td>\n",
       "      <td>0.007909</td>\n",
       "      <td>0.011004</td>\n",
       "      <td>0.046807</td>\n",
       "      <td>...</td>\n",
       "      <td>-0.025933</td>\n",
       "      <td>-0.067846</td>\n",
       "      <td>-0.049385</td>\n",
       "      <td>-0.025469</td>\n",
       "      <td>-0.030601</td>\n",
       "      <td>1.000000</td>\n",
       "      <td>-0.027281</td>\n",
       "      <td>-0.044909</td>\n",
       "      <td>-0.016770</td>\n",
       "      <td>-0.082731</td>\n",
       "    </tr>\n",
       "    <tr>\n",
       "      <th>Ruby on Rails</th>\n",
       "      <td>-0.003792</td>\n",
       "      <td>-0.003792</td>\n",
       "      <td>0.014308</td>\n",
       "      <td>-0.013462</td>\n",
       "      <td>0.019337</td>\n",
       "      <td>0.029753</td>\n",
       "      <td>-0.007893</td>\n",
       "      <td>0.021455</td>\n",
       "      <td>-0.011768</td>\n",
       "      <td>0.002806</td>\n",
       "      <td>...</td>\n",
       "      <td>-0.012538</td>\n",
       "      <td>-0.032801</td>\n",
       "      <td>-0.023876</td>\n",
       "      <td>-0.012313</td>\n",
       "      <td>-0.014795</td>\n",
       "      <td>-0.027281</td>\n",
       "      <td>1.000000</td>\n",
       "      <td>-0.021712</td>\n",
       "      <td>-0.008108</td>\n",
       "      <td>-0.039998</td>\n",
       "    </tr>\n",
       "    <tr>\n",
       "      <th>Spring</th>\n",
       "      <td>-0.008813</td>\n",
       "      <td>-0.008813</td>\n",
       "      <td>0.012753</td>\n",
       "      <td>0.024248</td>\n",
       "      <td>0.010827</td>\n",
       "      <td>0.001011</td>\n",
       "      <td>0.005322</td>\n",
       "      <td>0.012483</td>\n",
       "      <td>0.040737</td>\n",
       "      <td>-0.027105</td>\n",
       "      <td>...</td>\n",
       "      <td>-0.020639</td>\n",
       "      <td>-0.053996</td>\n",
       "      <td>-0.039303</td>\n",
       "      <td>-0.020270</td>\n",
       "      <td>-0.024354</td>\n",
       "      <td>-0.044909</td>\n",
       "      <td>-0.021712</td>\n",
       "      <td>1.000000</td>\n",
       "      <td>-0.013347</td>\n",
       "      <td>-0.065842</td>\n",
       "    </tr>\n",
       "    <tr>\n",
       "      <th>Vue.js</th>\n",
       "      <td>0.001457</td>\n",
       "      <td>0.001457</td>\n",
       "      <td>0.001502</td>\n",
       "      <td>-0.014267</td>\n",
       "      <td>0.000616</td>\n",
       "      <td>0.005681</td>\n",
       "      <td>0.010655</td>\n",
       "      <td>-0.003724</td>\n",
       "      <td>-0.012610</td>\n",
       "      <td>0.007216</td>\n",
       "      <td>...</td>\n",
       "      <td>-0.007707</td>\n",
       "      <td>-0.020163</td>\n",
       "      <td>-0.014677</td>\n",
       "      <td>-0.007569</td>\n",
       "      <td>-0.009094</td>\n",
       "      <td>-0.016770</td>\n",
       "      <td>-0.008108</td>\n",
       "      <td>-0.013347</td>\n",
       "      <td>1.000000</td>\n",
       "      <td>-0.024587</td>\n",
       "    </tr>\n",
       "    <tr>\n",
       "      <th>jQuery</th>\n",
       "      <td>0.010374</td>\n",
       "      <td>0.010374</td>\n",
       "      <td>-0.008910</td>\n",
       "      <td>0.010630</td>\n",
       "      <td>-0.009832</td>\n",
       "      <td>-0.061767</td>\n",
       "      <td>-0.001375</td>\n",
       "      <td>-0.008211</td>\n",
       "      <td>-0.032057</td>\n",
       "      <td>-0.013066</td>\n",
       "      <td>...</td>\n",
       "      <td>-0.038021</td>\n",
       "      <td>-0.099470</td>\n",
       "      <td>-0.072404</td>\n",
       "      <td>-0.037341</td>\n",
       "      <td>-0.044865</td>\n",
       "      <td>-0.082731</td>\n",
       "      <td>-0.039998</td>\n",
       "      <td>-0.065842</td>\n",
       "      <td>-0.024587</td>\n",
       "      <td>1.000000</td>\n",
       "    </tr>\n",
       "  </tbody>\n",
       "</table>\n",
       "<p>79 rows × 79 columns</p>\n",
       "</div>"
      ],
      "text/plain": [
       "               Respondent     index  YearsCode  Age1stCode  YearsCodePro  \\\n",
       "Respondent       1.000000  1.000000  -0.004103    0.005743     -0.010172   \n",
       "index            1.000000  1.000000  -0.004103    0.005743     -0.010172   \n",
       "YearsCode       -0.004103 -0.004103   1.000000   -0.316253      0.671146   \n",
       "Age1stCode       0.005743  0.005743  -0.316253    1.000000     -0.189163   \n",
       "YearsCodePro    -0.010172 -0.010172   0.671146   -0.189163      1.000000   \n",
       "...                   ...       ...        ...         ...           ...   \n",
       "React.js        -0.008995 -0.008995   0.002498   -0.012122     -0.000297   \n",
       "Ruby on Rails   -0.003792 -0.003792   0.014308   -0.013462      0.019337   \n",
       "Spring          -0.008813 -0.008813   0.012753    0.024248      0.010827   \n",
       "Vue.js           0.001457  0.001457   0.001502   -0.014267      0.000616   \n",
       "jQuery           0.010374  0.010374  -0.008910    0.010630     -0.009832   \n",
       "\n",
       "               ConvertedComp  WorkWeekHrs       Age  EdLevel-encoded  \\\n",
       "Respondent          0.004814    -0.008862 -0.003174         0.001480   \n",
       "index               0.004814    -0.008862 -0.003174         0.001480   \n",
       "YearsCode           0.233133     0.028401  0.523326         0.095267   \n",
       "Age1stCode         -0.104170     0.029763 -0.079442         0.043054   \n",
       "YearsCodePro        0.251139     0.055457  0.605287         0.076809   \n",
       "...                      ...          ...       ...              ...   \n",
       "React.js            0.063377    -0.018864  0.007909         0.011004   \n",
       "Ruby on Rails       0.029753    -0.007893  0.021455        -0.011768   \n",
       "Spring              0.001011     0.005322  0.012483         0.040737   \n",
       "Vue.js              0.005681     0.010655 -0.003724        -0.012610   \n",
       "jQuery             -0.061767    -0.001375 -0.008211        -0.032057   \n",
       "\n",
       "               CareerSat-encoded  ...    Drupal   Express     Flask   Laravel  \\\n",
       "Respondent             -0.002271  ...  0.009659 -0.001534  0.003125  0.001577   \n",
       "index                  -0.002271  ...  0.009659 -0.001534  0.003125  0.001577   \n",
       "YearsCode               0.008004  ...  0.011928 -0.044053  0.000174 -0.019571   \n",
       "Age1stCode             -0.043378  ... -0.013077  0.002601 -0.021801  0.004184   \n",
       "YearsCodePro            0.007930  ...  0.027231 -0.049048 -0.021733 -0.026081   \n",
       "...                          ...  ...       ...       ...       ...       ...   \n",
       "React.js                0.046807  ... -0.025933 -0.067846 -0.049385 -0.025469   \n",
       "Ruby on Rails           0.002806  ... -0.012538 -0.032801 -0.023876 -0.012313   \n",
       "Spring                 -0.027105  ... -0.020639 -0.053996 -0.039303 -0.020270   \n",
       "Vue.js                  0.007216  ... -0.007707 -0.020163 -0.014677 -0.007569   \n",
       "jQuery                 -0.013066  ... -0.038021 -0.099470 -0.072404 -0.037341   \n",
       "\n",
       "               Other(s):  React.js  Ruby on Rails    Spring    Vue.js  \\\n",
       "Respondent      0.002264 -0.008995      -0.003792 -0.008813  0.001457   \n",
       "index           0.002264 -0.008995      -0.003792 -0.008813  0.001457   \n",
       "YearsCode       0.018725  0.002498       0.014308  0.012753  0.001502   \n",
       "Age1stCode     -0.000796 -0.012122      -0.013462  0.024248 -0.014267   \n",
       "YearsCodePro    0.019863 -0.000297       0.019337  0.010827  0.000616   \n",
       "...                  ...       ...            ...       ...       ...   \n",
       "React.js       -0.030601  1.000000      -0.027281 -0.044909 -0.016770   \n",
       "Ruby on Rails  -0.014795 -0.027281       1.000000 -0.021712 -0.008108   \n",
       "Spring         -0.024354 -0.044909      -0.021712  1.000000 -0.013347   \n",
       "Vue.js         -0.009094 -0.016770      -0.008108 -0.013347  1.000000   \n",
       "jQuery         -0.044865 -0.082731      -0.039998 -0.065842 -0.024587   \n",
       "\n",
       "                 jQuery  \n",
       "Respondent     0.010374  \n",
       "index          0.010374  \n",
       "YearsCode     -0.008910  \n",
       "Age1stCode     0.010630  \n",
       "YearsCodePro  -0.009832  \n",
       "...                 ...  \n",
       "React.js      -0.082731  \n",
       "Ruby on Rails -0.039998  \n",
       "Spring        -0.065842  \n",
       "Vue.js        -0.024587  \n",
       "jQuery         1.000000  \n",
       "\n",
       "[79 rows x 79 columns]"
      ]
     },
     "execution_count": 111,
     "metadata": {},
     "output_type": "execute_result"
    }
   ],
   "source": [
    "kendall=df3n.corr('kendall')\n",
    "kendall"
   ]
  },
  {
   "cell_type": "code",
   "execution_count": 112,
   "metadata": {},
   "outputs": [],
   "source": [
    "df4n=df3n[['ConvertedComp','YearsCode','YearsCodePro','Age']]"
   ]
  },
  {
   "cell_type": "code",
   "execution_count": 113,
   "metadata": {},
   "outputs": [],
   "source": [
    "def PollyPlot(xtrain, xtest, y_train, y_test, lr,poly_transform):\n",
    "    width = 12\n",
    "    height = 10\n",
    "    plt.figure(figsize=(width, height))\n",
    "    \n",
    "    \n",
    "    #training data \n",
    "    #testing data \n",
    "    # lr:  linear regression object \n",
    "    #poly_transform:  polynomial transformation object \n",
    " \n",
    "    xmax=max([xtrain.values.max(), xtest.values.max()])\n",
    "\n",
    "    xmin=min([xtrain.values.min(), xtest.values.min()])\n",
    "\n",
    "    x=np.arange(xmin, xmax, 0.1)\n",
    "\n",
    "\n",
    "    plt.plot(xtrain, y_train, 'ro', label='Training Data')\n",
    "    plt.plot(xtest, y_test, 'go', label='Test Data')\n",
    "    plt.plot(x, lr.predict(poly_transform.fit_transform(x.reshape(-1, 1))), label='Predicted Function')\n",
    "    plt.ylim([-10000, 60000])\n",
    "    plt.ylabel('Price')\n",
    "    plt.legend()"
   ]
  },
  {
   "cell_type": "code",
   "execution_count": 114,
   "metadata": {},
   "outputs": [],
   "source": [
    "y_data = df4n['ConvertedComp']"
   ]
  },
  {
   "cell_type": "code",
   "execution_count": 115,
   "metadata": {},
   "outputs": [],
   "source": [
    "x_data=df4n.drop('ConvertedComp',axis=1)"
   ]
  },
  {
   "cell_type": "code",
   "execution_count": 116,
   "metadata": {},
   "outputs": [
    {
     "name": "stdout",
     "output_type": "stream",
     "text": [
      "number of test samples : 2904\n",
      "number of training samples: 6775\n"
     ]
    }
   ],
   "source": [
    "from sklearn.model_selection import train_test_split\n",
    "\n",
    "\n",
    "x_train, x_test, y_train, y_test = train_test_split(x_data, y_data, test_size=0.3, random_state=1)\n",
    "\n",
    "\n",
    "print(\"number of test samples :\", x_test.shape[0])\n",
    "print(\"number of training samples:\",x_train.shape[0])"
   ]
  },
  {
   "cell_type": "code",
   "execution_count": 117,
   "metadata": {},
   "outputs": [],
   "source": [
    "from sklearn.linear_model import LinearRegression"
   ]
  },
  {
   "cell_type": "code",
   "execution_count": 118,
   "metadata": {},
   "outputs": [],
   "source": [
    "lre=LinearRegression()"
   ]
  },
  {
   "cell_type": "code",
   "execution_count": 119,
   "metadata": {},
   "outputs": [
    {
     "data": {
      "text/plain": [
       "LinearRegression()"
      ]
     },
     "execution_count": 119,
     "metadata": {},
     "output_type": "execute_result"
    }
   ],
   "source": [
    "lre.fit(x_train[['YearsCodePro']], y_train)"
   ]
  },
  {
   "cell_type": "code",
   "execution_count": 120,
   "metadata": {},
   "outputs": [
    {
     "name": "stdout",
     "output_type": "stream",
     "text": [
      "YearsCodePro Ire score train: 0.08894788635887196\n",
      "YearsCodePro Ire score test: 0.09640684998852622\n"
     ]
    }
   ],
   "source": [
    "print('YearsCodePro Ire score train:',lre.score(x_train[['YearsCodePro']], y_train))\n",
    "print('YearsCodePro Ire score test:',lre.score(x_test[['YearsCodePro']], y_test))"
   ]
  },
  {
   "cell_type": "code",
   "execution_count": 121,
   "metadata": {},
   "outputs": [
    {
     "data": {
      "text/plain": [
       "LinearRegression()"
      ]
     },
     "execution_count": 121,
     "metadata": {},
     "output_type": "execute_result"
    }
   ],
   "source": [
    "lre.fit(x_train[['YearsCode']], y_train)"
   ]
  },
  {
   "cell_type": "code",
   "execution_count": 122,
   "metadata": {},
   "outputs": [
    {
     "name": "stdout",
     "output_type": "stream",
     "text": [
      "YearsCode Ire score train: 0.08579854179149682\n",
      "YearsCode Ire score test: 0.08344655780599008\n"
     ]
    }
   ],
   "source": [
    "print('YearsCode Ire score train:',lre.score(x_train[['YearsCode']], y_train))\n",
    "print('YearsCode Ire score test:',lre.score(x_test[['YearsCode']], y_test))"
   ]
  },
  {
   "cell_type": "code",
   "execution_count": 123,
   "metadata": {},
   "outputs": [
    {
     "data": {
      "text/plain": [
       "LinearRegression()"
      ]
     },
     "execution_count": 123,
     "metadata": {},
     "output_type": "execute_result"
    }
   ],
   "source": [
    "lre.fit(x_train[['Age']], y_train)"
   ]
  },
  {
   "cell_type": "code",
   "execution_count": 124,
   "metadata": {},
   "outputs": [
    {
     "name": "stdout",
     "output_type": "stream",
     "text": [
      "Age Ire score train: 0.08258471865502437\n",
      "Age Ire score test: 0.09090573671242375\n"
     ]
    }
   ],
   "source": [
    "print('Age Ire score train:',lre.score(x_train[['Age']], y_train))\n",
    "print('Age Ire score test:',lre.score(x_test[['Age']], y_test))"
   ]
  },
  {
   "cell_type": "code",
   "execution_count": 125,
   "metadata": {},
   "outputs": [],
   "source": [
    "from sklearn.model_selection import cross_val_score\n",
    "Rcross1 = cross_val_score(lre, x_data[['YearsCode']], y_data, cv=4)"
   ]
  },
  {
   "cell_type": "code",
   "execution_count": 126,
   "metadata": {},
   "outputs": [
    {
     "name": "stdout",
     "output_type": "stream",
     "text": [
      "The mean of the folds are 0.08378586126036122 and the standard deviation is 0.004333112045048878\n"
     ]
    }
   ],
   "source": [
    "print(\"The mean of the folds are\", Rcross1.mean(), \"and the standard deviation is\" , Rcross1.std())"
   ]
  },
  {
   "cell_type": "code",
   "execution_count": 127,
   "metadata": {},
   "outputs": [
    {
     "name": "stdout",
     "output_type": "stream",
     "text": [
      "The mean of the folds are 0.08365924795741903 and the standard deviation is 0.00853497257615371\n"
     ]
    }
   ],
   "source": [
    "Rcross2 = cross_val_score(lre, x_data[['Age']], y_data, cv=4)\n",
    "print(\"The mean of the folds are\", Rcross2.mean(), \"and the standard deviation is\" , Rcross2.std())"
   ]
  },
  {
   "cell_type": "code",
   "execution_count": 128,
   "metadata": {},
   "outputs": [],
   "source": [
    "from sklearn.model_selection import cross_val_predict"
   ]
  },
  {
   "cell_type": "code",
   "execution_count": 129,
   "metadata": {},
   "outputs": [
    {
     "data": {
      "text/plain": [
       "LinearRegression()"
      ]
     },
     "execution_count": 129,
     "metadata": {},
     "output_type": "execute_result"
    }
   ],
   "source": [
    "lr = LinearRegression()\n",
    "lr.fit(x_train, y_train)"
   ]
  },
  {
   "cell_type": "code",
   "execution_count": 130,
   "metadata": {},
   "outputs": [
    {
     "data": {
      "text/plain": [
       "array([ 49052.14019637,  70240.79871051,  55167.05485851,  62400.75022094,\n",
       "       108411.48080859])"
      ]
     },
     "execution_count": 130,
     "metadata": {},
     "output_type": "execute_result"
    }
   ],
   "source": [
    "yhat_train = lr.predict(x_train)\n",
    "yhat_train[0:5]"
   ]
  },
  {
   "cell_type": "code",
   "execution_count": 131,
   "metadata": {},
   "outputs": [
    {
     "data": {
      "text/plain": [
       "array([62612.35383225, 54325.72787247, 57963.81548136, 63467.70296684,\n",
       "       57738.1897215 ])"
      ]
     },
     "execution_count": 131,
     "metadata": {},
     "output_type": "execute_result"
    }
   ],
   "source": [
    "yhat_test = lr.predict(x_test)\n",
    "yhat_test[0:5]\n"
   ]
  },
  {
   "cell_type": "code",
   "execution_count": 132,
   "metadata": {},
   "outputs": [
    {
     "data": {
      "text/plain": [
       "LinearRegression()"
      ]
     },
     "execution_count": 132,
     "metadata": {},
     "output_type": "execute_result"
    }
   ],
   "source": [
    "poly = LinearRegression()\n",
    "poly.fit(x_train, y_train)"
   ]
  },
  {
   "cell_type": "code",
   "execution_count": 133,
   "metadata": {},
   "outputs": [
    {
     "data": {
      "text/plain": [
       "0.10028685893921929"
      ]
     },
     "execution_count": 133,
     "metadata": {},
     "output_type": "execute_result"
    }
   ],
   "source": [
    "poly.score(x_train, y_train)"
   ]
  },
  {
   "cell_type": "code",
   "execution_count": 134,
   "metadata": {},
   "outputs": [
    {
     "data": {
      "text/plain": [
       "0.1067344999345986"
      ]
     },
     "execution_count": 134,
     "metadata": {},
     "output_type": "execute_result"
    }
   ],
   "source": [
    "poly.score(x_test, y_test)"
   ]
  },
  {
   "cell_type": "code",
   "execution_count": 135,
   "metadata": {},
   "outputs": [
    {
     "name": "stderr",
     "output_type": "stream",
     "text": [
      "c:\\Users\\jandr\\anaconda3\\lib\\site-packages\\seaborn\\distributions.py:2619: FutureWarning: `distplot` is a deprecated function and will be removed in a future version. Please adapt your code to use either `displot` (a figure-level function with similar flexibility) or `kdeplot` (an axes-level function for kernel density plots).\n",
      "  warnings.warn(msg, FutureWarning)\n",
      "c:\\Users\\jandr\\anaconda3\\lib\\site-packages\\seaborn\\distributions.py:2619: FutureWarning: `distplot` is a deprecated function and will be removed in a future version. Please adapt your code to use either `displot` (a figure-level function with similar flexibility) or `kdeplot` (an axes-level function for kernel density plots).\n",
      "  warnings.warn(msg, FutureWarning)\n"
     ]
    },
    {
     "data": {
      "image/png": "[encoded data removed]",
      "text/plain": [
       "<Figure size 864x720 with 1 Axes>"
      ]
     },
     "metadata": {
      "needs_background": "light"
     },
     "output_type": "display_data"
    }
   ],
   "source": [
    "Title = 'Distribution  Plot of  Predicted Value Using Training Data vs Training Data Distribution'\n",
    "DistributionPlot(y_train, yhat_train, \"Actual Values (Train)\", \"Predicted Values (Train)\", Title)"
   ]
  },
  {
   "cell_type": "code",
   "execution_count": 136,
   "metadata": {},
   "outputs": [],
   "source": [
    "from sklearn.preprocessing import PolynomialFeatures"
   ]
  },
  {
   "cell_type": "code",
   "execution_count": 137,
   "metadata": {},
   "outputs": [],
   "source": [
    "x_train, x_test, y_train, y_test = train_test_split(x_data, y_data, test_size=0.3, random_state=0)"
   ]
  },
  {
   "cell_type": "code",
   "execution_count": 138,
   "metadata": {},
   "outputs": [
    {
     "data": {
      "text/plain": [
       "Text(3, 0.75, 'Maximum R^2 ')"
      ]
     },
     "execution_count": 138,
     "metadata": {},
     "output_type": "execute_result"
    },
    {
     "data": {
      "image/png": "[encoded data removed]",
      "text/plain": [
       "<Figure size 432x288 with 1 Axes>"
      ]
     },
     "metadata": {
      "needs_background": "light"
     },
     "output_type": "display_data"
    }
   ],
   "source": [
    "Rsqu_test = []\n",
    "\n",
    "order = [1, 2, 3, 4]\n",
    "for n in order:\n",
    "    pr = PolynomialFeatures(degree=n)\n",
    "    \n",
    "    x_train_pr = pr.fit_transform(x_train)\n",
    "    \n",
    "    x_test_pr = pr.fit_transform(x_test)    \n",
    "    \n",
    "    lr.fit(x_train_pr, y_train)\n",
    "    \n",
    "    Rsqu_test.append(lr.score(x_test_pr, y_test))\n",
    "\n",
    "plt.plot(order, Rsqu_test)\n",
    "plt.xlabel('order')\n",
    "plt.ylabel('R^2')\n",
    "plt.title('R^2 Using Test Data')\n",
    "plt.text(3, 0.75, 'Maximum R^2 ')   "
   ]
  },
  {
   "cell_type": "code",
   "execution_count": 139,
   "metadata": {},
   "outputs": [
    {
     "data": {
      "text/plain": [
       "PolynomialFeatures(degree=(1, 2))"
      ]
     },
     "execution_count": 139,
     "metadata": {},
     "output_type": "execute_result"
    }
   ],
   "source": [
    "pr = PolynomialFeatures(degree=(1, 2))\n",
    "x_train_pr = pr.fit_transform(x_train)\n",
    "x_test_pr = pr.fit_transform(x_test)\n",
    "pr"
   ]
  },
  {
   "cell_type": "code",
   "execution_count": 140,
   "metadata": {},
   "outputs": [
    {
     "data": {
      "text/plain": [
       "LinearRegression()"
      ]
     },
     "execution_count": 140,
     "metadata": {},
     "output_type": "execute_result"
    }
   ],
   "source": [
    "poly = LinearRegression()\n",
    "poly.fit(x_train_pr, y_train)"
   ]
  },
  {
   "cell_type": "code",
   "execution_count": 141,
   "metadata": {},
   "outputs": [
    {
     "data": {
      "text/plain": [
       "array([59095.84858124, 91288.72186377, 80044.89133624, 33920.7008523 ,\n",
       "       66423.18352497])"
      ]
     },
     "execution_count": 141,
     "metadata": {},
     "output_type": "execute_result"
    }
   ],
   "source": [
    "yhat = poly.predict(x_test_pr)\n",
    "yhat[0:5]"
   ]
  },
  {
   "cell_type": "code",
   "execution_count": 142,
   "metadata": {},
   "outputs": [
    {
     "name": "stdout",
     "output_type": "stream",
     "text": [
      "Predicted values: [59095.84858124 91288.72186377 80044.89133624 33920.7008523 ]\n",
      "True values: [ 29242  40800 130000  14832]\n"
     ]
    }
   ],
   "source": [
    "print(\"Predicted values:\", yhat[0:4])\n",
    "print(\"True values:\", y_test[0:4].values)"
   ]
  },
  {
   "cell_type": "code",
   "execution_count": 143,
   "metadata": {},
   "outputs": [
    {
     "name": "stderr",
     "output_type": "stream",
     "text": [
      "c:\\Users\\jandr\\anaconda3\\lib\\site-packages\\seaborn\\distributions.py:2619: FutureWarning: `distplot` is a deprecated function and will be removed in a future version. Please adapt your code to use either `displot` (a figure-level function with similar flexibility) or `kdeplot` (an axes-level function for kernel density plots).\n",
      "  warnings.warn(msg, FutureWarning)\n",
      "c:\\Users\\jandr\\anaconda3\\lib\\site-packages\\seaborn\\distributions.py:2619: FutureWarning: `distplot` is a deprecated function and will be removed in a future version. Please adapt your code to use either `displot` (a figure-level function with similar flexibility) or `kdeplot` (an axes-level function for kernel density plots).\n",
      "  warnings.warn(msg, FutureWarning)\n"
     ]
    },
    {
     "data": {
      "image/png": "[encoded data removed]",
      "text/plain": [
       "<Figure size 864x720 with 1 Axes>"
      ]
     },
     "metadata": {
      "needs_background": "light"
     },
     "output_type": "display_data"
    }
   ],
   "source": [
    "Title = 'Distribution  Plot of  Predicted Value Using Training Data vs Training Data Distribution'\n",
    "DistributionPlot(y_test, yhat, \"Actual Values (Train)\", \"Predicted Values (Train)\", Title)"
   ]
  },
  {
   "cell_type": "code",
   "execution_count": 144,
   "metadata": {},
   "outputs": [
    {
     "data": {
      "text/plain": [
       "0.10513166746118252"
      ]
     },
     "execution_count": 144,
     "metadata": {},
     "output_type": "execute_result"
    }
   ],
   "source": [
    "poly.score(x_train_pr, y_train)"
   ]
  },
  {
   "cell_type": "code",
   "execution_count": 145,
   "metadata": {},
   "outputs": [
    {
     "data": {
      "text/plain": [
       "0.11926262111574137"
      ]
     },
     "execution_count": 145,
     "metadata": {},
     "output_type": "execute_result"
    }
   ],
   "source": [
    "poly.score(x_test_pr, y_test)"
   ]
  },
  {
   "cell_type": "code",
   "execution_count": 146,
   "metadata": {},
   "outputs": [],
   "source": [
    "def f(order, test_data):\n",
    "    x_train, x_test, y_train, y_test = train_test_split(x_data, y_data, test_size=test_data, random_state=0)\n",
    "    pr = PolynomialFeatures(degree=order)\n",
    "    x_train_pr.values = pr.fit_transform(x_train)\n",
    "    x_test_pr.values = pr.fit_transform(x_test)\n",
    "    poly = LinearRegression()\n",
    "    poly.fit(x_train_pr,y_train)\n",
    "    PollyPlot(x_train, x_test, y_train,y_test, poly, pr)"
   ]
  }
 ],
 "metadata": {
  "kernelspec": {
   "display_name": "Python 3.9.12 ('base')",
   "language": "python",
   "name": "python3"
  },
  "language_info": {
   "codemirror_mode": {
    "name": "ipython",
    "version": 3
   },
   "file_extension": ".py",
   "mimetype": "text/x-python",
   "name": "python",
   "nbconvert_exporter": "python",
   "pygments_lexer": "ipython3",
   "version": "3.9.12"
  },
  "orig_nbformat": 4,
  "vscode": {
   "interpreter": {
    "hash": "363dbcadcce763e2658227622637e13c9138c617211e4079e4066c9501ec563e"
   }
  }
 },
 "nbformat": 4,
 "nbformat_minor": 2
}
